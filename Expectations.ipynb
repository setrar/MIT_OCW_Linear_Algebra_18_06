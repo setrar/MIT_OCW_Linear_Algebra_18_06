{
 "cells": [
  {
   "cell_type": "code",
   "execution_count": 44,
   "id": "26c23334-9c44-4416-bce2-e152a06b1d2a",
   "metadata": {},
   "outputs": [],
   "source": [
    "using Distributions\n",
    "using Expectations"
   ]
  },
  {
   "cell_type": "code",
   "execution_count": 55,
   "id": "ae2dc1a6-7367-44b7-af98-5b5b1bcd8148",
   "metadata": {},
   "outputs": [
    {
     "data": {
      "text/plain": [
       "-4.052286867506662e-18"
      ]
     },
     "execution_count": 55,
     "metadata": {},
     "output_type": "execute_result"
    }
   ],
   "source": [
    "𝑁 = Normal()\n",
    "Eₙ = expectation(𝑁)\n",
    "Eₙ(x -> x)"
   ]
  },
  {
   "cell_type": "code",
   "execution_count": 56,
   "id": "7199d473-54f8-4a1c-a442-6993691d8d02",
   "metadata": {},
   "outputs": [
    {
     "data": {
      "text/plain": [
       "0.9999999999999988"
      ]
     },
     "execution_count": 56,
     "metadata": {},
     "output_type": "execute_result"
    }
   ],
   "source": [
    "expectation(x->x^2, 𝑁)"
   ]
  },
  {
   "cell_type": "code",
   "execution_count": 48,
   "id": "ddaa1108-2830-4f03-bd0e-0ed4d2648d24",
   "metadata": {},
   "outputs": [],
   "source": [
    "using LinearAlgebra"
   ]
  },
  {
   "cell_type": "code",
   "execution_count": 109,
   "id": "4cf64ea5-8ab2-463e-a218-c6fce79a8435",
   "metadata": {},
   "outputs": [
    {
     "data": {
      "text/plain": [
       "true"
      ]
     },
     "execution_count": 109,
     "metadata": {},
     "output_type": "execute_result"
    }
   ],
   "source": [
    "x = nodes(Eₙ)\n",
    "p(x) = x^2\n",
    "Eₙ * p.(x) == p.(x) ⋅ weights(Eₙ)"
   ]
  },
  {
   "cell_type": "code",
   "execution_count": 110,
   "id": "fb7fb130-b772-4aff-8fb6-c274cf92fb39",
   "metadata": {},
   "outputs": [
    {
     "data": {
      "text/plain": [
       "0.5000000000000014"
      ]
     },
     "execution_count": 110,
     "metadata": {},
     "output_type": "execute_result"
    }
   ],
   "source": [
    "dₓ = MixtureModel([Uniform(), Normal(), Gamma()]);\n",
    "Eₓ = expectation(dₓ);\n",
    "Eₓ(x -> x) # 0.5000000000000016"
   ]
  },
  {
   "cell_type": "code",
   "execution_count": 111,
   "id": "86b9aca8-8bfd-4f60-afcf-6f637953bea2",
   "metadata": {},
   "outputs": [
    {
     "data": {
      "text/plain": [
       "1.0000000000000029"
      ]
     },
     "execution_count": 111,
     "metadata": {},
     "output_type": "execute_result"
    }
   ],
   "source": [
    "2Eₓ(x -> x) # 1.000000000000003"
   ]
  },
  {
   "cell_type": "code",
   "execution_count": 112,
   "id": "4267d3fb-e385-4126-8f91-41b3d506b60c",
   "metadata": {},
   "outputs": [
    {
     "data": {
      "text/plain": [
       "3-element Vector{Float64}:\n",
       " 0.3333333333333333\n",
       " 0.3333333333333333\n",
       " 0.3333333333333333"
      ]
     },
     "execution_count": 112,
     "metadata": {},
     "output_type": "execute_result"
    }
   ],
   "source": [
    "weights(Eₓ) # [1/3, 1/3, 1/3]"
   ]
  },
  {
   "cell_type": "code",
   "execution_count": 113,
   "id": "23b02480-ddd6-4b9e-b2c6-28599b03b3aa",
   "metadata": {},
   "outputs": [
    {
     "data": {
      "text/plain": [
       "3-element Vector{IterableExpectation{Vector{Float64}, Vector{Float64}}}:\n",
       " IterableExpectation{Vector{Float64}, Vector{Float64}}([0.001553257962675192, 0.008165938360126412, 0.019989067515846226, 0.036899976285362845, 0.05871973210397369, 0.08521711880861582, 0.11611128394758691, 0.15107475260334208, 0.18973690850537855, 0.23168792592899007  …  0.7683120740710099, 0.8102630914946214, 0.848925247396658, 0.8838887160524131, 0.9147828811913842, 0.9412802678960264, 0.9631000237146372, 0.9800109324841537, 0.9918340616398735, 0.9984467420373249], [0.003984096248083259, 0.009233234155545427, 0.014392353941661636, 0.01939959628481351, 0.024201336415297037, 0.028746578108809543, 0.03298711494109026, 0.036877987368852574, 0.040377947614710114, 0.04344989360054148  …  0.04344989360054148, 0.040377947614710114, 0.036877987368852574, 0.03298711494109026, 0.028746578108809543, 0.024201336415297037, 0.01939959628481351, 0.014392353941661636, 0.009233234155545427, 0.003984096248083259])\n",
       " IterableExpectation{Vector{Float64}, Vector{Float64}}([-9.706235997359522, -8.680837722732212, -7.825051744352812, -7.055396866960293, -6.339997686869597, -5.662381850082874, -5.012600596486518, -4.384020365898052, -3.7718944231592366, -3.1726346394204032  …  3.1726346394204032, 3.7718944231592366, 4.384020365898052, 5.012600596486518, 5.662381850082874, 6.339997686869597, 7.055396866960293, 7.825051744352812, 8.680837722732212, 9.706235997359522], [1.6408069991319635e-21, 1.5855609449663175e-17, 1.624080129972418e-14, 4.573425871326197e-12, 5.178459467189773e-10, 2.8821751540476502e-8, 8.909088868621241e-7, 1.6579981630673396e-5, 0.00019651294398482594, 0.0015447073398660851  …  0.0015447073398660851, 0.00019651294398482594, 1.6579981630673396e-5, 8.909088868621241e-7, 2.8821751540476502e-8, 5.178459467189773e-10, 4.573425871326197e-12, 1.624080129972418e-14, 1.5855609449663175e-17, 1.6408069991319635e-21])\n",
       " IterableExpectation{Vector{Float64}, Vector{Float64}}([0.04448936583326675, 0.23452610951961822, 0.5768846293018851, 1.0724487538178178, 1.7224087764446459, 2.5283367064257956, 3.4922132730219944, 4.616456769749767, 5.903958504174245, 7.358126733186242  …  44.50920799575494, 49.22439498730864, 54.33372133339691, 59.89250916213402, 65.97537728793506, 72.68762809066271, 80.18744697791352, 88.7353404178924, 98.82954286828398, 111.7513980979377], [0.10921834195236964, 0.21044310793883128, 0.23521322966984406, 0.1959033359728804, 0.12998378628607243, 0.07057862386571843, 0.03176091250917527, 0.011918214834838561, 0.0037388162946115316, 0.0009808033066149562  …  2.1197922901636102e-19, 2.054429673788039e-21, 1.3469825866373934e-23, 5.661294130397274e-26, 1.418560545462764e-28, 1.9133754944542112e-31, 1.1922487600982224e-34, 2.6715112192401224e-38, 1.3386169421062427e-42, 4.5105361938989814e-48])"
      ]
     },
     "execution_count": 113,
     "metadata": {},
     "output_type": "execute_result"
    }
   ],
   "source": [
    "expectations(Eₓ) # component expectations"
   ]
  },
  {
   "cell_type": "code",
   "execution_count": 114,
   "id": "c123066d-0552-4026-9382-79b0e564d2af",
   "metadata": {},
   "outputs": [
    {
     "data": {
      "text/plain": [
       "0.49999999999999994"
      ]
     },
     "execution_count": 114,
     "metadata": {},
     "output_type": "execute_result"
    }
   ],
   "source": [
    "𝑈 = Uniform()\n",
    "Eᵤ = expectation(𝑈)\n",
    "Eᵤ(x -> x)"
   ]
  },
  {
   "cell_type": "markdown",
   "id": "13ed526c-880d-4faf-b6bb-54bb880ba62a",
   "metadata": {},
   "source": [
    "# References\n",
    "- [ ] [Expectation operators for Distributions.jl objects](https://github.com/QuantEcon/Expectations.jl)"
   ]
  },
  {
   "cell_type": "code",
   "execution_count": 148,
   "id": "b593467a-1136-4bba-91c3-fd418a94d06b",
   "metadata": {},
   "outputs": [
    {
     "name": "stdout",
     "output_type": "stream",
     "text": [
      "(typeof(xs), typeof(ps)) = (Vector{Float64}, Vector{Float64})\n"
     ]
    }
   ],
   "source": [
    "using Expectations\n",
    "\n",
    "# Example: Rolling a fair six-sided die\n",
    "xs = [1.0, 2.0, 3.0, 4.0, 5.0, 6.0]\n",
    "pmf = fill(1/6, 6)  # Assuming a fair die\n",
    "\n",
    "# Define the distribution\n",
    "d = DiscreteNonParametric(sort(xs), pmf)\n",
    "\n",
    "@show typeof(xs), typeof(ps);"
   ]
  },
  {
   "cell_type": "code",
   "execution_count": 143,
   "id": "a2adef58-3cf8-40d4-adf4-8060a26dca07",
   "metadata": {},
   "outputs": [
    {
     "data": {
      "text/plain": [
       "true"
      ]
     },
     "execution_count": 143,
     "metadata": {},
     "output_type": "execute_result"
    }
   ],
   "source": [
    "mean(d) == sum(xs .* pmf)"
   ]
  },
  {
   "cell_type": "code",
   "execution_count": 160,
   "id": "034a74e5-94bf-427d-91d4-96fc6756398e",
   "metadata": {},
   "outputs": [
    {
     "data": {
      "image/png": "[encoded data removed]",
      "image/svg+xml": [
       "<?xml version=\"1.0\" encoding=\"utf-8\"?>\n",
       "<svg xmlns=\"http://www.w3.org/2000/svg\" xmlns:xlink=\"http://www.w3.org/1999/xlink\" width=\"600\" height=\"400\" viewBox=\"0 0 2400 1600\">\n",
       "<defs>\n",
       "  <clipPath id=\"clip510\">\n",
       "    <rect x=\"0\" y=\"0\" width=\"2400\" height=\"1600\"/>\n",
       "  </clipPath>\n",
       "</defs>\n",
       "<path clip-path=\"url(#clip510)\" d=\"M0 1600 L2400 1600 L2400 0 L0 0  Z\" fill=\"#ffffff\" fill-rule=\"evenodd\" fill-opacity=\"1\"/>\n",
       "<defs>\n",
       "  <clipPath id=\"clip511\">\n",
       "    <rect x=\"480\" y=\"0\" width=\"1681\" height=\"1600\"/>\n",
       "  </clipPath>\n",
       "</defs>\n",
       "<path clip-path=\"url(#clip510)\" d=\"M186.274 1486.45 L2352.76 1486.45 L2352.76 47.2441 L186.274 47.2441  Z\" fill=\"#ffffff\" fill-rule=\"evenodd\" fill-opacity=\"1\"/>\n",
       "<defs>\n",
       "  <clipPath id=\"clip512\">\n",
       "    <rect x=\"186\" y=\"47\" width=\"2167\" height=\"1440\"/>\n",
       "  </clipPath>\n",
       "</defs>\n",
       "<polyline clip-path=\"url(#clip512)\" style=\"stroke:#000000; stroke-linecap:round; stroke-linejoin:round; stroke-width:2; stroke-opacity:0.1; fill:none\" points=\"438.411,1486.45 438.411,47.2441 \"/>\n",
       "<polyline clip-path=\"url(#clip512)\" style=\"stroke:#000000; stroke-linecap:round; stroke-linejoin:round; stroke-width:2; stroke-opacity:0.1; fill:none\" points=\"770.853,1486.45 770.853,47.2441 \"/>\n",
       "<polyline clip-path=\"url(#clip512)\" style=\"stroke:#000000; stroke-linecap:round; stroke-linejoin:round; stroke-width:2; stroke-opacity:0.1; fill:none\" points=\"1103.29,1486.45 1103.29,47.2441 \"/>\n",
       "<polyline clip-path=\"url(#clip512)\" style=\"stroke:#000000; stroke-linecap:round; stroke-linejoin:round; stroke-width:2; stroke-opacity:0.1; fill:none\" points=\"1435.74,1486.45 1435.74,47.2441 \"/>\n",
       "<polyline clip-path=\"url(#clip512)\" style=\"stroke:#000000; stroke-linecap:round; stroke-linejoin:round; stroke-width:2; stroke-opacity:0.1; fill:none\" points=\"1768.18,1486.45 1768.18,47.2441 \"/>\n",
       "<polyline clip-path=\"url(#clip512)\" style=\"stroke:#000000; stroke-linecap:round; stroke-linejoin:round; stroke-width:2; stroke-opacity:0.1; fill:none\" points=\"2100.62,1486.45 2100.62,47.2441 \"/>\n",
       "<polyline clip-path=\"url(#clip510)\" style=\"stroke:#000000; stroke-linecap:round; stroke-linejoin:round; stroke-width:4; stroke-opacity:1; fill:none\" points=\"186.274,1486.45 2352.76,1486.45 \"/>\n",
       "<polyline clip-path=\"url(#clip510)\" style=\"stroke:#000000; stroke-linecap:round; stroke-linejoin:round; stroke-width:4; stroke-opacity:1; fill:none\" points=\"438.411,1486.45 438.411,1467.55 \"/>\n",
       "<polyline clip-path=\"url(#clip510)\" style=\"stroke:#000000; stroke-linecap:round; stroke-linejoin:round; stroke-width:4; stroke-opacity:1; fill:none\" points=\"770.853,1486.45 770.853,1467.55 \"/>\n",
       "<polyline clip-path=\"url(#clip510)\" style=\"stroke:#000000; stroke-linecap:round; stroke-linejoin:round; stroke-width:4; stroke-opacity:1; fill:none\" points=\"1103.29,1486.45 1103.29,1467.55 \"/>\n",
       "<polyline clip-path=\"url(#clip510)\" style=\"stroke:#000000; stroke-linecap:round; stroke-linejoin:round; stroke-width:4; stroke-opacity:1; fill:none\" points=\"1435.74,1486.45 1435.74,1467.55 \"/>\n",
       "<polyline clip-path=\"url(#clip510)\" style=\"stroke:#000000; stroke-linecap:round; stroke-linejoin:round; stroke-width:4; stroke-opacity:1; fill:none\" points=\"1768.18,1486.45 1768.18,1467.55 \"/>\n",
       "<polyline clip-path=\"url(#clip510)\" style=\"stroke:#000000; stroke-linecap:round; stroke-linejoin:round; stroke-width:4; stroke-opacity:1; fill:none\" points=\"2100.62,1486.45 2100.62,1467.55 \"/>\n",
       "<path clip-path=\"url(#clip510)\" d=\"M428.793 1544.91 L436.432 1544.91 L436.432 1518.55 L428.122 1520.21 L428.122 1515.95 L436.386 1514.29 L441.061 1514.29 L441.061 1544.91 L448.7 1544.91 L448.7 1548.85 L428.793 1548.85 L428.793 1544.91 Z\" fill=\"#000000\" fill-rule=\"nonzero\" fill-opacity=\"1\" /><path clip-path=\"url(#clip510)\" d=\"M765.505 1544.91 L781.825 1544.91 L781.825 1548.85 L759.88 1548.85 L759.88 1544.91 Q762.542 1542.16 767.126 1537.53 Q771.732 1532.88 772.913 1531.53 Q775.158 1529.01 776.038 1527.27 Q776.941 1525.51 776.941 1523.82 Q776.941 1521.07 774.996 1519.33 Q773.075 1517.6 769.973 1517.6 Q767.774 1517.6 765.32 1518.36 Q762.89 1519.13 760.112 1520.68 L760.112 1515.95 Q762.936 1514.82 765.39 1514.24 Q767.843 1513.66 769.88 1513.66 Q775.251 1513.66 778.445 1516.35 Q781.64 1519.03 781.64 1523.52 Q781.64 1525.65 780.829 1527.57 Q780.042 1529.47 777.936 1532.07 Q777.357 1532.74 774.255 1535.95 Q771.154 1539.15 765.505 1544.91 Z\" fill=\"#000000\" fill-rule=\"nonzero\" fill-opacity=\"1\" /><path clip-path=\"url(#clip510)\" d=\"M1107.54 1530.21 Q1110.9 1530.93 1112.77 1533.2 Q1114.67 1535.47 1114.67 1538.8 Q1114.67 1543.92 1111.15 1546.72 Q1107.63 1549.52 1101.15 1549.52 Q1098.98 1549.52 1096.66 1549.08 Q1094.37 1548.66 1091.92 1547.81 L1091.92 1543.29 Q1093.86 1544.43 1096.18 1545.01 Q1098.49 1545.58 1101.01 1545.58 Q1105.41 1545.58 1107.7 1543.85 Q1110.02 1542.11 1110.02 1538.8 Q1110.02 1535.75 1107.87 1534.03 Q1105.74 1532.3 1101.92 1532.3 L1097.89 1532.3 L1097.89 1528.45 L1102.1 1528.45 Q1105.55 1528.45 1107.38 1527.09 Q1109.21 1525.7 1109.21 1523.11 Q1109.21 1520.45 1107.31 1519.03 Q1105.44 1517.6 1101.92 1517.6 Q1100 1517.6 1097.8 1518.01 Q1095.6 1518.43 1092.96 1519.31 L1092.96 1515.14 Q1095.62 1514.4 1097.94 1514.03 Q1100.27 1513.66 1102.33 1513.66 Q1107.66 1513.66 1110.76 1516.09 Q1113.86 1518.5 1113.86 1522.62 Q1113.86 1525.49 1112.22 1527.48 Q1110.57 1529.45 1107.54 1530.21 Z\" fill=\"#000000\" fill-rule=\"nonzero\" fill-opacity=\"1\" /><path clip-path=\"url(#clip510)\" d=\"M1438.74 1518.36 L1426.94 1536.81 L1438.74 1536.81 L1438.74 1518.36 M1437.52 1514.29 L1443.4 1514.29 L1443.4 1536.81 L1448.33 1536.81 L1448.33 1540.7 L1443.4 1540.7 L1443.4 1548.85 L1438.74 1548.85 L1438.74 1540.7 L1423.14 1540.7 L1423.14 1536.19 L1437.52 1514.29 Z\" fill=\"#000000\" fill-rule=\"nonzero\" fill-opacity=\"1\" /><path clip-path=\"url(#clip510)\" d=\"M1758.46 1514.29 L1776.81 1514.29 L1776.81 1518.22 L1762.74 1518.22 L1762.74 1526.7 Q1763.76 1526.35 1764.77 1526.19 Q1765.79 1526 1766.81 1526 Q1772.6 1526 1775.98 1529.17 Q1779.36 1532.34 1779.36 1537.76 Q1779.36 1543.34 1775.89 1546.44 Q1772.41 1549.52 1766.09 1549.52 Q1763.92 1549.52 1761.65 1549.15 Q1759.4 1548.78 1757 1548.04 L1757 1543.34 Q1759.08 1544.47 1761.3 1545.03 Q1763.52 1545.58 1766 1545.58 Q1770.01 1545.58 1772.34 1543.48 Q1774.68 1541.37 1774.68 1537.76 Q1774.68 1534.15 1772.34 1532.04 Q1770.01 1529.94 1766 1529.94 Q1764.13 1529.94 1762.25 1530.35 Q1760.4 1530.77 1758.46 1531.65 L1758.46 1514.29 Z\" fill=\"#000000\" fill-rule=\"nonzero\" fill-opacity=\"1\" /><path clip-path=\"url(#clip510)\" d=\"M2101.02 1529.7 Q2097.88 1529.7 2096.02 1531.86 Q2094.2 1534.01 2094.2 1537.76 Q2094.2 1541.49 2096.02 1543.66 Q2097.88 1545.82 2101.02 1545.82 Q2104.17 1545.82 2106 1543.66 Q2107.85 1541.49 2107.85 1537.76 Q2107.85 1534.01 2106 1531.86 Q2104.17 1529.7 2101.02 1529.7 M2110.31 1515.05 L2110.31 1519.31 Q2108.55 1518.48 2106.74 1518.04 Q2104.96 1517.6 2103.2 1517.6 Q2098.57 1517.6 2096.12 1520.72 Q2093.69 1523.85 2093.34 1530.17 Q2094.7 1528.15 2096.76 1527.09 Q2098.82 1526 2101.3 1526 Q2106.51 1526 2109.52 1529.17 Q2112.55 1532.32 2112.55 1537.76 Q2112.55 1543.08 2109.4 1546.3 Q2106.26 1549.52 2101.02 1549.52 Q2095.03 1549.52 2091.86 1544.94 Q2088.69 1540.33 2088.69 1531.6 Q2088.69 1523.41 2092.57 1518.55 Q2096.46 1513.66 2103.01 1513.66 Q2104.77 1513.66 2106.56 1514.01 Q2108.36 1514.36 2110.31 1515.05 Z\" fill=\"#000000\" fill-rule=\"nonzero\" fill-opacity=\"1\" /><polyline clip-path=\"url(#clip512)\" style=\"stroke:#000000; stroke-linecap:round; stroke-linejoin:round; stroke-width:2; stroke-opacity:0.1; fill:none\" points=\"186.274,1486.45 2352.76,1486.45 \"/>\n",
       "<polyline clip-path=\"url(#clip512)\" style=\"stroke:#000000; stroke-linecap:round; stroke-linejoin:round; stroke-width:2; stroke-opacity:0.1; fill:none\" points=\"186.274,1198.61 2352.76,1198.61 \"/>\n",
       "<polyline clip-path=\"url(#clip512)\" style=\"stroke:#000000; stroke-linecap:round; stroke-linejoin:round; stroke-width:2; stroke-opacity:0.1; fill:none\" points=\"186.274,910.766 2352.76,910.766 \"/>\n",
       "<polyline clip-path=\"url(#clip512)\" style=\"stroke:#000000; stroke-linecap:round; stroke-linejoin:round; stroke-width:2; stroke-opacity:0.1; fill:none\" points=\"186.274,622.926 2352.76,622.926 \"/>\n",
       "<polyline clip-path=\"url(#clip512)\" style=\"stroke:#000000; stroke-linecap:round; stroke-linejoin:round; stroke-width:2; stroke-opacity:0.1; fill:none\" points=\"186.274,335.085 2352.76,335.085 \"/>\n",
       "<polyline clip-path=\"url(#clip510)\" style=\"stroke:#000000; stroke-linecap:round; stroke-linejoin:round; stroke-width:4; stroke-opacity:1; fill:none\" points=\"186.274,1486.45 186.274,47.2441 \"/>\n",
       "<polyline clip-path=\"url(#clip510)\" style=\"stroke:#000000; stroke-linecap:round; stroke-linejoin:round; stroke-width:4; stroke-opacity:1; fill:none\" points=\"186.274,1486.45 205.172,1486.45 \"/>\n",
       "<polyline clip-path=\"url(#clip510)\" style=\"stroke:#000000; stroke-linecap:round; stroke-linejoin:round; stroke-width:4; stroke-opacity:1; fill:none\" points=\"186.274,1198.61 205.172,1198.61 \"/>\n",
       "<polyline clip-path=\"url(#clip510)\" style=\"stroke:#000000; stroke-linecap:round; stroke-linejoin:round; stroke-width:4; stroke-opacity:1; fill:none\" points=\"186.274,910.766 205.172,910.766 \"/>\n",
       "<polyline clip-path=\"url(#clip510)\" style=\"stroke:#000000; stroke-linecap:round; stroke-linejoin:round; stroke-width:4; stroke-opacity:1; fill:none\" points=\"186.274,622.926 205.172,622.926 \"/>\n",
       "<polyline clip-path=\"url(#clip510)\" style=\"stroke:#000000; stroke-linecap:round; stroke-linejoin:round; stroke-width:4; stroke-opacity:1; fill:none\" points=\"186.274,335.085 205.172,335.085 \"/>\n",
       "<path clip-path=\"url(#clip510)\" d=\"M62.9365 1472.25 Q59.3254 1472.25 57.4967 1475.81 Q55.6912 1479.35 55.6912 1486.48 Q55.6912 1493.59 57.4967 1497.15 Q59.3254 1500.7 62.9365 1500.7 Q66.5707 1500.7 68.3763 1497.15 Q70.205 1493.59 70.205 1486.48 Q70.205 1479.35 68.3763 1475.81 Q66.5707 1472.25 62.9365 1472.25 M62.9365 1468.54 Q68.7467 1468.54 71.8022 1473.15 Q74.8809 1477.73 74.8809 1486.48 Q74.8809 1495.21 71.8022 1499.82 Q68.7467 1504.4 62.9365 1504.4 Q57.1264 1504.4 54.0477 1499.82 Q50.9921 1495.21 50.9921 1486.48 Q50.9921 1477.73 54.0477 1473.15 Q57.1264 1468.54 62.9365 1468.54 Z\" fill=\"#000000\" fill-rule=\"nonzero\" fill-opacity=\"1\" /><path clip-path=\"url(#clip510)\" d=\"M83.0984 1497.85 L87.9827 1497.85 L87.9827 1503.73 L83.0984 1503.73 L83.0984 1497.85 Z\" fill=\"#000000\" fill-rule=\"nonzero\" fill-opacity=\"1\" /><path clip-path=\"url(#clip510)\" d=\"M108.168 1472.25 Q104.557 1472.25 102.728 1475.81 Q100.922 1479.35 100.922 1486.48 Q100.922 1493.59 102.728 1497.15 Q104.557 1500.7 108.168 1500.7 Q111.802 1500.7 113.608 1497.15 Q115.436 1493.59 115.436 1486.48 Q115.436 1479.35 113.608 1475.81 Q111.802 1472.25 108.168 1472.25 M108.168 1468.54 Q113.978 1468.54 117.033 1473.15 Q120.112 1477.73 120.112 1486.48 Q120.112 1495.21 117.033 1499.82 Q113.978 1504.4 108.168 1504.4 Q102.358 1504.4 99.2789 1499.82 Q96.2234 1495.21 96.2234 1486.48 Q96.2234 1477.73 99.2789 1473.15 Q102.358 1468.54 108.168 1468.54 Z\" fill=\"#000000\" fill-rule=\"nonzero\" fill-opacity=\"1\" /><path clip-path=\"url(#clip510)\" d=\"M138.33 1472.25 Q134.719 1472.25 132.89 1475.81 Q131.084 1479.35 131.084 1486.48 Q131.084 1493.59 132.89 1497.15 Q134.719 1500.7 138.33 1500.7 Q141.964 1500.7 143.769 1497.15 Q145.598 1493.59 145.598 1486.48 Q145.598 1479.35 143.769 1475.81 Q141.964 1472.25 138.33 1472.25 M138.33 1468.54 Q144.14 1468.54 147.195 1473.15 Q150.274 1477.73 150.274 1486.48 Q150.274 1495.21 147.195 1499.82 Q144.14 1504.4 138.33 1504.4 Q132.519 1504.4 129.441 1499.82 Q126.385 1495.21 126.385 1486.48 Q126.385 1477.73 129.441 1473.15 Q132.519 1468.54 138.33 1468.54 Z\" fill=\"#000000\" fill-rule=\"nonzero\" fill-opacity=\"1\" /><path clip-path=\"url(#clip510)\" d=\"M63.9319 1184.41 Q60.3208 1184.41 58.4921 1187.97 Q56.6865 1191.51 56.6865 1198.64 Q56.6865 1205.75 58.4921 1209.31 Q60.3208 1212.85 63.9319 1212.85 Q67.5661 1212.85 69.3717 1209.31 Q71.2004 1205.75 71.2004 1198.64 Q71.2004 1191.51 69.3717 1187.97 Q67.5661 1184.41 63.9319 1184.41 M63.9319 1180.7 Q69.742 1180.7 72.7976 1185.31 Q75.8763 1189.89 75.8763 1198.64 Q75.8763 1207.37 72.7976 1211.98 Q69.742 1216.56 63.9319 1216.56 Q58.1217 1216.56 55.043 1211.98 Q51.9875 1207.37 51.9875 1198.64 Q51.9875 1189.89 55.043 1185.31 Q58.1217 1180.7 63.9319 1180.7 Z\" fill=\"#000000\" fill-rule=\"nonzero\" fill-opacity=\"1\" /><path clip-path=\"url(#clip510)\" d=\"M84.0938 1210.01 L88.978 1210.01 L88.978 1215.89 L84.0938 1215.89 L84.0938 1210.01 Z\" fill=\"#000000\" fill-rule=\"nonzero\" fill-opacity=\"1\" /><path clip-path=\"url(#clip510)\" d=\"M109.163 1184.41 Q105.552 1184.41 103.723 1187.97 Q101.918 1191.51 101.918 1198.64 Q101.918 1205.75 103.723 1209.31 Q105.552 1212.85 109.163 1212.85 Q112.797 1212.85 114.603 1209.31 Q116.432 1205.75 116.432 1198.64 Q116.432 1191.51 114.603 1187.97 Q112.797 1184.41 109.163 1184.41 M109.163 1180.7 Q114.973 1180.7 118.029 1185.31 Q121.107 1189.89 121.107 1198.64 Q121.107 1207.37 118.029 1211.98 Q114.973 1216.56 109.163 1216.56 Q103.353 1216.56 100.274 1211.98 Q97.2187 1207.37 97.2187 1198.64 Q97.2187 1189.89 100.274 1185.31 Q103.353 1180.7 109.163 1180.7 Z\" fill=\"#000000\" fill-rule=\"nonzero\" fill-opacity=\"1\" /><path clip-path=\"url(#clip510)\" d=\"M129.371 1181.33 L147.728 1181.33 L147.728 1185.26 L133.654 1185.26 L133.654 1193.73 Q134.672 1193.39 135.691 1193.23 Q136.709 1193.04 137.728 1193.04 Q143.515 1193.04 146.894 1196.21 Q150.274 1199.38 150.274 1204.8 Q150.274 1210.38 146.802 1213.48 Q143.33 1216.56 137.01 1216.56 Q134.834 1216.56 132.566 1216.19 Q130.32 1215.82 127.913 1215.08 L127.913 1210.38 Q129.996 1211.51 132.219 1212.07 Q134.441 1212.62 136.918 1212.62 Q140.922 1212.62 143.26 1210.52 Q145.598 1208.41 145.598 1204.8 Q145.598 1201.19 143.26 1199.08 Q140.922 1196.98 136.918 1196.98 Q135.043 1196.98 133.168 1197.39 Q131.316 1197.81 129.371 1198.69 L129.371 1181.33 Z\" fill=\"#000000\" fill-rule=\"nonzero\" fill-opacity=\"1\" /><path clip-path=\"url(#clip510)\" d=\"M62.9365 896.565 Q59.3254 896.565 57.4967 900.13 Q55.6912 903.671 55.6912 910.801 Q55.6912 917.908 57.4967 921.472 Q59.3254 925.014 62.9365 925.014 Q66.5707 925.014 68.3763 921.472 Q70.205 917.908 70.205 910.801 Q70.205 903.671 68.3763 900.13 Q66.5707 896.565 62.9365 896.565 M62.9365 892.861 Q68.7467 892.861 71.8022 897.468 Q74.8809 902.051 74.8809 910.801 Q74.8809 919.528 71.8022 924.134 Q68.7467 928.718 62.9365 928.718 Q57.1264 928.718 54.0477 924.134 Q50.9921 919.528 50.9921 910.801 Q50.9921 902.051 54.0477 897.468 Q57.1264 892.861 62.9365 892.861 Z\" fill=\"#000000\" fill-rule=\"nonzero\" fill-opacity=\"1\" /><path clip-path=\"url(#clip510)\" d=\"M83.0984 922.167 L87.9827 922.167 L87.9827 928.046 L83.0984 928.046 L83.0984 922.167 Z\" fill=\"#000000\" fill-rule=\"nonzero\" fill-opacity=\"1\" /><path clip-path=\"url(#clip510)\" d=\"M98.978 924.111 L106.617 924.111 L106.617 897.746 L98.3067 899.412 L98.3067 895.153 L106.571 893.486 L111.246 893.486 L111.246 924.111 L118.885 924.111 L118.885 928.046 L98.978 928.046 L98.978 924.111 Z\" fill=\"#000000\" fill-rule=\"nonzero\" fill-opacity=\"1\" /><path clip-path=\"url(#clip510)\" d=\"M138.33 896.565 Q134.719 896.565 132.89 900.13 Q131.084 903.671 131.084 910.801 Q131.084 917.908 132.89 921.472 Q134.719 925.014 138.33 925.014 Q141.964 925.014 143.769 921.472 Q145.598 917.908 145.598 910.801 Q145.598 903.671 143.769 900.13 Q141.964 896.565 138.33 896.565 M138.33 892.861 Q144.14 892.861 147.195 897.468 Q150.274 902.051 150.274 910.801 Q150.274 919.528 147.195 924.134 Q144.14 928.718 138.33 928.718 Q132.519 928.718 129.441 924.134 Q126.385 919.528 126.385 910.801 Q126.385 902.051 129.441 897.468 Q132.519 892.861 138.33 892.861 Z\" fill=\"#000000\" fill-rule=\"nonzero\" fill-opacity=\"1\" /><path clip-path=\"url(#clip510)\" d=\"M63.9319 608.724 Q60.3208 608.724 58.4921 612.289 Q56.6865 615.831 56.6865 622.96 Q56.6865 630.067 58.4921 633.632 Q60.3208 637.173 63.9319 637.173 Q67.5661 637.173 69.3717 633.632 Q71.2004 630.067 71.2004 622.96 Q71.2004 615.831 69.3717 612.289 Q67.5661 608.724 63.9319 608.724 M63.9319 605.021 Q69.742 605.021 72.7976 609.627 Q75.8763 614.21 75.8763 622.96 Q75.8763 631.687 72.7976 636.294 Q69.742 640.877 63.9319 640.877 Q58.1217 640.877 55.043 636.294 Q51.9875 631.687 51.9875 622.96 Q51.9875 614.21 55.043 609.627 Q58.1217 605.021 63.9319 605.021 Z\" fill=\"#000000\" fill-rule=\"nonzero\" fill-opacity=\"1\" /><path clip-path=\"url(#clip510)\" d=\"M84.0938 634.326 L88.978 634.326 L88.978 640.206 L84.0938 640.206 L84.0938 634.326 Z\" fill=\"#000000\" fill-rule=\"nonzero\" fill-opacity=\"1\" /><path clip-path=\"url(#clip510)\" d=\"M99.9733 636.27 L107.612 636.27 L107.612 609.905 L99.3021 611.572 L99.3021 607.312 L107.566 605.646 L112.242 605.646 L112.242 636.27 L119.881 636.27 L119.881 640.206 L99.9733 640.206 L99.9733 636.27 Z\" fill=\"#000000\" fill-rule=\"nonzero\" fill-opacity=\"1\" /><path clip-path=\"url(#clip510)\" d=\"M129.371 605.646 L147.728 605.646 L147.728 609.581 L133.654 609.581 L133.654 618.053 Q134.672 617.706 135.691 617.544 Q136.709 617.359 137.728 617.359 Q143.515 617.359 146.894 620.53 Q150.274 623.701 150.274 629.118 Q150.274 634.696 146.802 637.798 Q143.33 640.877 137.01 640.877 Q134.834 640.877 132.566 640.507 Q130.32 640.136 127.913 639.395 L127.913 634.696 Q129.996 635.831 132.219 636.386 Q134.441 636.942 136.918 636.942 Q140.922 636.942 143.26 634.835 Q145.598 632.729 145.598 629.118 Q145.598 625.507 143.26 623.4 Q140.922 621.294 136.918 621.294 Q135.043 621.294 133.168 621.71 Q131.316 622.127 129.371 623.007 L129.371 605.646 Z\" fill=\"#000000\" fill-rule=\"nonzero\" fill-opacity=\"1\" /><path clip-path=\"url(#clip510)\" d=\"M62.9365 320.884 Q59.3254 320.884 57.4967 324.448 Q55.6912 327.99 55.6912 335.12 Q55.6912 342.226 57.4967 345.791 Q59.3254 349.332 62.9365 349.332 Q66.5707 349.332 68.3763 345.791 Q70.205 342.226 70.205 335.12 Q70.205 327.99 68.3763 324.448 Q66.5707 320.884 62.9365 320.884 M62.9365 317.18 Q68.7467 317.18 71.8022 321.786 Q74.8809 326.37 74.8809 335.12 Q74.8809 343.846 71.8022 348.453 Q68.7467 353.036 62.9365 353.036 Q57.1264 353.036 54.0477 348.453 Q50.9921 343.846 50.9921 335.12 Q50.9921 326.37 54.0477 321.786 Q57.1264 317.18 62.9365 317.18 Z\" fill=\"#000000\" fill-rule=\"nonzero\" fill-opacity=\"1\" /><path clip-path=\"url(#clip510)\" d=\"M83.0984 346.485 L87.9827 346.485 L87.9827 352.365 L83.0984 352.365 L83.0984 346.485 Z\" fill=\"#000000\" fill-rule=\"nonzero\" fill-opacity=\"1\" /><path clip-path=\"url(#clip510)\" d=\"M102.196 348.43 L118.515 348.43 L118.515 352.365 L96.5706 352.365 L96.5706 348.43 Q99.2326 345.675 103.816 341.045 Q108.422 336.393 109.603 335.05 Q111.848 332.527 112.728 330.791 Q113.631 329.032 113.631 327.342 Q113.631 324.587 111.686 322.851 Q109.765 321.115 106.663 321.115 Q104.464 321.115 102.01 321.879 Q99.5798 322.643 96.8021 324.194 L96.8021 319.472 Q99.6261 318.337 102.08 317.759 Q104.534 317.18 106.571 317.18 Q111.941 317.18 115.135 319.865 Q118.33 322.55 118.33 327.041 Q118.33 329.171 117.52 331.092 Q116.733 332.99 114.626 335.583 Q114.047 336.254 110.946 339.471 Q107.844 342.666 102.196 348.43 Z\" fill=\"#000000\" fill-rule=\"nonzero\" fill-opacity=\"1\" /><path clip-path=\"url(#clip510)\" d=\"M138.33 320.884 Q134.719 320.884 132.89 324.448 Q131.084 327.99 131.084 335.12 Q131.084 342.226 132.89 345.791 Q134.719 349.332 138.33 349.332 Q141.964 349.332 143.769 345.791 Q145.598 342.226 145.598 335.12 Q145.598 327.99 143.769 324.448 Q141.964 320.884 138.33 320.884 M138.33 317.18 Q144.14 317.18 147.195 321.786 Q150.274 326.37 150.274 335.12 Q150.274 343.846 147.195 348.453 Q144.14 353.036 138.33 353.036 Q132.519 353.036 129.441 348.453 Q126.385 343.846 126.385 335.12 Q126.385 326.37 129.441 321.786 Q132.519 317.18 138.33 317.18 Z\" fill=\"#000000\" fill-rule=\"nonzero\" fill-opacity=\"1\" /><path clip-path=\"url(#clip512)\" d=\"M305.434 526.979 L305.434 1486.45 L571.388 1486.45 L571.388 526.979 L305.434 526.979 L305.434 526.979  Z\" fill=\"#009af9\" fill-rule=\"evenodd\" fill-opacity=\"1\"/>\n",
       "<polyline clip-path=\"url(#clip512)\" style=\"stroke:#000000; stroke-linecap:round; stroke-linejoin:round; stroke-width:4; stroke-opacity:1; fill:none\" points=\"305.434,526.979 305.434,1486.45 571.388,1486.45 571.388,526.979 305.434,526.979 \"/>\n",
       "<path clip-path=\"url(#clip512)\" d=\"M637.876 526.979 L637.876 1486.45 L903.829 1486.45 L903.829 526.979 L637.876 526.979 L637.876 526.979  Z\" fill=\"#009af9\" fill-rule=\"evenodd\" fill-opacity=\"1\"/>\n",
       "<polyline clip-path=\"url(#clip512)\" style=\"stroke:#000000; stroke-linecap:round; stroke-linejoin:round; stroke-width:4; stroke-opacity:1; fill:none\" points=\"637.876,526.979 637.876,1486.45 903.829,1486.45 903.829,526.979 637.876,526.979 \"/>\n",
       "<path clip-path=\"url(#clip512)\" d=\"M970.318 526.979 L970.318 1486.45 L1236.27 1486.45 L1236.27 526.979 L970.318 526.979 L970.318 526.979  Z\" fill=\"#009af9\" fill-rule=\"evenodd\" fill-opacity=\"1\"/>\n",
       "<polyline clip-path=\"url(#clip512)\" style=\"stroke:#000000; stroke-linecap:round; stroke-linejoin:round; stroke-width:4; stroke-opacity:1; fill:none\" points=\"970.318,526.979 970.318,1486.45 1236.27,1486.45 1236.27,526.979 970.318,526.979 \"/>\n",
       "<path clip-path=\"url(#clip512)\" d=\"M1302.76 526.979 L1302.76 1486.45 L1568.71 1486.45 L1568.71 526.979 L1302.76 526.979 L1302.76 526.979  Z\" fill=\"#009af9\" fill-rule=\"evenodd\" fill-opacity=\"1\"/>\n",
       "<polyline clip-path=\"url(#clip512)\" style=\"stroke:#000000; stroke-linecap:round; stroke-linejoin:round; stroke-width:4; stroke-opacity:1; fill:none\" points=\"1302.76,526.979 1302.76,1486.45 1568.71,1486.45 1568.71,526.979 1302.76,526.979 \"/>\n",
       "<path clip-path=\"url(#clip512)\" d=\"M1635.2 526.979 L1635.2 1486.45 L1901.15 1486.45 L1901.15 526.979 L1635.2 526.979 L1635.2 526.979  Z\" fill=\"#009af9\" fill-rule=\"evenodd\" fill-opacity=\"1\"/>\n",
       "<polyline clip-path=\"url(#clip512)\" style=\"stroke:#000000; stroke-linecap:round; stroke-linejoin:round; stroke-width:4; stroke-opacity:1; fill:none\" points=\"1635.2,526.979 1635.2,1486.45 1901.15,1486.45 1901.15,526.979 1635.2,526.979 \"/>\n",
       "<path clip-path=\"url(#clip512)\" d=\"M1967.64 526.979 L1967.64 1486.45 L2233.6 1486.45 L2233.6 526.979 L1967.64 526.979 L1967.64 526.979  Z\" fill=\"#009af9\" fill-rule=\"evenodd\" fill-opacity=\"1\"/>\n",
       "<polyline clip-path=\"url(#clip512)\" style=\"stroke:#000000; stroke-linecap:round; stroke-linejoin:round; stroke-width:4; stroke-opacity:1; fill:none\" points=\"1967.64,526.979 1967.64,1486.45 2233.6,1486.45 2233.6,526.979 1967.64,526.979 \"/>\n",
       "<circle clip-path=\"url(#clip512)\" style=\"fill:#009af9; stroke:none; fill-opacity:0\" cx=\"438.411\" cy=\"526.979\" r=\"2\"/>\n",
       "<circle clip-path=\"url(#clip512)\" style=\"fill:#009af9; stroke:none; fill-opacity:0\" cx=\"770.853\" cy=\"526.979\" r=\"2\"/>\n",
       "<circle clip-path=\"url(#clip512)\" style=\"fill:#009af9; stroke:none; fill-opacity:0\" cx=\"1103.29\" cy=\"526.979\" r=\"2\"/>\n",
       "<circle clip-path=\"url(#clip512)\" style=\"fill:#009af9; stroke:none; fill-opacity:0\" cx=\"1435.74\" cy=\"526.979\" r=\"2\"/>\n",
       "<circle clip-path=\"url(#clip512)\" style=\"fill:#009af9; stroke:none; fill-opacity:0\" cx=\"1768.18\" cy=\"526.979\" r=\"2\"/>\n",
       "<circle clip-path=\"url(#clip512)\" style=\"fill:#009af9; stroke:none; fill-opacity:0\" cx=\"2100.62\" cy=\"526.979\" r=\"2\"/>\n",
       "<path clip-path=\"url(#clip510)\" d=\"M1512.02 198.898 L2280.54 198.898 L2280.54 95.2176 L1512.02 95.2176  Z\" fill=\"#ffffff\" fill-rule=\"evenodd\" fill-opacity=\"1\"/>\n",
       "<polyline clip-path=\"url(#clip510)\" style=\"stroke:#000000; stroke-linecap:round; stroke-linejoin:round; stroke-width:4; stroke-opacity:1; fill:none\" points=\"1512.02,198.898 2280.54,198.898 2280.54,95.2176 1512.02,95.2176 1512.02,198.898 \"/>\n",
       "<path clip-path=\"url(#clip510)\" d=\"M1536.09 167.794 L1680.52 167.794 L1680.52 126.322 L1536.09 126.322 L1536.09 167.794  Z\" fill=\"#009af9\" fill-rule=\"evenodd\" fill-opacity=\"1\"/>\n",
       "<polyline clip-path=\"url(#clip510)\" style=\"stroke:#000000; stroke-linecap:round; stroke-linejoin:round; stroke-width:4; stroke-opacity:1; fill:none\" points=\"1536.09,167.794 1680.52,167.794 1680.52,126.322 1536.09,126.322 1536.09,167.794 \"/>\n",
       "<path clip-path=\"url(#clip510)\" d=\"M1716.54 132.856 Q1712.93 132.856 1711.1 136.421 Q1709.29 139.963 1709.29 147.092 Q1709.29 154.199 1711.1 157.764 Q1712.93 161.305 1716.54 161.305 Q1720.17 161.305 1721.98 157.764 Q1723.81 154.199 1723.81 147.092 Q1723.81 139.963 1721.98 136.421 Q1720.17 132.856 1716.54 132.856 M1716.54 129.153 Q1722.35 129.153 1725.41 133.759 Q1728.48 138.342 1728.48 147.092 Q1728.48 155.819 1725.41 160.426 Q1722.35 165.009 1716.54 165.009 Q1710.73 165.009 1707.65 160.426 Q1704.6 155.819 1704.6 147.092 Q1704.6 138.342 1707.65 133.759 Q1710.73 129.153 1716.54 129.153 Z\" fill=\"#000000\" fill-rule=\"nonzero\" fill-opacity=\"1\" /><path clip-path=\"url(#clip510)\" d=\"M1736.7 158.458 L1741.59 158.458 L1741.59 164.338 L1736.7 164.338 L1736.7 158.458 Z\" fill=\"#000000\" fill-rule=\"nonzero\" fill-opacity=\"1\" /><path clip-path=\"url(#clip510)\" d=\"M1752.58 160.402 L1760.22 160.402 L1760.22 134.037 L1751.91 135.703 L1751.91 131.444 L1760.17 129.778 L1764.85 129.778 L1764.85 160.402 L1772.49 160.402 L1772.49 164.338 L1752.58 164.338 L1752.58 160.402 Z\" fill=\"#000000\" fill-rule=\"nonzero\" fill-opacity=\"1\" /><path clip-path=\"url(#clip510)\" d=\"M1792.51 145.194 Q1789.36 145.194 1787.51 147.347 Q1785.68 149.5 1785.68 153.25 Q1785.68 156.976 1787.51 159.152 Q1789.36 161.305 1792.51 161.305 Q1795.66 161.305 1797.49 159.152 Q1799.34 156.976 1799.34 153.25 Q1799.34 149.5 1797.49 147.347 Q1795.66 145.194 1792.51 145.194 M1801.79 130.541 L1801.79 134.801 Q1800.04 133.967 1798.23 133.528 Q1796.45 133.088 1794.69 133.088 Q1790.06 133.088 1787.6 136.213 Q1785.17 139.338 1784.83 145.657 Q1786.19 143.643 1788.25 142.578 Q1790.31 141.49 1792.79 141.49 Q1798 141.49 1801.01 144.662 Q1804.04 147.81 1804.04 153.25 Q1804.04 158.574 1800.89 161.791 Q1797.74 165.009 1792.51 165.009 Q1786.52 165.009 1783.35 160.426 Q1780.17 155.819 1780.17 147.092 Q1780.17 138.898 1784.06 134.037 Q1787.95 129.153 1794.5 129.153 Q1796.26 129.153 1798.04 129.5 Q1799.85 129.847 1801.79 130.541 Z\" fill=\"#000000\" fill-rule=\"nonzero\" fill-opacity=\"1\" /><path clip-path=\"url(#clip510)\" d=\"M1822.67 145.194 Q1819.53 145.194 1817.67 147.347 Q1815.85 149.5 1815.85 153.25 Q1815.85 156.976 1817.67 159.152 Q1819.53 161.305 1822.67 161.305 Q1825.82 161.305 1827.65 159.152 Q1829.5 156.976 1829.5 153.25 Q1829.5 149.5 1827.65 147.347 Q1825.82 145.194 1822.67 145.194 M1831.96 130.541 L1831.96 134.801 Q1830.2 133.967 1828.39 133.528 Q1826.61 133.088 1824.85 133.088 Q1820.22 133.088 1817.77 136.213 Q1815.34 139.338 1814.99 145.657 Q1816.35 143.643 1818.41 142.578 Q1820.47 141.49 1822.95 141.49 Q1828.16 141.49 1831.17 144.662 Q1834.2 147.81 1834.2 153.25 Q1834.2 158.574 1831.05 161.791 Q1827.91 165.009 1822.67 165.009 Q1816.68 165.009 1813.51 160.426 Q1810.34 155.819 1810.34 147.092 Q1810.34 138.898 1814.22 134.037 Q1818.11 129.153 1824.66 129.153 Q1826.42 129.153 1828.21 129.5 Q1830.01 129.847 1831.96 130.541 Z\" fill=\"#000000\" fill-rule=\"nonzero\" fill-opacity=\"1\" /><path clip-path=\"url(#clip510)\" d=\"M1852.84 145.194 Q1849.69 145.194 1847.84 147.347 Q1846.01 149.5 1846.01 153.25 Q1846.01 156.976 1847.84 159.152 Q1849.69 161.305 1852.84 161.305 Q1855.98 161.305 1857.81 159.152 Q1859.66 156.976 1859.66 153.25 Q1859.66 149.5 1857.81 147.347 Q1855.98 145.194 1852.84 145.194 M1862.12 130.541 L1862.12 134.801 Q1860.36 133.967 1858.55 133.528 Q1856.77 133.088 1855.01 133.088 Q1850.38 133.088 1847.93 136.213 Q1845.5 139.338 1845.15 145.657 Q1846.52 143.643 1848.58 142.578 Q1850.64 141.49 1853.11 141.49 Q1858.32 141.49 1861.33 144.662 Q1864.36 147.81 1864.36 153.25 Q1864.36 158.574 1861.22 161.791 Q1858.07 165.009 1852.84 165.009 Q1846.84 165.009 1843.67 160.426 Q1840.5 155.819 1840.5 147.092 Q1840.5 138.898 1844.39 134.037 Q1848.28 129.153 1854.83 129.153 Q1856.59 129.153 1858.37 129.5 Q1860.17 129.847 1862.12 130.541 Z\" fill=\"#000000\" fill-rule=\"nonzero\" fill-opacity=\"1\" /><path clip-path=\"url(#clip510)\" d=\"M1883 145.194 Q1879.85 145.194 1878 147.347 Q1876.17 149.5 1876.17 153.25 Q1876.17 156.976 1878 159.152 Q1879.85 161.305 1883 161.305 Q1886.15 161.305 1887.97 159.152 Q1889.83 156.976 1889.83 153.25 Q1889.83 149.5 1887.97 147.347 Q1886.15 145.194 1883 145.194 M1892.28 130.541 L1892.28 134.801 Q1890.52 133.967 1888.72 133.528 Q1886.93 133.088 1885.17 133.088 Q1880.54 133.088 1878.09 136.213 Q1875.66 139.338 1875.31 145.657 Q1876.68 143.643 1878.74 142.578 Q1880.8 141.49 1883.28 141.49 Q1888.48 141.49 1891.49 144.662 Q1894.53 147.81 1894.53 153.25 Q1894.53 158.574 1891.38 161.791 Q1888.23 165.009 1883 165.009 Q1877 165.009 1873.83 160.426 Q1870.66 155.819 1870.66 147.092 Q1870.66 138.898 1874.55 134.037 Q1878.44 129.153 1884.99 129.153 Q1886.75 129.153 1888.53 129.5 Q1890.34 129.847 1892.28 130.541 Z\" fill=\"#000000\" fill-rule=\"nonzero\" fill-opacity=\"1\" /><path clip-path=\"url(#clip510)\" d=\"M1913.16 145.194 Q1910.01 145.194 1908.16 147.347 Q1906.33 149.5 1906.33 153.25 Q1906.33 156.976 1908.16 159.152 Q1910.01 161.305 1913.16 161.305 Q1916.31 161.305 1918.14 159.152 Q1919.99 156.976 1919.99 153.25 Q1919.99 149.5 1918.14 147.347 Q1916.31 145.194 1913.16 145.194 M1922.44 130.541 L1922.44 134.801 Q1920.68 133.967 1918.88 133.528 Q1917.09 133.088 1915.34 133.088 Q1910.71 133.088 1908.25 136.213 Q1905.82 139.338 1905.47 145.657 Q1906.84 143.643 1908.9 142.578 Q1910.96 141.49 1913.44 141.49 Q1918.65 141.49 1921.65 144.662 Q1924.69 147.81 1924.69 153.25 Q1924.69 158.574 1921.54 161.791 Q1918.39 165.009 1913.16 165.009 Q1907.16 165.009 1903.99 160.426 Q1900.82 155.819 1900.82 147.092 Q1900.82 138.898 1904.71 134.037 Q1908.6 129.153 1915.15 129.153 Q1916.91 129.153 1918.69 129.5 Q1920.5 129.847 1922.44 130.541 Z\" fill=\"#000000\" fill-rule=\"nonzero\" fill-opacity=\"1\" /><path clip-path=\"url(#clip510)\" d=\"M1943.32 145.194 Q1940.17 145.194 1938.32 147.347 Q1936.49 149.5 1936.49 153.25 Q1936.49 156.976 1938.32 159.152 Q1940.17 161.305 1943.32 161.305 Q1946.47 161.305 1948.3 159.152 Q1950.15 156.976 1950.15 153.25 Q1950.15 149.5 1948.3 147.347 Q1946.47 145.194 1943.32 145.194 M1952.6 130.541 L1952.6 134.801 Q1950.84 133.967 1949.04 133.528 Q1947.26 133.088 1945.5 133.088 Q1940.87 133.088 1938.41 136.213 Q1935.98 139.338 1935.64 145.657 Q1937 143.643 1939.06 142.578 Q1941.12 141.49 1943.6 141.49 Q1948.81 141.49 1951.82 144.662 Q1954.85 147.81 1954.85 153.25 Q1954.85 158.574 1951.7 161.791 Q1948.55 165.009 1943.32 165.009 Q1937.33 165.009 1934.15 160.426 Q1930.98 155.819 1930.98 147.092 Q1930.98 138.898 1934.87 134.037 Q1938.76 129.153 1945.31 129.153 Q1947.07 129.153 1948.85 129.5 Q1950.66 129.847 1952.6 130.541 Z\" fill=\"#000000\" fill-rule=\"nonzero\" fill-opacity=\"1\" /><path clip-path=\"url(#clip510)\" d=\"M1973.48 145.194 Q1970.34 145.194 1968.48 147.347 Q1966.65 149.5 1966.65 153.25 Q1966.65 156.976 1968.48 159.152 Q1970.34 161.305 1973.48 161.305 Q1976.63 161.305 1978.46 159.152 Q1980.31 156.976 1980.31 153.25 Q1980.31 149.5 1978.46 147.347 Q1976.63 145.194 1973.48 145.194 M1982.77 130.541 L1982.77 134.801 Q1981.01 133.967 1979.2 133.528 Q1977.42 133.088 1975.66 133.088 Q1971.03 133.088 1968.58 136.213 Q1966.15 139.338 1965.8 145.657 Q1967.16 143.643 1969.22 142.578 Q1971.28 141.49 1973.76 141.49 Q1978.97 141.49 1981.98 144.662 Q1985.01 147.81 1985.01 153.25 Q1985.01 158.574 1981.86 161.791 Q1978.71 165.009 1973.48 165.009 Q1967.49 165.009 1964.32 160.426 Q1961.15 155.819 1961.15 147.092 Q1961.15 138.898 1965.03 134.037 Q1968.92 129.153 1975.47 129.153 Q1977.23 129.153 1979.02 129.5 Q1980.82 129.847 1982.77 130.541 Z\" fill=\"#000000\" fill-rule=\"nonzero\" fill-opacity=\"1\" /><path clip-path=\"url(#clip510)\" d=\"M2003.65 145.194 Q2000.5 145.194 1998.65 147.347 Q1996.82 149.5 1996.82 153.25 Q1996.82 156.976 1998.65 159.152 Q2000.5 161.305 2003.65 161.305 Q2006.79 161.305 2008.62 159.152 Q2010.47 156.976 2010.47 153.25 Q2010.47 149.5 2008.62 147.347 Q2006.79 145.194 2003.65 145.194 M2012.93 130.541 L2012.93 134.801 Q2011.17 133.967 2009.36 133.528 Q2007.58 133.088 2005.82 133.088 Q2001.19 133.088 1998.74 136.213 Q1996.31 139.338 1995.96 145.657 Q1997.33 143.643 1999.39 142.578 Q2001.45 141.49 2003.92 141.49 Q2009.13 141.49 2012.14 144.662 Q2015.17 147.81 2015.17 153.25 Q2015.17 158.574 2012.02 161.791 Q2008.88 165.009 2003.65 165.009 Q1997.65 165.009 1994.48 160.426 Q1991.31 155.819 1991.31 147.092 Q1991.31 138.898 1995.2 134.037 Q1999.08 129.153 2005.64 129.153 Q2007.4 129.153 2009.18 129.5 Q2010.98 129.847 2012.93 130.541 Z\" fill=\"#000000\" fill-rule=\"nonzero\" fill-opacity=\"1\" /><path clip-path=\"url(#clip510)\" d=\"M2033.81 145.194 Q2030.66 145.194 2028.81 147.347 Q2026.98 149.5 2026.98 153.25 Q2026.98 156.976 2028.81 159.152 Q2030.66 161.305 2033.81 161.305 Q2036.96 161.305 2038.78 159.152 Q2040.64 156.976 2040.64 153.25 Q2040.64 149.5 2038.78 147.347 Q2036.96 145.194 2033.81 145.194 M2043.09 130.541 L2043.09 134.801 Q2041.33 133.967 2039.52 133.528 Q2037.74 133.088 2035.98 133.088 Q2031.35 133.088 2028.9 136.213 Q2026.47 139.338 2026.12 145.657 Q2027.49 143.643 2029.55 142.578 Q2031.61 141.49 2034.08 141.49 Q2039.29 141.49 2042.3 144.662 Q2045.33 147.81 2045.33 153.25 Q2045.33 158.574 2042.19 161.791 Q2039.04 165.009 2033.81 165.009 Q2027.81 165.009 2024.64 160.426 Q2021.47 155.819 2021.47 147.092 Q2021.47 138.898 2025.36 134.037 Q2029.25 129.153 2035.8 129.153 Q2037.56 129.153 2039.34 129.5 Q2041.14 129.847 2043.09 130.541 Z\" fill=\"#000000\" fill-rule=\"nonzero\" fill-opacity=\"1\" /><path clip-path=\"url(#clip510)\" d=\"M2063.97 145.194 Q2060.82 145.194 2058.97 147.347 Q2057.14 149.5 2057.14 153.25 Q2057.14 156.976 2058.97 159.152 Q2060.82 161.305 2063.97 161.305 Q2067.12 161.305 2068.95 159.152 Q2070.8 156.976 2070.8 153.25 Q2070.8 149.5 2068.95 147.347 Q2067.12 145.194 2063.97 145.194 M2073.25 130.541 L2073.25 134.801 Q2071.49 133.967 2069.69 133.528 Q2067.9 133.088 2066.14 133.088 Q2061.52 133.088 2059.06 136.213 Q2056.63 139.338 2056.28 145.657 Q2057.65 143.643 2059.71 142.578 Q2061.77 141.49 2064.25 141.49 Q2069.45 141.49 2072.46 144.662 Q2075.5 147.81 2075.5 153.25 Q2075.5 158.574 2072.35 161.791 Q2069.2 165.009 2063.97 165.009 Q2057.97 165.009 2054.8 160.426 Q2051.63 155.819 2051.63 147.092 Q2051.63 138.898 2055.52 134.037 Q2059.41 129.153 2065.96 129.153 Q2067.72 129.153 2069.5 129.5 Q2071.31 129.847 2073.25 130.541 Z\" fill=\"#000000\" fill-rule=\"nonzero\" fill-opacity=\"1\" /><path clip-path=\"url(#clip510)\" d=\"M2094.13 145.194 Q2090.98 145.194 2089.13 147.347 Q2087.3 149.5 2087.3 153.25 Q2087.3 156.976 2089.13 159.152 Q2090.98 161.305 2094.13 161.305 Q2097.28 161.305 2099.11 159.152 Q2100.96 156.976 2100.96 153.25 Q2100.96 149.5 2099.11 147.347 Q2097.28 145.194 2094.13 145.194 M2103.41 130.541 L2103.41 134.801 Q2101.65 133.967 2099.85 133.528 Q2098.07 133.088 2096.31 133.088 Q2091.68 133.088 2089.22 136.213 Q2086.79 139.338 2086.45 145.657 Q2087.81 143.643 2089.87 142.578 Q2091.93 141.49 2094.41 141.49 Q2099.62 141.49 2102.63 144.662 Q2105.66 147.81 2105.66 153.25 Q2105.66 158.574 2102.51 161.791 Q2099.36 165.009 2094.13 165.009 Q2088.14 165.009 2084.96 160.426 Q2081.79 155.819 2081.79 147.092 Q2081.79 138.898 2085.68 134.037 Q2089.57 129.153 2096.12 129.153 Q2097.88 129.153 2099.66 129.5 Q2101.47 129.847 2103.41 130.541 Z\" fill=\"#000000\" fill-rule=\"nonzero\" fill-opacity=\"1\" /><path clip-path=\"url(#clip510)\" d=\"M2124.29 145.194 Q2121.14 145.194 2119.29 147.347 Q2117.46 149.5 2117.46 153.25 Q2117.46 156.976 2119.29 159.152 Q2121.14 161.305 2124.29 161.305 Q2127.44 161.305 2129.27 159.152 Q2131.12 156.976 2131.12 153.25 Q2131.12 149.5 2129.27 147.347 Q2127.44 145.194 2124.29 145.194 M2133.57 130.541 L2133.57 134.801 Q2131.82 133.967 2130.01 133.528 Q2128.23 133.088 2126.47 133.088 Q2121.84 133.088 2119.39 136.213 Q2116.95 139.338 2116.61 145.657 Q2117.97 143.643 2120.03 142.578 Q2122.09 141.49 2124.57 141.49 Q2129.78 141.49 2132.79 144.662 Q2135.82 147.81 2135.82 153.25 Q2135.82 158.574 2132.67 161.791 Q2129.52 165.009 2124.29 165.009 Q2118.3 165.009 2115.13 160.426 Q2111.95 155.819 2111.95 147.092 Q2111.95 138.898 2115.84 134.037 Q2119.73 129.153 2126.28 129.153 Q2128.04 129.153 2129.82 129.5 Q2131.63 129.847 2133.57 130.541 Z\" fill=\"#000000\" fill-rule=\"nonzero\" fill-opacity=\"1\" /><path clip-path=\"url(#clip510)\" d=\"M2154.45 145.194 Q2151.31 145.194 2149.45 147.347 Q2147.63 149.5 2147.63 153.25 Q2147.63 156.976 2149.45 159.152 Q2151.31 161.305 2154.45 161.305 Q2157.6 161.305 2159.43 159.152 Q2161.28 156.976 2161.28 153.25 Q2161.28 149.5 2159.43 147.347 Q2157.6 145.194 2154.45 145.194 M2163.74 130.541 L2163.74 134.801 Q2161.98 133.967 2160.17 133.528 Q2158.39 133.088 2156.63 133.088 Q2152 133.088 2149.55 136.213 Q2147.12 139.338 2146.77 145.657 Q2148.14 143.643 2150.2 142.578 Q2152.26 141.49 2154.73 141.49 Q2159.94 141.49 2162.95 144.662 Q2165.98 147.81 2165.98 153.25 Q2165.98 158.574 2162.83 161.791 Q2159.69 165.009 2154.45 165.009 Q2148.46 165.009 2145.29 160.426 Q2142.12 155.819 2142.12 147.092 Q2142.12 138.898 2146.01 134.037 Q2149.89 129.153 2156.45 129.153 Q2158.2 129.153 2159.99 129.5 Q2161.79 129.847 2163.74 130.541 Z\" fill=\"#000000\" fill-rule=\"nonzero\" fill-opacity=\"1\" /><path clip-path=\"url(#clip510)\" d=\"M2184.62 145.194 Q2181.47 145.194 2179.62 147.347 Q2177.79 149.5 2177.79 153.25 Q2177.79 156.976 2179.62 159.152 Q2181.47 161.305 2184.62 161.305 Q2187.76 161.305 2189.59 159.152 Q2191.45 156.976 2191.45 153.25 Q2191.45 149.5 2189.59 147.347 Q2187.76 145.194 2184.62 145.194 M2193.9 130.541 L2193.9 134.801 Q2192.14 133.967 2190.33 133.528 Q2188.55 133.088 2186.79 133.088 Q2182.16 133.088 2179.71 136.213 Q2177.28 139.338 2176.93 145.657 Q2178.3 143.643 2180.36 142.578 Q2182.42 141.49 2184.89 141.49 Q2190.1 141.49 2193.11 144.662 Q2196.14 147.81 2196.14 153.25 Q2196.14 158.574 2193 161.791 Q2189.85 165.009 2184.62 165.009 Q2178.62 165.009 2175.45 160.426 Q2172.28 155.819 2172.28 147.092 Q2172.28 138.898 2176.17 134.037 Q2180.06 129.153 2186.61 129.153 Q2188.37 129.153 2190.15 129.5 Q2191.95 129.847 2193.9 130.541 Z\" fill=\"#000000\" fill-rule=\"nonzero\" fill-opacity=\"1\" /><path clip-path=\"url(#clip510)\" d=\"M2214.78 145.194 Q2211.63 145.194 2209.78 147.347 Q2207.95 149.5 2207.95 153.25 Q2207.95 156.976 2209.78 159.152 Q2211.63 161.305 2214.78 161.305 Q2217.93 161.305 2219.76 159.152 Q2221.61 156.976 2221.61 153.25 Q2221.61 149.5 2219.76 147.347 Q2217.93 145.194 2214.78 145.194 M2224.06 130.541 L2224.06 134.801 Q2222.3 133.967 2220.5 133.528 Q2218.71 133.088 2216.95 133.088 Q2212.32 133.088 2209.87 136.213 Q2207.44 139.338 2207.09 145.657 Q2208.46 143.643 2210.52 142.578 Q2212.58 141.49 2215.06 141.49 Q2220.26 141.49 2223.27 144.662 Q2226.31 147.81 2226.31 153.25 Q2226.31 158.574 2223.16 161.791 Q2220.01 165.009 2214.78 165.009 Q2208.78 165.009 2205.61 160.426 Q2202.44 155.819 2202.44 147.092 Q2202.44 138.898 2206.33 134.037 Q2210.22 129.153 2216.77 129.153 Q2218.53 129.153 2220.31 129.5 Q2222.12 129.847 2224.06 130.541 Z\" fill=\"#000000\" fill-rule=\"nonzero\" fill-opacity=\"1\" /><path clip-path=\"url(#clip510)\" d=\"M2244.94 145.194 Q2241.79 145.194 2239.94 147.347 Q2238.11 149.5 2238.11 153.25 Q2238.11 156.976 2239.94 159.152 Q2241.79 161.305 2244.94 161.305 Q2248.09 161.305 2249.92 159.152 Q2251.77 156.976 2251.77 153.25 Q2251.77 149.5 2249.92 147.347 Q2248.09 145.194 2244.94 145.194 M2254.22 130.541 L2254.22 134.801 Q2252.46 133.967 2250.66 133.528 Q2248.88 133.088 2247.12 133.088 Q2242.49 133.088 2240.03 136.213 Q2237.6 139.338 2237.25 145.657 Q2238.62 143.643 2240.68 142.578 Q2242.74 141.49 2245.22 141.49 Q2250.43 141.49 2253.44 144.662 Q2256.47 147.81 2256.47 153.25 Q2256.47 158.574 2253.32 161.791 Q2250.17 165.009 2244.94 165.009 Q2238.94 165.009 2235.77 160.426 Q2232.6 155.819 2232.6 147.092 Q2232.6 138.898 2236.49 134.037 Q2240.38 129.153 2246.93 129.153 Q2248.69 129.153 2250.47 129.5 Q2252.28 129.847 2254.22 130.541 Z\" fill=\"#000000\" fill-rule=\"nonzero\" fill-opacity=\"1\" /></svg>\n"
      ],
      "text/html": [
       "<?xml version=\"1.0\" encoding=\"utf-8\"?>\n",
       "<svg xmlns=\"http://www.w3.org/2000/svg\" xmlns:xlink=\"http://www.w3.org/1999/xlink\" width=\"600\" height=\"400\" viewBox=\"0 0 2400 1600\">\n",
       "<defs>\n",
       "  <clipPath id=\"clip560\">\n",
       "    <rect x=\"0\" y=\"0\" width=\"2400\" height=\"1600\"/>\n",
       "  </clipPath>\n",
       "</defs>\n",
       "<path clip-path=\"url(#clip560)\" d=\"M0 1600 L2400 1600 L2400 0 L0 0  Z\" fill=\"#ffffff\" fill-rule=\"evenodd\" fill-opacity=\"1\"/>\n",
       "<defs>\n",
       "  <clipPath id=\"clip561\">\n",
       "    <rect x=\"480\" y=\"0\" width=\"1681\" height=\"1600\"/>\n",
       "  </clipPath>\n",
       "</defs>\n",
       "<path clip-path=\"url(#clip560)\" d=\"M186.274 1486.45 L2352.76 1486.45 L2352.76 47.2441 L186.274 47.2441  Z\" fill=\"#ffffff\" fill-rule=\"evenodd\" fill-opacity=\"1\"/>\n",
       "<defs>\n",
       "  <clipPath id=\"clip562\">\n",
       "    <rect x=\"186\" y=\"47\" width=\"2167\" height=\"1440\"/>\n",
       "  </clipPath>\n",
       "</defs>\n",
       "<polyline clip-path=\"url(#clip562)\" style=\"stroke:#000000; stroke-linecap:round; stroke-linejoin:round; stroke-width:2; stroke-opacity:0.1; fill:none\" points=\"438.411,1486.45 438.411,47.2441 \"/>\n",
       "<polyline clip-path=\"url(#clip562)\" style=\"stroke:#000000; stroke-linecap:round; stroke-linejoin:round; stroke-width:2; stroke-opacity:0.1; fill:none\" points=\"770.853,1486.45 770.853,47.2441 \"/>\n",
       "<polyline clip-path=\"url(#clip562)\" style=\"stroke:#000000; stroke-linecap:round; stroke-linejoin:round; stroke-width:2; stroke-opacity:0.1; fill:none\" points=\"1103.29,1486.45 1103.29,47.2441 \"/>\n",
       "<polyline clip-path=\"url(#clip562)\" style=\"stroke:#000000; stroke-linecap:round; stroke-linejoin:round; stroke-width:2; stroke-opacity:0.1; fill:none\" points=\"1435.74,1486.45 1435.74,47.2441 \"/>\n",
       "<polyline clip-path=\"url(#clip562)\" style=\"stroke:#000000; stroke-linecap:round; stroke-linejoin:round; stroke-width:2; stroke-opacity:0.1; fill:none\" points=\"1768.18,1486.45 1768.18,47.2441 \"/>\n",
       "<polyline clip-path=\"url(#clip562)\" style=\"stroke:#000000; stroke-linecap:round; stroke-linejoin:round; stroke-width:2; stroke-opacity:0.1; fill:none\" points=\"2100.62,1486.45 2100.62,47.2441 \"/>\n",
       "<polyline clip-path=\"url(#clip560)\" style=\"stroke:#000000; stroke-linecap:round; stroke-linejoin:round; stroke-width:4; stroke-opacity:1; fill:none\" points=\"186.274,1486.45 2352.76,1486.45 \"/>\n",
       "<polyline clip-path=\"url(#clip560)\" style=\"stroke:#000000; stroke-linecap:round; stroke-linejoin:round; stroke-width:4; stroke-opacity:1; fill:none\" points=\"438.411,1486.45 438.411,1467.55 \"/>\n",
       "<polyline clip-path=\"url(#clip560)\" style=\"stroke:#000000; stroke-linecap:round; stroke-linejoin:round; stroke-width:4; stroke-opacity:1; fill:none\" points=\"770.853,1486.45 770.853,1467.55 \"/>\n",
       "<polyline clip-path=\"url(#clip560)\" style=\"stroke:#000000; stroke-linecap:round; stroke-linejoin:round; stroke-width:4; stroke-opacity:1; fill:none\" points=\"1103.29,1486.45 1103.29,1467.55 \"/>\n",
       "<polyline clip-path=\"url(#clip560)\" style=\"stroke:#000000; stroke-linecap:round; stroke-linejoin:round; stroke-width:4; stroke-opacity:1; fill:none\" points=\"1435.74,1486.45 1435.74,1467.55 \"/>\n",
       "<polyline clip-path=\"url(#clip560)\" style=\"stroke:#000000; stroke-linecap:round; stroke-linejoin:round; stroke-width:4; stroke-opacity:1; fill:none\" points=\"1768.18,1486.45 1768.18,1467.55 \"/>\n",
       "<polyline clip-path=\"url(#clip560)\" style=\"stroke:#000000; stroke-linecap:round; stroke-linejoin:round; stroke-width:4; stroke-opacity:1; fill:none\" points=\"2100.62,1486.45 2100.62,1467.55 \"/>\n",
       "<path clip-path=\"url(#clip560)\" d=\"M428.793 1544.91 L436.432 1544.91 L436.432 1518.55 L428.122 1520.21 L428.122 1515.95 L436.386 1514.29 L441.061 1514.29 L441.061 1544.91 L448.7 1544.91 L448.7 1548.85 L428.793 1548.85 L428.793 1544.91 Z\" fill=\"#000000\" fill-rule=\"nonzero\" fill-opacity=\"1\" /><path clip-path=\"url(#clip560)\" d=\"M765.505 1544.91 L781.825 1544.91 L781.825 1548.85 L759.88 1548.85 L759.88 1544.91 Q762.542 1542.16 767.126 1537.53 Q771.732 1532.88 772.913 1531.53 Q775.158 1529.01 776.038 1527.27 Q776.941 1525.51 776.941 1523.82 Q776.941 1521.07 774.996 1519.33 Q773.075 1517.6 769.973 1517.6 Q767.774 1517.6 765.32 1518.36 Q762.89 1519.13 760.112 1520.68 L760.112 1515.95 Q762.936 1514.82 765.39 1514.24 Q767.843 1513.66 769.88 1513.66 Q775.251 1513.66 778.445 1516.35 Q781.64 1519.03 781.64 1523.52 Q781.64 1525.65 780.829 1527.57 Q780.042 1529.47 777.936 1532.07 Q777.357 1532.74 774.255 1535.95 Q771.154 1539.15 765.505 1544.91 Z\" fill=\"#000000\" fill-rule=\"nonzero\" fill-opacity=\"1\" /><path clip-path=\"url(#clip560)\" d=\"M1107.54 1530.21 Q1110.9 1530.93 1112.77 1533.2 Q1114.67 1535.47 1114.67 1538.8 Q1114.67 1543.92 1111.15 1546.72 Q1107.63 1549.52 1101.15 1549.52 Q1098.98 1549.52 1096.66 1549.08 Q1094.37 1548.66 1091.92 1547.81 L1091.92 1543.29 Q1093.86 1544.43 1096.18 1545.01 Q1098.49 1545.58 1101.01 1545.58 Q1105.41 1545.58 1107.7 1543.85 Q1110.02 1542.11 1110.02 1538.8 Q1110.02 1535.75 1107.87 1534.03 Q1105.74 1532.3 1101.92 1532.3 L1097.89 1532.3 L1097.89 1528.45 L1102.1 1528.45 Q1105.55 1528.45 1107.38 1527.09 Q1109.21 1525.7 1109.21 1523.11 Q1109.21 1520.45 1107.31 1519.03 Q1105.44 1517.6 1101.92 1517.6 Q1100 1517.6 1097.8 1518.01 Q1095.6 1518.43 1092.96 1519.31 L1092.96 1515.14 Q1095.62 1514.4 1097.94 1514.03 Q1100.27 1513.66 1102.33 1513.66 Q1107.66 1513.66 1110.76 1516.09 Q1113.86 1518.5 1113.86 1522.62 Q1113.86 1525.49 1112.22 1527.48 Q1110.57 1529.45 1107.54 1530.21 Z\" fill=\"#000000\" fill-rule=\"nonzero\" fill-opacity=\"1\" /><path clip-path=\"url(#clip560)\" d=\"M1438.74 1518.36 L1426.94 1536.81 L1438.74 1536.81 L1438.74 1518.36 M1437.52 1514.29 L1443.4 1514.29 L1443.4 1536.81 L1448.33 1536.81 L1448.33 1540.7 L1443.4 1540.7 L1443.4 1548.85 L1438.74 1548.85 L1438.74 1540.7 L1423.14 1540.7 L1423.14 1536.19 L1437.52 1514.29 Z\" fill=\"#000000\" fill-rule=\"nonzero\" fill-opacity=\"1\" /><path clip-path=\"url(#clip560)\" d=\"M1758.46 1514.29 L1776.81 1514.29 L1776.81 1518.22 L1762.74 1518.22 L1762.74 1526.7 Q1763.76 1526.35 1764.77 1526.19 Q1765.79 1526 1766.81 1526 Q1772.6 1526 1775.98 1529.17 Q1779.36 1532.34 1779.36 1537.76 Q1779.36 1543.34 1775.89 1546.44 Q1772.41 1549.52 1766.09 1549.52 Q1763.92 1549.52 1761.65 1549.15 Q1759.4 1548.78 1757 1548.04 L1757 1543.34 Q1759.08 1544.47 1761.3 1545.03 Q1763.52 1545.58 1766 1545.58 Q1770.01 1545.58 1772.34 1543.48 Q1774.68 1541.37 1774.68 1537.76 Q1774.68 1534.15 1772.34 1532.04 Q1770.01 1529.94 1766 1529.94 Q1764.13 1529.94 1762.25 1530.35 Q1760.4 1530.77 1758.46 1531.65 L1758.46 1514.29 Z\" fill=\"#000000\" fill-rule=\"nonzero\" fill-opacity=\"1\" /><path clip-path=\"url(#clip560)\" d=\"M2101.02 1529.7 Q2097.88 1529.7 2096.02 1531.86 Q2094.2 1534.01 2094.2 1537.76 Q2094.2 1541.49 2096.02 1543.66 Q2097.88 1545.82 2101.02 1545.82 Q2104.17 1545.82 2106 1543.66 Q2107.85 1541.49 2107.85 1537.76 Q2107.85 1534.01 2106 1531.86 Q2104.17 1529.7 2101.02 1529.7 M2110.31 1515.05 L2110.31 1519.31 Q2108.55 1518.48 2106.74 1518.04 Q2104.96 1517.6 2103.2 1517.6 Q2098.57 1517.6 2096.12 1520.72 Q2093.69 1523.85 2093.34 1530.17 Q2094.7 1528.15 2096.76 1527.09 Q2098.82 1526 2101.3 1526 Q2106.51 1526 2109.52 1529.17 Q2112.55 1532.32 2112.55 1537.76 Q2112.55 1543.08 2109.4 1546.3 Q2106.26 1549.52 2101.02 1549.52 Q2095.03 1549.52 2091.86 1544.94 Q2088.69 1540.33 2088.69 1531.6 Q2088.69 1523.41 2092.57 1518.55 Q2096.46 1513.66 2103.01 1513.66 Q2104.77 1513.66 2106.56 1514.01 Q2108.36 1514.36 2110.31 1515.05 Z\" fill=\"#000000\" fill-rule=\"nonzero\" fill-opacity=\"1\" /><polyline clip-path=\"url(#clip562)\" style=\"stroke:#000000; stroke-linecap:round; stroke-linejoin:round; stroke-width:2; stroke-opacity:0.1; fill:none\" points=\"186.274,1486.45 2352.76,1486.45 \"/>\n",
       "<polyline clip-path=\"url(#clip562)\" style=\"stroke:#000000; stroke-linecap:round; stroke-linejoin:round; stroke-width:2; stroke-opacity:0.1; fill:none\" points=\"186.274,1198.61 2352.76,1198.61 \"/>\n",
       "<polyline clip-path=\"url(#clip562)\" style=\"stroke:#000000; stroke-linecap:round; stroke-linejoin:round; stroke-width:2; stroke-opacity:0.1; fill:none\" points=\"186.274,910.766 2352.76,910.766 \"/>\n",
       "<polyline clip-path=\"url(#clip562)\" style=\"stroke:#000000; stroke-linecap:round; stroke-linejoin:round; stroke-width:2; stroke-opacity:0.1; fill:none\" points=\"186.274,622.926 2352.76,622.926 \"/>\n",
       "<polyline clip-path=\"url(#clip562)\" style=\"stroke:#000000; stroke-linecap:round; stroke-linejoin:round; stroke-width:2; stroke-opacity:0.1; fill:none\" points=\"186.274,335.085 2352.76,335.085 \"/>\n",
       "<polyline clip-path=\"url(#clip560)\" style=\"stroke:#000000; stroke-linecap:round; stroke-linejoin:round; stroke-width:4; stroke-opacity:1; fill:none\" points=\"186.274,1486.45 186.274,47.2441 \"/>\n",
       "<polyline clip-path=\"url(#clip560)\" style=\"stroke:#000000; stroke-linecap:round; stroke-linejoin:round; stroke-width:4; stroke-opacity:1; fill:none\" points=\"186.274,1486.45 205.172,1486.45 \"/>\n",
       "<polyline clip-path=\"url(#clip560)\" style=\"stroke:#000000; stroke-linecap:round; stroke-linejoin:round; stroke-width:4; stroke-opacity:1; fill:none\" points=\"186.274,1198.61 205.172,1198.61 \"/>\n",
       "<polyline clip-path=\"url(#clip560)\" style=\"stroke:#000000; stroke-linecap:round; stroke-linejoin:round; stroke-width:4; stroke-opacity:1; fill:none\" points=\"186.274,910.766 205.172,910.766 \"/>\n",
       "<polyline clip-path=\"url(#clip560)\" style=\"stroke:#000000; stroke-linecap:round; stroke-linejoin:round; stroke-width:4; stroke-opacity:1; fill:none\" points=\"186.274,622.926 205.172,622.926 \"/>\n",
       "<polyline clip-path=\"url(#clip560)\" style=\"stroke:#000000; stroke-linecap:round; stroke-linejoin:round; stroke-width:4; stroke-opacity:1; fill:none\" points=\"186.274,335.085 205.172,335.085 \"/>\n",
       "<path clip-path=\"url(#clip560)\" d=\"M62.9365 1472.25 Q59.3254 1472.25 57.4967 1475.81 Q55.6912 1479.35 55.6912 1486.48 Q55.6912 1493.59 57.4967 1497.15 Q59.3254 1500.7 62.9365 1500.7 Q66.5707 1500.7 68.3763 1497.15 Q70.205 1493.59 70.205 1486.48 Q70.205 1479.35 68.3763 1475.81 Q66.5707 1472.25 62.9365 1472.25 M62.9365 1468.54 Q68.7467 1468.54 71.8022 1473.15 Q74.8809 1477.73 74.8809 1486.48 Q74.8809 1495.21 71.8022 1499.82 Q68.7467 1504.4 62.9365 1504.4 Q57.1264 1504.4 54.0477 1499.82 Q50.9921 1495.21 50.9921 1486.48 Q50.9921 1477.73 54.0477 1473.15 Q57.1264 1468.54 62.9365 1468.54 Z\" fill=\"#000000\" fill-rule=\"nonzero\" fill-opacity=\"1\" /><path clip-path=\"url(#clip560)\" d=\"M83.0984 1497.85 L87.9827 1497.85 L87.9827 1503.73 L83.0984 1503.73 L83.0984 1497.85 Z\" fill=\"#000000\" fill-rule=\"nonzero\" fill-opacity=\"1\" /><path clip-path=\"url(#clip560)\" d=\"M108.168 1472.25 Q104.557 1472.25 102.728 1475.81 Q100.922 1479.35 100.922 1486.48 Q100.922 1493.59 102.728 1497.15 Q104.557 1500.7 108.168 1500.7 Q111.802 1500.7 113.608 1497.15 Q115.436 1493.59 115.436 1486.48 Q115.436 1479.35 113.608 1475.81 Q111.802 1472.25 108.168 1472.25 M108.168 1468.54 Q113.978 1468.54 117.033 1473.15 Q120.112 1477.73 120.112 1486.48 Q120.112 1495.21 117.033 1499.82 Q113.978 1504.4 108.168 1504.4 Q102.358 1504.4 99.2789 1499.82 Q96.2234 1495.21 96.2234 1486.48 Q96.2234 1477.73 99.2789 1473.15 Q102.358 1468.54 108.168 1468.54 Z\" fill=\"#000000\" fill-rule=\"nonzero\" fill-opacity=\"1\" /><path clip-path=\"url(#clip560)\" d=\"M138.33 1472.25 Q134.719 1472.25 132.89 1475.81 Q131.084 1479.35 131.084 1486.48 Q131.084 1493.59 132.89 1497.15 Q134.719 1500.7 138.33 1500.7 Q141.964 1500.7 143.769 1497.15 Q145.598 1493.59 145.598 1486.48 Q145.598 1479.35 143.769 1475.81 Q141.964 1472.25 138.33 1472.25 M138.33 1468.54 Q144.14 1468.54 147.195 1473.15 Q150.274 1477.73 150.274 1486.48 Q150.274 1495.21 147.195 1499.82 Q144.14 1504.4 138.33 1504.4 Q132.519 1504.4 129.441 1499.82 Q126.385 1495.21 126.385 1486.48 Q126.385 1477.73 129.441 1473.15 Q132.519 1468.54 138.33 1468.54 Z\" fill=\"#000000\" fill-rule=\"nonzero\" fill-opacity=\"1\" /><path clip-path=\"url(#clip560)\" d=\"M63.9319 1184.41 Q60.3208 1184.41 58.4921 1187.97 Q56.6865 1191.51 56.6865 1198.64 Q56.6865 1205.75 58.4921 1209.31 Q60.3208 1212.85 63.9319 1212.85 Q67.5661 1212.85 69.3717 1209.31 Q71.2004 1205.75 71.2004 1198.64 Q71.2004 1191.51 69.3717 1187.97 Q67.5661 1184.41 63.9319 1184.41 M63.9319 1180.7 Q69.742 1180.7 72.7976 1185.31 Q75.8763 1189.89 75.8763 1198.64 Q75.8763 1207.37 72.7976 1211.98 Q69.742 1216.56 63.9319 1216.56 Q58.1217 1216.56 55.043 1211.98 Q51.9875 1207.37 51.9875 1198.64 Q51.9875 1189.89 55.043 1185.31 Q58.1217 1180.7 63.9319 1180.7 Z\" fill=\"#000000\" fill-rule=\"nonzero\" fill-opacity=\"1\" /><path clip-path=\"url(#clip560)\" d=\"M84.0938 1210.01 L88.978 1210.01 L88.978 1215.89 L84.0938 1215.89 L84.0938 1210.01 Z\" fill=\"#000000\" fill-rule=\"nonzero\" fill-opacity=\"1\" /><path clip-path=\"url(#clip560)\" d=\"M109.163 1184.41 Q105.552 1184.41 103.723 1187.97 Q101.918 1191.51 101.918 1198.64 Q101.918 1205.75 103.723 1209.31 Q105.552 1212.85 109.163 1212.85 Q112.797 1212.85 114.603 1209.31 Q116.432 1205.75 116.432 1198.64 Q116.432 1191.51 114.603 1187.97 Q112.797 1184.41 109.163 1184.41 M109.163 1180.7 Q114.973 1180.7 118.029 1185.31 Q121.107 1189.89 121.107 1198.64 Q121.107 1207.37 118.029 1211.98 Q114.973 1216.56 109.163 1216.56 Q103.353 1216.56 100.274 1211.98 Q97.2187 1207.37 97.2187 1198.64 Q97.2187 1189.89 100.274 1185.31 Q103.353 1180.7 109.163 1180.7 Z\" fill=\"#000000\" fill-rule=\"nonzero\" fill-opacity=\"1\" /><path clip-path=\"url(#clip560)\" d=\"M129.371 1181.33 L147.728 1181.33 L147.728 1185.26 L133.654 1185.26 L133.654 1193.73 Q134.672 1193.39 135.691 1193.23 Q136.709 1193.04 137.728 1193.04 Q143.515 1193.04 146.894 1196.21 Q150.274 1199.38 150.274 1204.8 Q150.274 1210.38 146.802 1213.48 Q143.33 1216.56 137.01 1216.56 Q134.834 1216.56 132.566 1216.19 Q130.32 1215.82 127.913 1215.08 L127.913 1210.38 Q129.996 1211.51 132.219 1212.07 Q134.441 1212.62 136.918 1212.62 Q140.922 1212.62 143.26 1210.52 Q145.598 1208.41 145.598 1204.8 Q145.598 1201.19 143.26 1199.08 Q140.922 1196.98 136.918 1196.98 Q135.043 1196.98 133.168 1197.39 Q131.316 1197.81 129.371 1198.69 L129.371 1181.33 Z\" fill=\"#000000\" fill-rule=\"nonzero\" fill-opacity=\"1\" /><path clip-path=\"url(#clip560)\" d=\"M62.9365 896.565 Q59.3254 896.565 57.4967 900.13 Q55.6912 903.671 55.6912 910.801 Q55.6912 917.908 57.4967 921.472 Q59.3254 925.014 62.9365 925.014 Q66.5707 925.014 68.3763 921.472 Q70.205 917.908 70.205 910.801 Q70.205 903.671 68.3763 900.13 Q66.5707 896.565 62.9365 896.565 M62.9365 892.861 Q68.7467 892.861 71.8022 897.468 Q74.8809 902.051 74.8809 910.801 Q74.8809 919.528 71.8022 924.134 Q68.7467 928.718 62.9365 928.718 Q57.1264 928.718 54.0477 924.134 Q50.9921 919.528 50.9921 910.801 Q50.9921 902.051 54.0477 897.468 Q57.1264 892.861 62.9365 892.861 Z\" fill=\"#000000\" fill-rule=\"nonzero\" fill-opacity=\"1\" /><path clip-path=\"url(#clip560)\" d=\"M83.0984 922.167 L87.9827 922.167 L87.9827 928.046 L83.0984 928.046 L83.0984 922.167 Z\" fill=\"#000000\" fill-rule=\"nonzero\" fill-opacity=\"1\" /><path clip-path=\"url(#clip560)\" d=\"M98.978 924.111 L106.617 924.111 L106.617 897.746 L98.3067 899.412 L98.3067 895.153 L106.571 893.486 L111.246 893.486 L111.246 924.111 L118.885 924.111 L118.885 928.046 L98.978 928.046 L98.978 924.111 Z\" fill=\"#000000\" fill-rule=\"nonzero\" fill-opacity=\"1\" /><path clip-path=\"url(#clip560)\" d=\"M138.33 896.565 Q134.719 896.565 132.89 900.13 Q131.084 903.671 131.084 910.801 Q131.084 917.908 132.89 921.472 Q134.719 925.014 138.33 925.014 Q141.964 925.014 143.769 921.472 Q145.598 917.908 145.598 910.801 Q145.598 903.671 143.769 900.13 Q141.964 896.565 138.33 896.565 M138.33 892.861 Q144.14 892.861 147.195 897.468 Q150.274 902.051 150.274 910.801 Q150.274 919.528 147.195 924.134 Q144.14 928.718 138.33 928.718 Q132.519 928.718 129.441 924.134 Q126.385 919.528 126.385 910.801 Q126.385 902.051 129.441 897.468 Q132.519 892.861 138.33 892.861 Z\" fill=\"#000000\" fill-rule=\"nonzero\" fill-opacity=\"1\" /><path clip-path=\"url(#clip560)\" d=\"M63.9319 608.724 Q60.3208 608.724 58.4921 612.289 Q56.6865 615.831 56.6865 622.96 Q56.6865 630.067 58.4921 633.632 Q60.3208 637.173 63.9319 637.173 Q67.5661 637.173 69.3717 633.632 Q71.2004 630.067 71.2004 622.96 Q71.2004 615.831 69.3717 612.289 Q67.5661 608.724 63.9319 608.724 M63.9319 605.021 Q69.742 605.021 72.7976 609.627 Q75.8763 614.21 75.8763 622.96 Q75.8763 631.687 72.7976 636.294 Q69.742 640.877 63.9319 640.877 Q58.1217 640.877 55.043 636.294 Q51.9875 631.687 51.9875 622.96 Q51.9875 614.21 55.043 609.627 Q58.1217 605.021 63.9319 605.021 Z\" fill=\"#000000\" fill-rule=\"nonzero\" fill-opacity=\"1\" /><path clip-path=\"url(#clip560)\" d=\"M84.0938 634.326 L88.978 634.326 L88.978 640.206 L84.0938 640.206 L84.0938 634.326 Z\" fill=\"#000000\" fill-rule=\"nonzero\" fill-opacity=\"1\" /><path clip-path=\"url(#clip560)\" d=\"M99.9733 636.27 L107.612 636.27 L107.612 609.905 L99.3021 611.572 L99.3021 607.312 L107.566 605.646 L112.242 605.646 L112.242 636.27 L119.881 636.27 L119.881 640.206 L99.9733 640.206 L99.9733 636.27 Z\" fill=\"#000000\" fill-rule=\"nonzero\" fill-opacity=\"1\" /><path clip-path=\"url(#clip560)\" d=\"M129.371 605.646 L147.728 605.646 L147.728 609.581 L133.654 609.581 L133.654 618.053 Q134.672 617.706 135.691 617.544 Q136.709 617.359 137.728 617.359 Q143.515 617.359 146.894 620.53 Q150.274 623.701 150.274 629.118 Q150.274 634.696 146.802 637.798 Q143.33 640.877 137.01 640.877 Q134.834 640.877 132.566 640.507 Q130.32 640.136 127.913 639.395 L127.913 634.696 Q129.996 635.831 132.219 636.386 Q134.441 636.942 136.918 636.942 Q140.922 636.942 143.26 634.835 Q145.598 632.729 145.598 629.118 Q145.598 625.507 143.26 623.4 Q140.922 621.294 136.918 621.294 Q135.043 621.294 133.168 621.71 Q131.316 622.127 129.371 623.007 L129.371 605.646 Z\" fill=\"#000000\" fill-rule=\"nonzero\" fill-opacity=\"1\" /><path clip-path=\"url(#clip560)\" d=\"M62.9365 320.884 Q59.3254 320.884 57.4967 324.448 Q55.6912 327.99 55.6912 335.12 Q55.6912 342.226 57.4967 345.791 Q59.3254 349.332 62.9365 349.332 Q66.5707 349.332 68.3763 345.791 Q70.205 342.226 70.205 335.12 Q70.205 327.99 68.3763 324.448 Q66.5707 320.884 62.9365 320.884 M62.9365 317.18 Q68.7467 317.18 71.8022 321.786 Q74.8809 326.37 74.8809 335.12 Q74.8809 343.846 71.8022 348.453 Q68.7467 353.036 62.9365 353.036 Q57.1264 353.036 54.0477 348.453 Q50.9921 343.846 50.9921 335.12 Q50.9921 326.37 54.0477 321.786 Q57.1264 317.18 62.9365 317.18 Z\" fill=\"#000000\" fill-rule=\"nonzero\" fill-opacity=\"1\" /><path clip-path=\"url(#clip560)\" d=\"M83.0984 346.485 L87.9827 346.485 L87.9827 352.365 L83.0984 352.365 L83.0984 346.485 Z\" fill=\"#000000\" fill-rule=\"nonzero\" fill-opacity=\"1\" /><path clip-path=\"url(#clip560)\" d=\"M102.196 348.43 L118.515 348.43 L118.515 352.365 L96.5706 352.365 L96.5706 348.43 Q99.2326 345.675 103.816 341.045 Q108.422 336.393 109.603 335.05 Q111.848 332.527 112.728 330.791 Q113.631 329.032 113.631 327.342 Q113.631 324.587 111.686 322.851 Q109.765 321.115 106.663 321.115 Q104.464 321.115 102.01 321.879 Q99.5798 322.643 96.8021 324.194 L96.8021 319.472 Q99.6261 318.337 102.08 317.759 Q104.534 317.18 106.571 317.18 Q111.941 317.18 115.135 319.865 Q118.33 322.55 118.33 327.041 Q118.33 329.171 117.52 331.092 Q116.733 332.99 114.626 335.583 Q114.047 336.254 110.946 339.471 Q107.844 342.666 102.196 348.43 Z\" fill=\"#000000\" fill-rule=\"nonzero\" fill-opacity=\"1\" /><path clip-path=\"url(#clip560)\" d=\"M138.33 320.884 Q134.719 320.884 132.89 324.448 Q131.084 327.99 131.084 335.12 Q131.084 342.226 132.89 345.791 Q134.719 349.332 138.33 349.332 Q141.964 349.332 143.769 345.791 Q145.598 342.226 145.598 335.12 Q145.598 327.99 143.769 324.448 Q141.964 320.884 138.33 320.884 M138.33 317.18 Q144.14 317.18 147.195 321.786 Q150.274 326.37 150.274 335.12 Q150.274 343.846 147.195 348.453 Q144.14 353.036 138.33 353.036 Q132.519 353.036 129.441 348.453 Q126.385 343.846 126.385 335.12 Q126.385 326.37 129.441 321.786 Q132.519 317.18 138.33 317.18 Z\" fill=\"#000000\" fill-rule=\"nonzero\" fill-opacity=\"1\" /><path clip-path=\"url(#clip562)\" d=\"M305.434 526.979 L305.434 1486.45 L571.388 1486.45 L571.388 526.979 L305.434 526.979 L305.434 526.979  Z\" fill=\"#009af9\" fill-rule=\"evenodd\" fill-opacity=\"1\"/>\n",
       "<polyline clip-path=\"url(#clip562)\" style=\"stroke:#000000; stroke-linecap:round; stroke-linejoin:round; stroke-width:4; stroke-opacity:1; fill:none\" points=\"305.434,526.979 305.434,1486.45 571.388,1486.45 571.388,526.979 305.434,526.979 \"/>\n",
       "<path clip-path=\"url(#clip562)\" d=\"M637.876 526.979 L637.876 1486.45 L903.829 1486.45 L903.829 526.979 L637.876 526.979 L637.876 526.979  Z\" fill=\"#009af9\" fill-rule=\"evenodd\" fill-opacity=\"1\"/>\n",
       "<polyline clip-path=\"url(#clip562)\" style=\"stroke:#000000; stroke-linecap:round; stroke-linejoin:round; stroke-width:4; stroke-opacity:1; fill:none\" points=\"637.876,526.979 637.876,1486.45 903.829,1486.45 903.829,526.979 637.876,526.979 \"/>\n",
       "<path clip-path=\"url(#clip562)\" d=\"M970.318 526.979 L970.318 1486.45 L1236.27 1486.45 L1236.27 526.979 L970.318 526.979 L970.318 526.979  Z\" fill=\"#009af9\" fill-rule=\"evenodd\" fill-opacity=\"1\"/>\n",
       "<polyline clip-path=\"url(#clip562)\" style=\"stroke:#000000; stroke-linecap:round; stroke-linejoin:round; stroke-width:4; stroke-opacity:1; fill:none\" points=\"970.318,526.979 970.318,1486.45 1236.27,1486.45 1236.27,526.979 970.318,526.979 \"/>\n",
       "<path clip-path=\"url(#clip562)\" d=\"M1302.76 526.979 L1302.76 1486.45 L1568.71 1486.45 L1568.71 526.979 L1302.76 526.979 L1302.76 526.979  Z\" fill=\"#009af9\" fill-rule=\"evenodd\" fill-opacity=\"1\"/>\n",
       "<polyline clip-path=\"url(#clip562)\" style=\"stroke:#000000; stroke-linecap:round; stroke-linejoin:round; stroke-width:4; stroke-opacity:1; fill:none\" points=\"1302.76,526.979 1302.76,1486.45 1568.71,1486.45 1568.71,526.979 1302.76,526.979 \"/>\n",
       "<path clip-path=\"url(#clip562)\" d=\"M1635.2 526.979 L1635.2 1486.45 L1901.15 1486.45 L1901.15 526.979 L1635.2 526.979 L1635.2 526.979  Z\" fill=\"#009af9\" fill-rule=\"evenodd\" fill-opacity=\"1\"/>\n",
       "<polyline clip-path=\"url(#clip562)\" style=\"stroke:#000000; stroke-linecap:round; stroke-linejoin:round; stroke-width:4; stroke-opacity:1; fill:none\" points=\"1635.2,526.979 1635.2,1486.45 1901.15,1486.45 1901.15,526.979 1635.2,526.979 \"/>\n",
       "<path clip-path=\"url(#clip562)\" d=\"M1967.64 526.979 L1967.64 1486.45 L2233.6 1486.45 L2233.6 526.979 L1967.64 526.979 L1967.64 526.979  Z\" fill=\"#009af9\" fill-rule=\"evenodd\" fill-opacity=\"1\"/>\n",
       "<polyline clip-path=\"url(#clip562)\" style=\"stroke:#000000; stroke-linecap:round; stroke-linejoin:round; stroke-width:4; stroke-opacity:1; fill:none\" points=\"1967.64,526.979 1967.64,1486.45 2233.6,1486.45 2233.6,526.979 1967.64,526.979 \"/>\n",
       "<circle clip-path=\"url(#clip562)\" style=\"fill:#009af9; stroke:none; fill-opacity:0\" cx=\"438.411\" cy=\"526.979\" r=\"2\"/>\n",
       "<circle clip-path=\"url(#clip562)\" style=\"fill:#009af9; stroke:none; fill-opacity:0\" cx=\"770.853\" cy=\"526.979\" r=\"2\"/>\n",
       "<circle clip-path=\"url(#clip562)\" style=\"fill:#009af9; stroke:none; fill-opacity:0\" cx=\"1103.29\" cy=\"526.979\" r=\"2\"/>\n",
       "<circle clip-path=\"url(#clip562)\" style=\"fill:#009af9; stroke:none; fill-opacity:0\" cx=\"1435.74\" cy=\"526.979\" r=\"2\"/>\n",
       "<circle clip-path=\"url(#clip562)\" style=\"fill:#009af9; stroke:none; fill-opacity:0\" cx=\"1768.18\" cy=\"526.979\" r=\"2\"/>\n",
       "<circle clip-path=\"url(#clip562)\" style=\"fill:#009af9; stroke:none; fill-opacity:0\" cx=\"2100.62\" cy=\"526.979\" r=\"2\"/>\n",
       "<path clip-path=\"url(#clip560)\" d=\"M1512.02 198.898 L2280.54 198.898 L2280.54 95.2176 L1512.02 95.2176  Z\" fill=\"#ffffff\" fill-rule=\"evenodd\" fill-opacity=\"1\"/>\n",
       "<polyline clip-path=\"url(#clip560)\" style=\"stroke:#000000; stroke-linecap:round; stroke-linejoin:round; stroke-width:4; stroke-opacity:1; fill:none\" points=\"1512.02,198.898 2280.54,198.898 2280.54,95.2176 1512.02,95.2176 1512.02,198.898 \"/>\n",
       "<path clip-path=\"url(#clip560)\" d=\"M1536.09 167.794 L1680.52 167.794 L1680.52 126.322 L1536.09 126.322 L1536.09 167.794  Z\" fill=\"#009af9\" fill-rule=\"evenodd\" fill-opacity=\"1\"/>\n",
       "<polyline clip-path=\"url(#clip560)\" style=\"stroke:#000000; stroke-linecap:round; stroke-linejoin:round; stroke-width:4; stroke-opacity:1; fill:none\" points=\"1536.09,167.794 1680.52,167.794 1680.52,126.322 1536.09,126.322 1536.09,167.794 \"/>\n",
       "<path clip-path=\"url(#clip560)\" d=\"M1716.54 132.856 Q1712.93 132.856 1711.1 136.421 Q1709.29 139.963 1709.29 147.092 Q1709.29 154.199 1711.1 157.764 Q1712.93 161.305 1716.54 161.305 Q1720.17 161.305 1721.98 157.764 Q1723.81 154.199 1723.81 147.092 Q1723.81 139.963 1721.98 136.421 Q1720.17 132.856 1716.54 132.856 M1716.54 129.153 Q1722.35 129.153 1725.41 133.759 Q1728.48 138.342 1728.48 147.092 Q1728.48 155.819 1725.41 160.426 Q1722.35 165.009 1716.54 165.009 Q1710.73 165.009 1707.65 160.426 Q1704.6 155.819 1704.6 147.092 Q1704.6 138.342 1707.65 133.759 Q1710.73 129.153 1716.54 129.153 Z\" fill=\"#000000\" fill-rule=\"nonzero\" fill-opacity=\"1\" /><path clip-path=\"url(#clip560)\" d=\"M1736.7 158.458 L1741.59 158.458 L1741.59 164.338 L1736.7 164.338 L1736.7 158.458 Z\" fill=\"#000000\" fill-rule=\"nonzero\" fill-opacity=\"1\" /><path clip-path=\"url(#clip560)\" d=\"M1752.58 160.402 L1760.22 160.402 L1760.22 134.037 L1751.91 135.703 L1751.91 131.444 L1760.17 129.778 L1764.85 129.778 L1764.85 160.402 L1772.49 160.402 L1772.49 164.338 L1752.58 164.338 L1752.58 160.402 Z\" fill=\"#000000\" fill-rule=\"nonzero\" fill-opacity=\"1\" /><path clip-path=\"url(#clip560)\" d=\"M1792.51 145.194 Q1789.36 145.194 1787.51 147.347 Q1785.68 149.5 1785.68 153.25 Q1785.68 156.976 1787.51 159.152 Q1789.36 161.305 1792.51 161.305 Q1795.66 161.305 1797.49 159.152 Q1799.34 156.976 1799.34 153.25 Q1799.34 149.5 1797.49 147.347 Q1795.66 145.194 1792.51 145.194 M1801.79 130.541 L1801.79 134.801 Q1800.04 133.967 1798.23 133.528 Q1796.45 133.088 1794.69 133.088 Q1790.06 133.088 1787.6 136.213 Q1785.17 139.338 1784.83 145.657 Q1786.19 143.643 1788.25 142.578 Q1790.31 141.49 1792.79 141.49 Q1798 141.49 1801.01 144.662 Q1804.04 147.81 1804.04 153.25 Q1804.04 158.574 1800.89 161.791 Q1797.74 165.009 1792.51 165.009 Q1786.52 165.009 1783.35 160.426 Q1780.17 155.819 1780.17 147.092 Q1780.17 138.898 1784.06 134.037 Q1787.95 129.153 1794.5 129.153 Q1796.26 129.153 1798.04 129.5 Q1799.85 129.847 1801.79 130.541 Z\" fill=\"#000000\" fill-rule=\"nonzero\" fill-opacity=\"1\" /><path clip-path=\"url(#clip560)\" d=\"M1822.67 145.194 Q1819.53 145.194 1817.67 147.347 Q1815.85 149.5 1815.85 153.25 Q1815.85 156.976 1817.67 159.152 Q1819.53 161.305 1822.67 161.305 Q1825.82 161.305 1827.65 159.152 Q1829.5 156.976 1829.5 153.25 Q1829.5 149.5 1827.65 147.347 Q1825.82 145.194 1822.67 145.194 M1831.96 130.541 L1831.96 134.801 Q1830.2 133.967 1828.39 133.528 Q1826.61 133.088 1824.85 133.088 Q1820.22 133.088 1817.77 136.213 Q1815.34 139.338 1814.99 145.657 Q1816.35 143.643 1818.41 142.578 Q1820.47 141.49 1822.95 141.49 Q1828.16 141.49 1831.17 144.662 Q1834.2 147.81 1834.2 153.25 Q1834.2 158.574 1831.05 161.791 Q1827.91 165.009 1822.67 165.009 Q1816.68 165.009 1813.51 160.426 Q1810.34 155.819 1810.34 147.092 Q1810.34 138.898 1814.22 134.037 Q1818.11 129.153 1824.66 129.153 Q1826.42 129.153 1828.21 129.5 Q1830.01 129.847 1831.96 130.541 Z\" fill=\"#000000\" fill-rule=\"nonzero\" fill-opacity=\"1\" /><path clip-path=\"url(#clip560)\" d=\"M1852.84 145.194 Q1849.69 145.194 1847.84 147.347 Q1846.01 149.5 1846.01 153.25 Q1846.01 156.976 1847.84 159.152 Q1849.69 161.305 1852.84 161.305 Q1855.98 161.305 1857.81 159.152 Q1859.66 156.976 1859.66 153.25 Q1859.66 149.5 1857.81 147.347 Q1855.98 145.194 1852.84 145.194 M1862.12 130.541 L1862.12 134.801 Q1860.36 133.967 1858.55 133.528 Q1856.77 133.088 1855.01 133.088 Q1850.38 133.088 1847.93 136.213 Q1845.5 139.338 1845.15 145.657 Q1846.52 143.643 1848.58 142.578 Q1850.64 141.49 1853.11 141.49 Q1858.32 141.49 1861.33 144.662 Q1864.36 147.81 1864.36 153.25 Q1864.36 158.574 1861.22 161.791 Q1858.07 165.009 1852.84 165.009 Q1846.84 165.009 1843.67 160.426 Q1840.5 155.819 1840.5 147.092 Q1840.5 138.898 1844.39 134.037 Q1848.28 129.153 1854.83 129.153 Q1856.59 129.153 1858.37 129.5 Q1860.17 129.847 1862.12 130.541 Z\" fill=\"#000000\" fill-rule=\"nonzero\" fill-opacity=\"1\" /><path clip-path=\"url(#clip560)\" d=\"M1883 145.194 Q1879.85 145.194 1878 147.347 Q1876.17 149.5 1876.17 153.25 Q1876.17 156.976 1878 159.152 Q1879.85 161.305 1883 161.305 Q1886.15 161.305 1887.97 159.152 Q1889.83 156.976 1889.83 153.25 Q1889.83 149.5 1887.97 147.347 Q1886.15 145.194 1883 145.194 M1892.28 130.541 L1892.28 134.801 Q1890.52 133.967 1888.72 133.528 Q1886.93 133.088 1885.17 133.088 Q1880.54 133.088 1878.09 136.213 Q1875.66 139.338 1875.31 145.657 Q1876.68 143.643 1878.74 142.578 Q1880.8 141.49 1883.28 141.49 Q1888.48 141.49 1891.49 144.662 Q1894.53 147.81 1894.53 153.25 Q1894.53 158.574 1891.38 161.791 Q1888.23 165.009 1883 165.009 Q1877 165.009 1873.83 160.426 Q1870.66 155.819 1870.66 147.092 Q1870.66 138.898 1874.55 134.037 Q1878.44 129.153 1884.99 129.153 Q1886.75 129.153 1888.53 129.5 Q1890.34 129.847 1892.28 130.541 Z\" fill=\"#000000\" fill-rule=\"nonzero\" fill-opacity=\"1\" /><path clip-path=\"url(#clip560)\" d=\"M1913.16 145.194 Q1910.01 145.194 1908.16 147.347 Q1906.33 149.5 1906.33 153.25 Q1906.33 156.976 1908.16 159.152 Q1910.01 161.305 1913.16 161.305 Q1916.31 161.305 1918.14 159.152 Q1919.99 156.976 1919.99 153.25 Q1919.99 149.5 1918.14 147.347 Q1916.31 145.194 1913.16 145.194 M1922.44 130.541 L1922.44 134.801 Q1920.68 133.967 1918.88 133.528 Q1917.09 133.088 1915.34 133.088 Q1910.71 133.088 1908.25 136.213 Q1905.82 139.338 1905.47 145.657 Q1906.84 143.643 1908.9 142.578 Q1910.96 141.49 1913.44 141.49 Q1918.65 141.49 1921.65 144.662 Q1924.69 147.81 1924.69 153.25 Q1924.69 158.574 1921.54 161.791 Q1918.39 165.009 1913.16 165.009 Q1907.16 165.009 1903.99 160.426 Q1900.82 155.819 1900.82 147.092 Q1900.82 138.898 1904.71 134.037 Q1908.6 129.153 1915.15 129.153 Q1916.91 129.153 1918.69 129.5 Q1920.5 129.847 1922.44 130.541 Z\" fill=\"#000000\" fill-rule=\"nonzero\" fill-opacity=\"1\" /><path clip-path=\"url(#clip560)\" d=\"M1943.32 145.194 Q1940.17 145.194 1938.32 147.347 Q1936.49 149.5 1936.49 153.25 Q1936.49 156.976 1938.32 159.152 Q1940.17 161.305 1943.32 161.305 Q1946.47 161.305 1948.3 159.152 Q1950.15 156.976 1950.15 153.25 Q1950.15 149.5 1948.3 147.347 Q1946.47 145.194 1943.32 145.194 M1952.6 130.541 L1952.6 134.801 Q1950.84 133.967 1949.04 133.528 Q1947.26 133.088 1945.5 133.088 Q1940.87 133.088 1938.41 136.213 Q1935.98 139.338 1935.64 145.657 Q1937 143.643 1939.06 142.578 Q1941.12 141.49 1943.6 141.49 Q1948.81 141.49 1951.82 144.662 Q1954.85 147.81 1954.85 153.25 Q1954.85 158.574 1951.7 161.791 Q1948.55 165.009 1943.32 165.009 Q1937.33 165.009 1934.15 160.426 Q1930.98 155.819 1930.98 147.092 Q1930.98 138.898 1934.87 134.037 Q1938.76 129.153 1945.31 129.153 Q1947.07 129.153 1948.85 129.5 Q1950.66 129.847 1952.6 130.541 Z\" fill=\"#000000\" fill-rule=\"nonzero\" fill-opacity=\"1\" /><path clip-path=\"url(#clip560)\" d=\"M1973.48 145.194 Q1970.34 145.194 1968.48 147.347 Q1966.65 149.5 1966.65 153.25 Q1966.65 156.976 1968.48 159.152 Q1970.34 161.305 1973.48 161.305 Q1976.63 161.305 1978.46 159.152 Q1980.31 156.976 1980.31 153.25 Q1980.31 149.5 1978.46 147.347 Q1976.63 145.194 1973.48 145.194 M1982.77 130.541 L1982.77 134.801 Q1981.01 133.967 1979.2 133.528 Q1977.42 133.088 1975.66 133.088 Q1971.03 133.088 1968.58 136.213 Q1966.15 139.338 1965.8 145.657 Q1967.16 143.643 1969.22 142.578 Q1971.28 141.49 1973.76 141.49 Q1978.97 141.49 1981.98 144.662 Q1985.01 147.81 1985.01 153.25 Q1985.01 158.574 1981.86 161.791 Q1978.71 165.009 1973.48 165.009 Q1967.49 165.009 1964.32 160.426 Q1961.15 155.819 1961.15 147.092 Q1961.15 138.898 1965.03 134.037 Q1968.92 129.153 1975.47 129.153 Q1977.23 129.153 1979.02 129.5 Q1980.82 129.847 1982.77 130.541 Z\" fill=\"#000000\" fill-rule=\"nonzero\" fill-opacity=\"1\" /><path clip-path=\"url(#clip560)\" d=\"M2003.65 145.194 Q2000.5 145.194 1998.65 147.347 Q1996.82 149.5 1996.82 153.25 Q1996.82 156.976 1998.65 159.152 Q2000.5 161.305 2003.65 161.305 Q2006.79 161.305 2008.62 159.152 Q2010.47 156.976 2010.47 153.25 Q2010.47 149.5 2008.62 147.347 Q2006.79 145.194 2003.65 145.194 M2012.93 130.541 L2012.93 134.801 Q2011.17 133.967 2009.36 133.528 Q2007.58 133.088 2005.82 133.088 Q2001.19 133.088 1998.74 136.213 Q1996.31 139.338 1995.96 145.657 Q1997.33 143.643 1999.39 142.578 Q2001.45 141.49 2003.92 141.49 Q2009.13 141.49 2012.14 144.662 Q2015.17 147.81 2015.17 153.25 Q2015.17 158.574 2012.02 161.791 Q2008.88 165.009 2003.65 165.009 Q1997.65 165.009 1994.48 160.426 Q1991.31 155.819 1991.31 147.092 Q1991.31 138.898 1995.2 134.037 Q1999.08 129.153 2005.64 129.153 Q2007.4 129.153 2009.18 129.5 Q2010.98 129.847 2012.93 130.541 Z\" fill=\"#000000\" fill-rule=\"nonzero\" fill-opacity=\"1\" /><path clip-path=\"url(#clip560)\" d=\"M2033.81 145.194 Q2030.66 145.194 2028.81 147.347 Q2026.98 149.5 2026.98 153.25 Q2026.98 156.976 2028.81 159.152 Q2030.66 161.305 2033.81 161.305 Q2036.96 161.305 2038.78 159.152 Q2040.64 156.976 2040.64 153.25 Q2040.64 149.5 2038.78 147.347 Q2036.96 145.194 2033.81 145.194 M2043.09 130.541 L2043.09 134.801 Q2041.33 133.967 2039.52 133.528 Q2037.74 133.088 2035.98 133.088 Q2031.35 133.088 2028.9 136.213 Q2026.47 139.338 2026.12 145.657 Q2027.49 143.643 2029.55 142.578 Q2031.61 141.49 2034.08 141.49 Q2039.29 141.49 2042.3 144.662 Q2045.33 147.81 2045.33 153.25 Q2045.33 158.574 2042.19 161.791 Q2039.04 165.009 2033.81 165.009 Q2027.81 165.009 2024.64 160.426 Q2021.47 155.819 2021.47 147.092 Q2021.47 138.898 2025.36 134.037 Q2029.25 129.153 2035.8 129.153 Q2037.56 129.153 2039.34 129.5 Q2041.14 129.847 2043.09 130.541 Z\" fill=\"#000000\" fill-rule=\"nonzero\" fill-opacity=\"1\" /><path clip-path=\"url(#clip560)\" d=\"M2063.97 145.194 Q2060.82 145.194 2058.97 147.347 Q2057.14 149.5 2057.14 153.25 Q2057.14 156.976 2058.97 159.152 Q2060.82 161.305 2063.97 161.305 Q2067.12 161.305 2068.95 159.152 Q2070.8 156.976 2070.8 153.25 Q2070.8 149.5 2068.95 147.347 Q2067.12 145.194 2063.97 145.194 M2073.25 130.541 L2073.25 134.801 Q2071.49 133.967 2069.69 133.528 Q2067.9 133.088 2066.14 133.088 Q2061.52 133.088 2059.06 136.213 Q2056.63 139.338 2056.28 145.657 Q2057.65 143.643 2059.71 142.578 Q2061.77 141.49 2064.25 141.49 Q2069.45 141.49 2072.46 144.662 Q2075.5 147.81 2075.5 153.25 Q2075.5 158.574 2072.35 161.791 Q2069.2 165.009 2063.97 165.009 Q2057.97 165.009 2054.8 160.426 Q2051.63 155.819 2051.63 147.092 Q2051.63 138.898 2055.52 134.037 Q2059.41 129.153 2065.96 129.153 Q2067.72 129.153 2069.5 129.5 Q2071.31 129.847 2073.25 130.541 Z\" fill=\"#000000\" fill-rule=\"nonzero\" fill-opacity=\"1\" /><path clip-path=\"url(#clip560)\" d=\"M2094.13 145.194 Q2090.98 145.194 2089.13 147.347 Q2087.3 149.5 2087.3 153.25 Q2087.3 156.976 2089.13 159.152 Q2090.98 161.305 2094.13 161.305 Q2097.28 161.305 2099.11 159.152 Q2100.96 156.976 2100.96 153.25 Q2100.96 149.5 2099.11 147.347 Q2097.28 145.194 2094.13 145.194 M2103.41 130.541 L2103.41 134.801 Q2101.65 133.967 2099.85 133.528 Q2098.07 133.088 2096.31 133.088 Q2091.68 133.088 2089.22 136.213 Q2086.79 139.338 2086.45 145.657 Q2087.81 143.643 2089.87 142.578 Q2091.93 141.49 2094.41 141.49 Q2099.62 141.49 2102.63 144.662 Q2105.66 147.81 2105.66 153.25 Q2105.66 158.574 2102.51 161.791 Q2099.36 165.009 2094.13 165.009 Q2088.14 165.009 2084.96 160.426 Q2081.79 155.819 2081.79 147.092 Q2081.79 138.898 2085.68 134.037 Q2089.57 129.153 2096.12 129.153 Q2097.88 129.153 2099.66 129.5 Q2101.47 129.847 2103.41 130.541 Z\" fill=\"#000000\" fill-rule=\"nonzero\" fill-opacity=\"1\" /><path clip-path=\"url(#clip560)\" d=\"M2124.29 145.194 Q2121.14 145.194 2119.29 147.347 Q2117.46 149.5 2117.46 153.25 Q2117.46 156.976 2119.29 159.152 Q2121.14 161.305 2124.29 161.305 Q2127.44 161.305 2129.27 159.152 Q2131.12 156.976 2131.12 153.25 Q2131.12 149.5 2129.27 147.347 Q2127.44 145.194 2124.29 145.194 M2133.57 130.541 L2133.57 134.801 Q2131.82 133.967 2130.01 133.528 Q2128.23 133.088 2126.47 133.088 Q2121.84 133.088 2119.39 136.213 Q2116.95 139.338 2116.61 145.657 Q2117.97 143.643 2120.03 142.578 Q2122.09 141.49 2124.57 141.49 Q2129.78 141.49 2132.79 144.662 Q2135.82 147.81 2135.82 153.25 Q2135.82 158.574 2132.67 161.791 Q2129.52 165.009 2124.29 165.009 Q2118.3 165.009 2115.13 160.426 Q2111.95 155.819 2111.95 147.092 Q2111.95 138.898 2115.84 134.037 Q2119.73 129.153 2126.28 129.153 Q2128.04 129.153 2129.82 129.5 Q2131.63 129.847 2133.57 130.541 Z\" fill=\"#000000\" fill-rule=\"nonzero\" fill-opacity=\"1\" /><path clip-path=\"url(#clip560)\" d=\"M2154.45 145.194 Q2151.31 145.194 2149.45 147.347 Q2147.63 149.5 2147.63 153.25 Q2147.63 156.976 2149.45 159.152 Q2151.31 161.305 2154.45 161.305 Q2157.6 161.305 2159.43 159.152 Q2161.28 156.976 2161.28 153.25 Q2161.28 149.5 2159.43 147.347 Q2157.6 145.194 2154.45 145.194 M2163.74 130.541 L2163.74 134.801 Q2161.98 133.967 2160.17 133.528 Q2158.39 133.088 2156.63 133.088 Q2152 133.088 2149.55 136.213 Q2147.12 139.338 2146.77 145.657 Q2148.14 143.643 2150.2 142.578 Q2152.26 141.49 2154.73 141.49 Q2159.94 141.49 2162.95 144.662 Q2165.98 147.81 2165.98 153.25 Q2165.98 158.574 2162.83 161.791 Q2159.69 165.009 2154.45 165.009 Q2148.46 165.009 2145.29 160.426 Q2142.12 155.819 2142.12 147.092 Q2142.12 138.898 2146.01 134.037 Q2149.89 129.153 2156.45 129.153 Q2158.2 129.153 2159.99 129.5 Q2161.79 129.847 2163.74 130.541 Z\" fill=\"#000000\" fill-rule=\"nonzero\" fill-opacity=\"1\" /><path clip-path=\"url(#clip560)\" d=\"M2184.62 145.194 Q2181.47 145.194 2179.62 147.347 Q2177.79 149.5 2177.79 153.25 Q2177.79 156.976 2179.62 159.152 Q2181.47 161.305 2184.62 161.305 Q2187.76 161.305 2189.59 159.152 Q2191.45 156.976 2191.45 153.25 Q2191.45 149.5 2189.59 147.347 Q2187.76 145.194 2184.62 145.194 M2193.9 130.541 L2193.9 134.801 Q2192.14 133.967 2190.33 133.528 Q2188.55 133.088 2186.79 133.088 Q2182.16 133.088 2179.71 136.213 Q2177.28 139.338 2176.93 145.657 Q2178.3 143.643 2180.36 142.578 Q2182.42 141.49 2184.89 141.49 Q2190.1 141.49 2193.11 144.662 Q2196.14 147.81 2196.14 153.25 Q2196.14 158.574 2193 161.791 Q2189.85 165.009 2184.62 165.009 Q2178.62 165.009 2175.45 160.426 Q2172.28 155.819 2172.28 147.092 Q2172.28 138.898 2176.17 134.037 Q2180.06 129.153 2186.61 129.153 Q2188.37 129.153 2190.15 129.5 Q2191.95 129.847 2193.9 130.541 Z\" fill=\"#000000\" fill-rule=\"nonzero\" fill-opacity=\"1\" /><path clip-path=\"url(#clip560)\" d=\"M2214.78 145.194 Q2211.63 145.194 2209.78 147.347 Q2207.95 149.5 2207.95 153.25 Q2207.95 156.976 2209.78 159.152 Q2211.63 161.305 2214.78 161.305 Q2217.93 161.305 2219.76 159.152 Q2221.61 156.976 2221.61 153.25 Q2221.61 149.5 2219.76 147.347 Q2217.93 145.194 2214.78 145.194 M2224.06 130.541 L2224.06 134.801 Q2222.3 133.967 2220.5 133.528 Q2218.71 133.088 2216.95 133.088 Q2212.32 133.088 2209.87 136.213 Q2207.44 139.338 2207.09 145.657 Q2208.46 143.643 2210.52 142.578 Q2212.58 141.49 2215.06 141.49 Q2220.26 141.49 2223.27 144.662 Q2226.31 147.81 2226.31 153.25 Q2226.31 158.574 2223.16 161.791 Q2220.01 165.009 2214.78 165.009 Q2208.78 165.009 2205.61 160.426 Q2202.44 155.819 2202.44 147.092 Q2202.44 138.898 2206.33 134.037 Q2210.22 129.153 2216.77 129.153 Q2218.53 129.153 2220.31 129.5 Q2222.12 129.847 2224.06 130.541 Z\" fill=\"#000000\" fill-rule=\"nonzero\" fill-opacity=\"1\" /><path clip-path=\"url(#clip560)\" d=\"M2244.94 145.194 Q2241.79 145.194 2239.94 147.347 Q2238.11 149.5 2238.11 153.25 Q2238.11 156.976 2239.94 159.152 Q2241.79 161.305 2244.94 161.305 Q2248.09 161.305 2249.92 159.152 Q2251.77 156.976 2251.77 153.25 Q2251.77 149.5 2249.92 147.347 Q2248.09 145.194 2244.94 145.194 M2254.22 130.541 L2254.22 134.801 Q2252.46 133.967 2250.66 133.528 Q2248.88 133.088 2247.12 133.088 Q2242.49 133.088 2240.03 136.213 Q2237.6 139.338 2237.25 145.657 Q2238.62 143.643 2240.68 142.578 Q2242.74 141.49 2245.22 141.49 Q2250.43 141.49 2253.44 144.662 Q2256.47 147.81 2256.47 153.25 Q2256.47 158.574 2253.32 161.791 Q2250.17 165.009 2244.94 165.009 Q2238.94 165.009 2235.77 160.426 Q2232.6 155.819 2232.6 147.092 Q2232.6 138.898 2236.49 134.037 Q2240.38 129.153 2246.93 129.153 Q2248.69 129.153 2250.47 129.5 Q2252.28 129.847 2254.22 130.541 Z\" fill=\"#000000\" fill-rule=\"nonzero\" fill-opacity=\"1\" /></svg>\n"
      ]
     },
     "execution_count": 160,
     "metadata": {},
     "output_type": "execute_result"
    }
   ],
   "source": [
    "bar(pmf, ylims=(0.0, .25), label=\"$(pmf[1])\")"
   ]
  },
  {
   "cell_type": "raw",
   "id": "2cbe6918-cdd4-4d4c-8c40-765ffaf21ac1",
   "metadata": {},
   "source": [
    "# Calculate the expectation\n",
    "expectation_value = E(d)\n",
    "\n",
    "println(\"Expectation: $expectation_value\")\n"
   ]
  },
  {
   "cell_type": "code",
   "execution_count": 129,
   "id": "12047cf8-f3f2-402b-9b89-138e2dc16712",
   "metadata": {},
   "outputs": [
    {
     "data": {
      "text/plain": [
       "IterableExpectation{Vector{Float64}, Vector{Float64}}([0.005771623893508604, 0.030410092731472105, 0.07473557039969592, 0.13875615602756852, 0.22247053322763577, 0.3258756917067558, 0.4489676533222564, 0.591741607526103, 0.7541919475071381, 0.9363122823681351  …  999.0636877176319, 999.2458080524929, 999.408258392474, 999.5510323466777, 999.6741243082932, 999.7775294667724, 999.8612438439725, 999.9252644296002, 999.9695899072685, 999.9942283761065], [0.014726580204699784, 0.033445822963946915, 0.05027195282874849, 0.0642975826744261, 0.07489867754592283, 0.08175409021803386, 0.08484989947659768, 0.08445042381988148, 0.08104192823044161, 0.07525921125496864  …  0.0, 0.0, 0.0, 0.0, 0.0, 0.0, 0.0, 0.0, 0.0, 0.0])"
      ]
     },
     "execution_count": 129,
     "metadata": {},
     "output_type": "execute_result"
    }
   ],
   "source": [
    "Eλ = expectation(truncated(Exponential(),0.0,1000.0))"
   ]
  },
  {
   "cell_type": "code",
   "execution_count": 130,
   "id": "2e526ddc-73c4-4490-ae04-ce34fc7bd330",
   "metadata": {},
   "outputs": [
    {
     "data": {
      "text/plain": [
       "0.9999999999999939"
      ]
     },
     "execution_count": 130,
     "metadata": {},
     "output_type": "execute_result"
    }
   ],
   "source": [
    "Eλ(x -> x)"
   ]
  },
  {
   "cell_type": "code",
   "execution_count": 131,
   "id": "df227edb-b356-4b64-b2fc-ff7d369fa0fd",
   "metadata": {},
   "outputs": [],
   "source": [
    "# Creating original samples...\n",
    "N = Normal(0,1)\n",
    "obs = rand(N,10000);\n"
   ]
  },
  {
   "cell_type": "code",
   "execution_count": 132,
   "id": "36c45ec0-8a72-44dd-b754-d28b861a580c",
   "metadata": {},
   "outputs": [],
   "source": [
    "# Cdf..\n",
    "myCdf = ecdf(obs)\n",
    "cdf_obs = map(x -> myCdf(x), sort(obs));\n",
    "# Cdf --> Pmf..\n",
    "pmf_obs = Float64[]\n",
    "for i in 1:length(obs)\n",
    "    if i == 1 \n",
    "        append!(pmf_obs,cdf_obs[1])\n",
    "    else\n",
    "        append!(pmf_obs,cdf_obs[i]-cdf_obs[i-1])\n",
    "    end\n",
    "end "
   ]
  },
  {
   "cell_type": "code",
   "execution_count": 133,
   "id": "934558d0-595b-418b-a7c0-17a78ac101f0",
   "metadata": {},
   "outputs": [
    {
     "name": "stdout",
     "output_type": "stream",
     "text": [
      "typeof(obs) = Vector{Float64}\n"
     ]
    },
    {
     "data": {
      "text/plain": [
       "Vector{Float64}\u001b[90m (alias for \u001b[39m\u001b[90mArray{Float64, 1}\u001b[39m\u001b[90m)\u001b[39m"
      ]
     },
     "execution_count": 133,
     "metadata": {},
     "output_type": "execute_result"
    }
   ],
   "source": [
    "# Creating a full distribution object..\n",
    "d = DiscreteNonParametric(sort(obs),pmf_obs)\n",
    "@show typeof(obs)"
   ]
  },
  {
   "cell_type": "code",
   "execution_count": 134,
   "id": "3f7159fd-500e-4ab0-aeea-89d367e83609",
   "metadata": {},
   "outputs": [
    {
     "data": {
      "text/plain": [
       "0.5005"
      ]
     },
     "execution_count": 134,
     "metadata": {},
     "output_type": "execute_result"
    }
   ],
   "source": [
    "# Sampling from the distribution object..\n",
    "out = rand(d,100)\n",
    "# Test it...\n",
    "plot(sort(out))\n",
    "quantile(d,0.5)\n",
    "quantile(d,1-0.025)\n",
    "cdf(d,0)"
   ]
  },
  {
   "cell_type": "code",
   "execution_count": null,
   "id": "d0dce01d-fab0-4c0c-b5c1-ba3d10d37c9d",
   "metadata": {},
   "outputs": [],
   "source": []
  },
  {
   "cell_type": "code",
   "execution_count": null,
   "id": "eb3df87c-c994-4cdd-8d28-83f3c597d6af",
   "metadata": {},
   "outputs": [],
   "source": []
  }
 ],
 "metadata": {
  "kernelspec": {
   "display_name": "Julia 1.9.3",
   "language": "julia",
   "name": "julia-1.9"
  },
  "language_info": {
   "file_extension": ".jl",
   "mimetype": "application/julia",
   "name": "julia",
   "version": "1.10.0"
  }
 },
 "nbformat": 4,
 "nbformat_minor": 5
}
