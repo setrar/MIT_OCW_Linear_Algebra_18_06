{
 "cells": [
  {
   "cell_type": "code",
   "execution_count": 3,
   "id": "fb967f6d-b1a5-4fde-9525-cc2e4a74c642",
   "metadata": {},
   "outputs": [],
   "source": [
    "using Symbolics"
   ]
  },
  {
   "cell_type": "code",
   "execution_count": 7,
   "id": "e074e61a-aa36-4d1c-8680-7dc7a26f6539",
   "metadata": {},
   "outputs": [
    {
     "data": {
      "text/latex": [
       "$$ \\begin{equation}\n",
       "\\left[\n",
       "\\begin{array}{c}\n",
       "A \\\\\n",
       "\\end{array}\n",
       "\\right]\n",
       "\\end{equation}\n",
       " $$"
      ],
      "text/plain": [
       "1-element Vector{Num}:\n",
       " A"
      ]
     },
     "execution_count": 7,
     "metadata": {},
     "output_type": "execute_result"
    }
   ],
   "source": [
    "@variables A = [2 -2 0 1 1; 2 -1 1 -2 1; 0 3 4 -3 1; 0 0 -2 -5 -3; 0 0 0 7 3]"
   ]
  },
  {
   "cell_type": "code",
   "execution_count": 8,
   "id": "d80b815c-8c0a-4ef2-ab8d-852b692c122b",
   "metadata": {},
   "outputs": [
    {
     "data": {
      "text/plain": [
       "1-element Vector{Any}:\n",
       " A"
      ]
     },
     "execution_count": 8,
     "metadata": {},
     "output_type": "execute_result"
    }
   ],
   "source": [
    "Symbolics.get_variables(A)"
   ]
  },
  {
   "cell_type": "code",
   "execution_count": 9,
   "id": "d3612c14-008b-44d5-b132-2ea52bbb3e8b",
   "metadata": {},
   "outputs": [
    {
     "data": {
      "text/plain": [
       ":A"
      ]
     },
     "execution_count": 9,
     "metadata": {},
     "output_type": "execute_result"
    }
   ],
   "source": [
    "Symbolics.tosymbol(A)"
   ]
  },
  {
   "cell_type": "code",
   "execution_count": 10,
   "id": "998cf16d-e847-46b9-af07-4c0e27021383",
   "metadata": {},
   "outputs": [
    {
     "data": {
      "text/plain": [
       "4-element Vector{Any}:\n",
       "       x\n",
       "       t\n",
       " u(x, t)\n",
       "        (z(t))[1:2]"
      ]
     },
     "execution_count": 10,
     "metadata": {},
     "output_type": "execute_result"
    }
   ],
   "source": [
    "@variables x t u(x, t) z(t)[1:2]"
   ]
  },
  {
   "cell_type": "code",
   "execution_count": 16,
   "id": "e20d40fb-8ac1-463b-82c3-193687147689",
   "metadata": {},
   "outputs": [
    {
     "data": {
      "text/plain": [
       "(::Differential) (generic function with 3 methods)"
      ]
     },
     "execution_count": 16,
     "metadata": {},
     "output_type": "execute_result"
    }
   ],
   "source": [
    "Dₜ = Differential(t)"
   ]
  },
  {
   "cell_type": "code",
   "execution_count": 17,
   "id": "b30c2e08-f9b0-4006-8813-cf14f3ec52d9",
   "metadata": {},
   "outputs": [
    {
     "data": {
      "text/plain": [
       "(::Differential) (generic function with 3 methods)"
      ]
     },
     "execution_count": 17,
     "metadata": {},
     "output_type": "execute_result"
    }
   ],
   "source": [
    "Dₓ = Differential(x)"
   ]
  },
  {
   "cell_type": "code",
   "execution_count": 18,
   "id": "04c47557-cdce-4ffa-8604-a5cd7f8c9910",
   "metadata": {},
   "outputs": [
    {
     "data": {
      "text/latex": [
       "$$ \\begin{equation}\n",
       "uˍtx\\left( x, t \\right)\n",
       "\\end{equation}\n",
       " $$"
      ],
      "text/plain": [
       "uˍtx(x, t)"
      ]
     },
     "execution_count": 18,
     "metadata": {},
     "output_type": "execute_result"
    }
   ],
   "source": [
    "ex = Symbolics.diff2term(Symbolics.value(Dₓ(Dₜ(u))))"
   ]
  },
  {
   "cell_type": "code",
   "execution_count": 20,
   "id": "b175c065-0ff6-4d45-811b-ce168c487053",
   "metadata": {},
   "outputs": [
    {
     "data": {
      "text/latex": [
       "$$ \\begin{equation}\n",
       "z(t)[1]ˍt\n",
       "\\end{equation}\n",
       " $$"
      ],
      "text/plain": [
       "var\"z(t)[1]ˍt\""
      ]
     },
     "execution_count": 20,
     "metadata": {},
     "output_type": "execute_result"
    }
   ],
   "source": [
    "ex₂ = Symbolics.diff2term(Symbolics.value(Dₜ(z[1])))"
   ]
  },
  {
   "cell_type": "code",
   "execution_count": 21,
   "id": "6302c821-66c0-4cf6-a79c-b3595daf9a07",
   "metadata": {},
   "outputs": [
    {
     "data": {
      "text/latex": [
       "\\begin{equation}\n",
       "z(t)[1]ˍt\n",
       "\\end{equation}\n"
      ],
      "text/plain": [
       "L\"\\begin{equation}\n",
       "z(t)[1]ˍt\n",
       "\\end{equation}\n",
       "\""
      ]
     },
     "execution_count": 21,
     "metadata": {},
     "output_type": "execute_result"
    }
   ],
   "source": [
    "using Latexify\n",
    "latexify(ex₂)"
   ]
  },
  {
   "cell_type": "code",
   "execution_count": 22,
   "id": "5db4cd40-dad0-44bb-87b6-39abb346173a",
   "metadata": {},
   "outputs": [],
   "source": [
    "vars = @variables x₁ x₂;"
   ]
  },
  {
   "cell_type": "code",
   "execution_count": 23,
   "id": "cbef4760-175b-47cc-8f29-864dd198b3d9",
   "metadata": {},
   "outputs": [],
   "source": [
    "exprs = [2x₁, 3x₂, 4x₁ * x₂];"
   ]
  },
  {
   "cell_type": "code",
   "execution_count": 26,
   "id": "e8f5b979-f9f8-4347-99a8-a00a4a8fde50",
   "metadata": {},
   "outputs": [
    {
     "data": {
      "text/plain": [
       "3×2 SparseArrays.SparseMatrixCSC{Bool, Int64} with 4 stored entries:\n",
       " 1  ⋅\n",
       " ⋅  1\n",
       " 1  1"
      ]
     },
     "execution_count": 26,
     "metadata": {},
     "output_type": "execute_result"
    }
   ],
   "source": [
    "Symbolics.jacobian_sparsity(exprs, vars)"
   ]
  },
  {
   "cell_type": "code",
   "execution_count": 33,
   "id": "9938129d-3505-4edb-afff-4a56253d9625",
   "metadata": {},
   "outputs": [
    {
     "data": {
      "text/latex": [
       "$$ \\begin{equation}\n",
       "10 x\\left( t \\right) - 20 w\\left( -1 + t \\right) + y^{\\alpha} + \\left(  - t + z\\left( t, \\alpha, x\\left( t \\right) \\right) \\right) \\sigma\\left( 3 \\right)\n",
       "\\end{equation}\n",
       " $$"
      ],
      "text/plain": [
       "10x(t) - 20w(-1 + t) + y^α + (-t + z(t, α, x(t)))*σ(3)"
      ]
     },
     "execution_count": 33,
     "metadata": {},
     "output_type": "execute_result"
    }
   ],
   "source": [
    "@variables t α σ(..) β[1:2]\n",
    "@variables w(..) x(t) y z(t, α, x)\n",
    "expr = β[1]* x + y^α + σ(3) * (z - t) - β[2] * w(t - 1)\n",
    "substitute(expr, Dict(β[i] => 10*i for i in 1:2))"
   ]
  },
  {
   "cell_type": "markdown",
   "id": "22ac9786-0048-48cf-8253-e073719891dd",
   "metadata": {},
   "source": [
    "# References\n",
    "- [ ] [18.06 Pset 1 Solutions](https://web.mit.edu/18.06/www/Fall2022/pset1sol.html)"
   ]
  },
  {
   "cell_type": "markdown",
   "id": "ed0a11e7-0e70-473f-9d07-a3afd6548452",
   "metadata": {},
   "source": [
    "---"
   ]
  },
  {
   "cell_type": "code",
   "execution_count": 12,
   "id": "853ff993-9a4a-4092-9e9b-d7ac99f78e58",
   "metadata": {},
   "outputs": [
    {
     "data": {
      "text/plain": [
       "4×5 Matrix{Int64}:\n",
       " -1   1   0   0  0\n",
       "  0  -1   1   0  0\n",
       "  0   0  -1   1  0\n",
       "  0   0   0  -1  1"
      ]
     },
     "execution_count": 12,
     "metadata": {},
     "output_type": "execute_result"
    }
   ],
   "source": [
    "using LinearAlgebra\n",
    "D = diagm(4, 5, 0 => fill(-1, 4), 1 => fill(1, 4))"
   ]
  },
  {
   "cell_type": "code",
   "execution_count": 14,
   "id": "e8e0ea29-1d75-4828-8ee3-f30aa08dfa31",
   "metadata": {},
   "outputs": [
    {
     "data": {
      "image/png": "[encoded data removed]",
      "image/svg+xml": [
       "<?xml version=\"1.0\" encoding=\"utf-8\"?>\n",
       "<svg xmlns=\"http://www.w3.org/2000/svg\" xmlns:xlink=\"http://www.w3.org/1999/xlink\" width=\"600\" height=\"400\" viewBox=\"0 0 2400 1600\">\n",
       "<defs>\n",
       "  <clipPath id=\"clip710\">\n",
       "    <rect x=\"0\" y=\"0\" width=\"2400\" height=\"1600\"/>\n",
       "  </clipPath>\n",
       "</defs>\n",
       "<path clip-path=\"url(#clip710)\" d=\"M0 1600 L2400 1600 L2400 0 L0 0  Z\" fill=\"#ffffff\" fill-rule=\"evenodd\" fill-opacity=\"1\"/>\n",
       "<defs>\n",
       "  <clipPath id=\"clip711\">\n",
       "    <rect x=\"480\" y=\"0\" width=\"1681\" height=\"1600\"/>\n",
       "  </clipPath>\n",
       "</defs>\n",
       "<path clip-path=\"url(#clip710)\" d=\"M147.478 1486.45 L2352.76 1486.45 L2352.76 47.2441 L147.478 47.2441  Z\" fill=\"#ffffff\" fill-rule=\"evenodd\" fill-opacity=\"1\"/>\n",
       "<defs>\n",
       "  <clipPath id=\"clip712\">\n",
       "    <rect x=\"147\" y=\"47\" width=\"2206\" height=\"1440\"/>\n",
       "  </clipPath>\n",
       "</defs>\n",
       "<polyline clip-path=\"url(#clip712)\" style=\"stroke:#000000; stroke-linecap:round; stroke-linejoin:round; stroke-width:2; stroke-opacity:0.1; fill:none\" points=\"147.478,1486.45 147.478,47.2441 \"/>\n",
       "<polyline clip-path=\"url(#clip712)\" style=\"stroke:#000000; stroke-linecap:round; stroke-linejoin:round; stroke-width:2; stroke-opacity:0.1; fill:none\" points=\"588.534,1486.45 588.534,47.2441 \"/>\n",
       "<polyline clip-path=\"url(#clip712)\" style=\"stroke:#000000; stroke-linecap:round; stroke-linejoin:round; stroke-width:2; stroke-opacity:0.1; fill:none\" points=\"1029.59,1486.45 1029.59,47.2441 \"/>\n",
       "<polyline clip-path=\"url(#clip712)\" style=\"stroke:#000000; stroke-linecap:round; stroke-linejoin:round; stroke-width:2; stroke-opacity:0.1; fill:none\" points=\"1470.64,1486.45 1470.64,47.2441 \"/>\n",
       "<polyline clip-path=\"url(#clip712)\" style=\"stroke:#000000; stroke-linecap:round; stroke-linejoin:round; stroke-width:2; stroke-opacity:0.1; fill:none\" points=\"1911.7,1486.45 1911.7,47.2441 \"/>\n",
       "<polyline clip-path=\"url(#clip712)\" style=\"stroke:#000000; stroke-linecap:round; stroke-linejoin:round; stroke-width:2; stroke-opacity:0.1; fill:none\" points=\"2352.76,1486.45 2352.76,47.2441 \"/>\n",
       "<polyline clip-path=\"url(#clip710)\" style=\"stroke:#000000; stroke-linecap:round; stroke-linejoin:round; stroke-width:4; stroke-opacity:1; fill:none\" points=\"147.478,1486.45 2352.76,1486.45 \"/>\n",
       "<polyline clip-path=\"url(#clip710)\" style=\"stroke:#000000; stroke-linecap:round; stroke-linejoin:round; stroke-width:4; stroke-opacity:1; fill:none\" points=\"147.478,1486.45 147.478,1467.55 \"/>\n",
       "<polyline clip-path=\"url(#clip710)\" style=\"stroke:#000000; stroke-linecap:round; stroke-linejoin:round; stroke-width:4; stroke-opacity:1; fill:none\" points=\"588.534,1486.45 588.534,1467.55 \"/>\n",
       "<polyline clip-path=\"url(#clip710)\" style=\"stroke:#000000; stroke-linecap:round; stroke-linejoin:round; stroke-width:4; stroke-opacity:1; fill:none\" points=\"1029.59,1486.45 1029.59,1467.55 \"/>\n",
       "<polyline clip-path=\"url(#clip710)\" style=\"stroke:#000000; stroke-linecap:round; stroke-linejoin:round; stroke-width:4; stroke-opacity:1; fill:none\" points=\"1470.64,1486.45 1470.64,1467.55 \"/>\n",
       "<polyline clip-path=\"url(#clip710)\" style=\"stroke:#000000; stroke-linecap:round; stroke-linejoin:round; stroke-width:4; stroke-opacity:1; fill:none\" points=\"1911.7,1486.45 1911.7,1467.55 \"/>\n",
       "<polyline clip-path=\"url(#clip710)\" style=\"stroke:#000000; stroke-linecap:round; stroke-linejoin:round; stroke-width:4; stroke-opacity:1; fill:none\" points=\"2352.76,1486.45 2352.76,1467.55 \"/>\n",
       "<path clip-path=\"url(#clip710)\" d=\"M147.478 1517.37 Q143.867 1517.37 142.038 1520.93 Q140.233 1524.47 140.233 1531.6 Q140.233 1538.71 142.038 1542.27 Q143.867 1545.82 147.478 1545.82 Q151.112 1545.82 152.918 1542.27 Q154.746 1538.71 154.746 1531.6 Q154.746 1524.47 152.918 1520.93 Q151.112 1517.37 147.478 1517.37 M147.478 1513.66 Q153.288 1513.66 156.344 1518.27 Q159.422 1522.85 159.422 1531.6 Q159.422 1540.33 156.344 1544.94 Q153.288 1549.52 147.478 1549.52 Q141.668 1549.52 138.589 1544.94 Q135.534 1540.33 135.534 1531.6 Q135.534 1522.85 138.589 1518.27 Q141.668 1513.66 147.478 1513.66 Z\" fill=\"#000000\" fill-rule=\"nonzero\" fill-opacity=\"1\" /><path clip-path=\"url(#clip710)\" d=\"M578.916 1544.91 L586.554 1544.91 L586.554 1518.55 L578.244 1520.21 L578.244 1515.95 L586.508 1514.29 L591.184 1514.29 L591.184 1544.91 L598.823 1544.91 L598.823 1548.85 L578.916 1548.85 L578.916 1544.91 Z\" fill=\"#000000\" fill-rule=\"nonzero\" fill-opacity=\"1\" /><path clip-path=\"url(#clip710)\" d=\"M1024.24 1544.91 L1040.56 1544.91 L1040.56 1548.85 L1018.62 1548.85 L1018.62 1544.91 Q1021.28 1542.16 1025.86 1537.53 Q1030.47 1532.88 1031.65 1531.53 Q1033.89 1529.01 1034.77 1527.27 Q1035.68 1525.51 1035.68 1523.82 Q1035.68 1521.07 1033.73 1519.33 Q1031.81 1517.6 1028.71 1517.6 Q1026.51 1517.6 1024.06 1518.36 Q1021.63 1519.13 1018.85 1520.68 L1018.85 1515.95 Q1021.67 1514.82 1024.13 1514.24 Q1026.58 1513.66 1028.62 1513.66 Q1033.99 1513.66 1037.18 1516.35 Q1040.38 1519.03 1040.38 1523.52 Q1040.38 1525.65 1039.57 1527.57 Q1038.78 1529.47 1036.67 1532.07 Q1036.09 1532.74 1032.99 1535.95 Q1029.89 1539.15 1024.24 1544.91 Z\" fill=\"#000000\" fill-rule=\"nonzero\" fill-opacity=\"1\" /><path clip-path=\"url(#clip710)\" d=\"M1474.89 1530.21 Q1478.25 1530.93 1480.12 1533.2 Q1482.02 1535.47 1482.02 1538.8 Q1482.02 1543.92 1478.5 1546.72 Q1474.98 1549.52 1468.5 1549.52 Q1466.33 1549.52 1464.01 1549.08 Q1461.72 1548.66 1459.27 1547.81 L1459.27 1543.29 Q1461.21 1544.43 1463.53 1545.01 Q1465.84 1545.58 1468.36 1545.58 Q1472.76 1545.58 1475.05 1543.85 Q1477.37 1542.11 1477.37 1538.8 Q1477.37 1535.75 1475.22 1534.03 Q1473.09 1532.3 1469.27 1532.3 L1465.24 1532.3 L1465.24 1528.45 L1469.45 1528.45 Q1472.9 1528.45 1474.73 1527.09 Q1476.56 1525.7 1476.56 1523.11 Q1476.56 1520.45 1474.66 1519.03 Q1472.79 1517.6 1469.27 1517.6 Q1467.35 1517.6 1465.15 1518.01 Q1462.95 1518.43 1460.31 1519.31 L1460.31 1515.14 Q1462.97 1514.4 1465.29 1514.03 Q1467.62 1513.66 1469.68 1513.66 Q1475.01 1513.66 1478.11 1516.09 Q1481.21 1518.5 1481.21 1522.62 Q1481.21 1525.49 1479.57 1527.48 Q1477.92 1529.45 1474.89 1530.21 Z\" fill=\"#000000\" fill-rule=\"nonzero\" fill-opacity=\"1\" /><path clip-path=\"url(#clip710)\" d=\"M1914.71 1518.36 L1902.9 1536.81 L1914.71 1536.81 L1914.71 1518.36 M1913.48 1514.29 L1919.36 1514.29 L1919.36 1536.81 L1924.29 1536.81 L1924.29 1540.7 L1919.36 1540.7 L1919.36 1548.85 L1914.71 1548.85 L1914.71 1540.7 L1899.11 1540.7 L1899.11 1536.19 L1913.48 1514.29 Z\" fill=\"#000000\" fill-rule=\"nonzero\" fill-opacity=\"1\" /><path clip-path=\"url(#clip710)\" d=\"M2343.03 1514.29 L2361.39 1514.29 L2361.39 1518.22 L2347.32 1518.22 L2347.32 1526.7 Q2348.33 1526.35 2349.35 1526.19 Q2350.37 1526 2351.39 1526 Q2357.18 1526 2360.56 1529.17 Q2363.94 1532.34 2363.94 1537.76 Q2363.94 1543.34 2360.46 1546.44 Q2356.99 1549.52 2350.67 1549.52 Q2348.5 1549.52 2346.23 1549.15 Q2343.98 1548.78 2341.58 1548.04 L2341.58 1543.34 Q2343.66 1544.47 2345.88 1545.03 Q2348.1 1545.58 2350.58 1545.58 Q2354.58 1545.58 2356.92 1543.48 Q2359.26 1541.37 2359.26 1537.76 Q2359.26 1534.15 2356.92 1532.04 Q2354.58 1529.94 2350.58 1529.94 Q2348.71 1529.94 2346.83 1530.35 Q2344.98 1530.77 2343.03 1531.65 L2343.03 1514.29 Z\" fill=\"#000000\" fill-rule=\"nonzero\" fill-opacity=\"1\" /><polyline clip-path=\"url(#clip712)\" style=\"stroke:#000000; stroke-linecap:round; stroke-linejoin:round; stroke-width:2; stroke-opacity:0.1; fill:none\" points=\"147.478,1486.45 2352.76,1486.45 \"/>\n",
       "<polyline clip-path=\"url(#clip712)\" style=\"stroke:#000000; stroke-linecap:round; stroke-linejoin:round; stroke-width:2; stroke-opacity:0.1; fill:none\" points=\"147.478,1126.65 2352.76,1126.65 \"/>\n",
       "<polyline clip-path=\"url(#clip712)\" style=\"stroke:#000000; stroke-linecap:round; stroke-linejoin:round; stroke-width:2; stroke-opacity:0.1; fill:none\" points=\"147.478,766.846 2352.76,766.846 \"/>\n",
       "<polyline clip-path=\"url(#clip712)\" style=\"stroke:#000000; stroke-linecap:round; stroke-linejoin:round; stroke-width:2; stroke-opacity:0.1; fill:none\" points=\"147.478,407.045 2352.76,407.045 \"/>\n",
       "<polyline clip-path=\"url(#clip712)\" style=\"stroke:#000000; stroke-linecap:round; stroke-linejoin:round; stroke-width:2; stroke-opacity:0.1; fill:none\" points=\"147.478,47.2441 2352.76,47.2441 \"/>\n",
       "<polyline clip-path=\"url(#clip710)\" style=\"stroke:#000000; stroke-linecap:round; stroke-linejoin:round; stroke-width:4; stroke-opacity:1; fill:none\" points=\"147.478,1486.45 147.478,47.2441 \"/>\n",
       "<polyline clip-path=\"url(#clip710)\" style=\"stroke:#000000; stroke-linecap:round; stroke-linejoin:round; stroke-width:4; stroke-opacity:1; fill:none\" points=\"147.478,1486.45 166.376,1486.45 \"/>\n",
       "<polyline clip-path=\"url(#clip710)\" style=\"stroke:#000000; stroke-linecap:round; stroke-linejoin:round; stroke-width:4; stroke-opacity:1; fill:none\" points=\"147.478,1126.65 166.376,1126.65 \"/>\n",
       "<polyline clip-path=\"url(#clip710)\" style=\"stroke:#000000; stroke-linecap:round; stroke-linejoin:round; stroke-width:4; stroke-opacity:1; fill:none\" points=\"147.478,766.846 166.376,766.846 \"/>\n",
       "<polyline clip-path=\"url(#clip710)\" style=\"stroke:#000000; stroke-linecap:round; stroke-linejoin:round; stroke-width:4; stroke-opacity:1; fill:none\" points=\"147.478,407.045 166.376,407.045 \"/>\n",
       "<polyline clip-path=\"url(#clip710)\" style=\"stroke:#000000; stroke-linecap:round; stroke-linejoin:round; stroke-width:4; stroke-opacity:1; fill:none\" points=\"147.478,47.2441 166.376,47.2441 \"/>\n",
       "<path clip-path=\"url(#clip710)\" d=\"M51.3625 1486.9 L81.0383 1486.9 L81.0383 1490.83 L51.3625 1490.83 L51.3625 1486.9 Z\" fill=\"#000000\" fill-rule=\"nonzero\" fill-opacity=\"1\" /><path clip-path=\"url(#clip710)\" d=\"M95.1586 1499.79 L111.478 1499.79 L111.478 1503.73 L89.5336 1503.73 L89.5336 1499.79 Q92.1956 1497.04 96.7789 1492.41 Q101.385 1487.76 102.566 1486.41 Q104.811 1483.89 105.691 1482.15 Q106.594 1480.39 106.594 1478.7 Q106.594 1475.95 104.649 1474.21 Q102.728 1472.48 99.6261 1472.48 Q97.4271 1472.48 94.9734 1473.24 Q92.5428 1474.01 89.7651 1475.56 L89.7651 1470.83 Q92.5891 1469.7 95.0428 1469.12 Q97.4965 1468.54 99.5335 1468.54 Q104.904 1468.54 108.098 1471.23 Q111.293 1473.91 111.293 1478.4 Q111.293 1480.53 110.483 1482.45 Q109.696 1484.35 107.589 1486.95 Q107.01 1487.62 103.909 1490.83 Q100.807 1494.03 95.1586 1499.79 Z\" fill=\"#000000\" fill-rule=\"nonzero\" fill-opacity=\"1\" /><path clip-path=\"url(#clip710)\" d=\"M50.9921 1127.1 L80.6679 1127.1 L80.6679 1131.03 L50.9921 1131.03 L50.9921 1127.1 Z\" fill=\"#000000\" fill-rule=\"nonzero\" fill-opacity=\"1\" /><path clip-path=\"url(#clip710)\" d=\"M91.5706 1139.99 L99.2095 1139.99 L99.2095 1113.63 L90.8993 1115.29 L90.8993 1111.03 L99.1632 1109.37 L103.839 1109.37 L103.839 1139.99 L111.478 1139.99 L111.478 1143.93 L91.5706 1143.93 L91.5706 1139.99 Z\" fill=\"#000000\" fill-rule=\"nonzero\" fill-opacity=\"1\" /><path clip-path=\"url(#clip710)\" d=\"M99.5335 752.645 Q95.9224 752.645 94.0937 756.209 Q92.2882 759.751 92.2882 766.881 Q92.2882 773.987 94.0937 777.552 Q95.9224 781.094 99.5335 781.094 Q103.168 781.094 104.973 777.552 Q106.802 773.987 106.802 766.881 Q106.802 759.751 104.973 756.209 Q103.168 752.645 99.5335 752.645 M99.5335 748.941 Q105.344 748.941 108.399 753.547 Q111.478 758.131 111.478 766.881 Q111.478 775.608 108.399 780.214 Q105.344 784.797 99.5335 784.797 Q93.7234 784.797 90.6447 780.214 Q87.5892 775.608 87.5892 766.881 Q87.5892 758.131 90.6447 753.547 Q93.7234 748.941 99.5335 748.941 Z\" fill=\"#000000\" fill-rule=\"nonzero\" fill-opacity=\"1\" /><path clip-path=\"url(#clip710)\" d=\"M91.5706 420.39 L99.2095 420.39 L99.2095 394.024 L90.8993 395.691 L90.8993 391.432 L99.1632 389.765 L103.839 389.765 L103.839 420.39 L111.478 420.39 L111.478 424.325 L91.5706 424.325 L91.5706 420.39 Z\" fill=\"#000000\" fill-rule=\"nonzero\" fill-opacity=\"1\" /><path clip-path=\"url(#clip710)\" d=\"M95.1586 60.5889 L111.478 60.5889 L111.478 64.5241 L89.5336 64.5241 L89.5336 60.5889 Q92.1956 57.8343 96.7789 53.2047 Q101.385 48.552 102.566 47.2094 Q104.811 44.6862 105.691 42.9501 Q106.594 41.1909 106.594 39.5011 Q106.594 36.7465 104.649 35.0104 Q102.728 33.2743 99.6261 33.2743 Q97.4271 33.2743 94.9734 34.0381 Q92.5428 34.802 89.7651 36.3529 L89.7651 31.6308 Q92.5891 30.4965 95.0428 29.9178 Q97.4965 29.3391 99.5335 29.3391 Q104.904 29.3391 108.098 32.0243 Q111.293 34.7094 111.293 39.2002 Q111.293 41.3298 110.483 43.2511 Q109.696 45.1492 107.589 47.7418 Q107.01 48.4131 103.909 51.6306 Q100.807 54.8251 95.1586 60.5889 Z\" fill=\"#000000\" fill-rule=\"nonzero\" fill-opacity=\"1\" /><polyline clip-path=\"url(#clip712)\" style=\"stroke:#ff0000; stroke-linecap:round; stroke-linejoin:round; stroke-width:4; stroke-opacity:1; fill:none\" points=\"147.478,766.846 169.753,748.682 192.029,730.564 214.305,712.539 236.58,694.652 258.856,676.95 281.131,659.476 303.407,642.277 325.682,625.395 347.958,608.874 370.233,592.756 392.509,577.081 414.784,561.891 437.06,547.223 459.335,533.116 481.611,519.604 503.886,506.723 526.162,494.506 548.438,482.983 570.713,472.183 592.989,462.136 615.264,452.865 637.54,444.395 659.815,436.748 682.091,429.942 704.366,423.995 726.642,418.923 748.917,414.738 771.193,411.451 793.468,409.07 815.744,407.602 838.02,407.05 860.295,407.415 882.571,408.697 904.846,410.893 927.122,413.996 949.397,417.999 971.673,422.891 993.948,428.661 1016.22,435.294 1038.5,442.771 1060.77,451.076 1083.05,460.185 1105.33,470.077 1127.6,480.725 1149.88,492.103 1172.15,504.182 1194.43,516.93 1216.7,530.316 1238.98,544.305 1261.25,558.862 1283.53,573.949 1305.81,589.528 1328.08,605.559 1350.36,622.002 1372.63,638.814 1394.91,655.952 1417.18,673.373 1439.46,691.033 1461.73,708.886 1484.01,726.886 1506.29,744.989 1528.56,763.147 1550.84,781.315 1573.11,799.446 1595.39,817.494 1617.66,835.413 1639.94,853.156 1662.21,870.68 1684.49,887.939 1706.77,904.889 1729.04,921.487 1751.32,937.69 1773.59,953.458 1795.87,968.75 1818.14,983.527 1840.42,997.752 1862.69,1011.39 1884.97,1024.4 1907.25,1036.75 1929.52,1048.42 1951.8,1059.37 1974.07,1069.57 1996.35,1079 2018.62,1087.64 2040.9,1095.46 2063.17,1102.43 2085.45,1108.56 2107.73,1113.81 2130,1118.17 2152.28,1121.65 2174.55,1124.21 2196.83,1125.87 2219.1,1126.6 2241.38,1126.43 2263.65,1125.33 2285.93,1123.32 2308.2,1120.4 2330.48,1116.58 2352.76,1111.87 \"/>\n",
       "<polyline clip-path=\"url(#clip712)\" style=\"stroke:#0000ff; stroke-linecap:round; stroke-linejoin:round; stroke-width:4; stroke-opacity:1; fill:none\" points=\"158.616,407.198 180.891,48.4672 203.167,51.2164 225.442,55.7906 247.718,62.1781 269.993,70.3628 292.269,80.3236 314.544,92.0351 336.82,105.468 359.095,120.587 381.371,137.354 403.647,155.727 425.922,175.658 448.198,197.096 470.473,219.988 492.749,244.275 515.024,269.894 537.3,296.78 559.575,324.865 581.851,354.077 604.126,384.342 626.402,415.583 648.677,447.719 670.953,480.669 693.229,514.349 715.504,548.672 737.78,583.553 760.055,618.9 782.331,654.625 804.606,690.636 826.882,726.842 849.157,763.149 871.433,799.466 893.708,835.7 915.984,871.758 938.259,907.548 960.535,942.98 982.81,977.962 1005.09,1012.41 1027.36,1046.22 1049.64,1079.33 1071.91,1111.64 1094.19,1143.07 1116.46,1173.54 1138.74,1202.97 1161.01,1231.29 1183.29,1258.43 1205.57,1284.31 1227.84,1308.87 1250.12,1332.05 1272.39,1353.79 1294.67,1374.03 1316.94,1392.73 1339.22,1409.82 1361.49,1425.28 1383.77,1439.06 1406.05,1451.13 1428.32,1461.45 1450.6,1469.99 1472.87,1476.75 1495.15,1481.69 1517.42,1484.81 1539.7,1486.1 1561.97,1485.56 1584.25,1483.18 1606.53,1478.98 1628.8,1472.96 1651.08,1465.14 1673.35,1455.54 1695.63,1444.18 1717.9,1431.1 1740.18,1416.32 1762.45,1399.88 1784.73,1381.83 1807.01,1362.21 1829.28,1341.08 1851.56,1318.48 1873.83,1294.47 1896.11,1269.12 1918.38,1242.48 1940.66,1214.64 1962.93,1185.65 1985.21,1155.59 2007.49,1124.54 2029.76,1092.58 2052.04,1059.79 2074.31,1026.25 2096.59,992.054 2118.86,957.28 2141.14,922.02 2163.41,886.364 2185.69,850.404 2207.96,814.231 2230.24,777.937 2252.52,741.614 2274.79,705.356 2297.07,669.255 2319.34,633.402 2341.62,597.89 2363.89,-6157.89 \"/>\n",
       "</svg>\n"
      ],
      "text/html": [
       "<?xml version=\"1.0\" encoding=\"utf-8\"?>\n",
       "<svg xmlns=\"http://www.w3.org/2000/svg\" xmlns:xlink=\"http://www.w3.org/1999/xlink\" width=\"600\" height=\"400\" viewBox=\"0 0 2400 1600\">\n",
       "<defs>\n",
       "  <clipPath id=\"clip760\">\n",
       "    <rect x=\"0\" y=\"0\" width=\"2400\" height=\"1600\"/>\n",
       "  </clipPath>\n",
       "</defs>\n",
       "<path clip-path=\"url(#clip760)\" d=\"M0 1600 L2400 1600 L2400 0 L0 0  Z\" fill=\"#ffffff\" fill-rule=\"evenodd\" fill-opacity=\"1\"/>\n",
       "<defs>\n",
       "  <clipPath id=\"clip761\">\n",
       "    <rect x=\"480\" y=\"0\" width=\"1681\" height=\"1600\"/>\n",
       "  </clipPath>\n",
       "</defs>\n",
       "<path clip-path=\"url(#clip760)\" d=\"M147.478 1486.45 L2352.76 1486.45 L2352.76 47.2441 L147.478 47.2441  Z\" fill=\"#ffffff\" fill-rule=\"evenodd\" fill-opacity=\"1\"/>\n",
       "<defs>\n",
       "  <clipPath id=\"clip762\">\n",
       "    <rect x=\"147\" y=\"47\" width=\"2206\" height=\"1440\"/>\n",
       "  </clipPath>\n",
       "</defs>\n",
       "<polyline clip-path=\"url(#clip762)\" style=\"stroke:#000000; stroke-linecap:round; stroke-linejoin:round; stroke-width:2; stroke-opacity:0.1; fill:none\" points=\"147.478,1486.45 147.478,47.2441 \"/>\n",
       "<polyline clip-path=\"url(#clip762)\" style=\"stroke:#000000; stroke-linecap:round; stroke-linejoin:round; stroke-width:2; stroke-opacity:0.1; fill:none\" points=\"588.534,1486.45 588.534,47.2441 \"/>\n",
       "<polyline clip-path=\"url(#clip762)\" style=\"stroke:#000000; stroke-linecap:round; stroke-linejoin:round; stroke-width:2; stroke-opacity:0.1; fill:none\" points=\"1029.59,1486.45 1029.59,47.2441 \"/>\n",
       "<polyline clip-path=\"url(#clip762)\" style=\"stroke:#000000; stroke-linecap:round; stroke-linejoin:round; stroke-width:2; stroke-opacity:0.1; fill:none\" points=\"1470.64,1486.45 1470.64,47.2441 \"/>\n",
       "<polyline clip-path=\"url(#clip762)\" style=\"stroke:#000000; stroke-linecap:round; stroke-linejoin:round; stroke-width:2; stroke-opacity:0.1; fill:none\" points=\"1911.7,1486.45 1911.7,47.2441 \"/>\n",
       "<polyline clip-path=\"url(#clip762)\" style=\"stroke:#000000; stroke-linecap:round; stroke-linejoin:round; stroke-width:2; stroke-opacity:0.1; fill:none\" points=\"2352.76,1486.45 2352.76,47.2441 \"/>\n",
       "<polyline clip-path=\"url(#clip760)\" style=\"stroke:#000000; stroke-linecap:round; stroke-linejoin:round; stroke-width:4; stroke-opacity:1; fill:none\" points=\"147.478,1486.45 2352.76,1486.45 \"/>\n",
       "<polyline clip-path=\"url(#clip760)\" style=\"stroke:#000000; stroke-linecap:round; stroke-linejoin:round; stroke-width:4; stroke-opacity:1; fill:none\" points=\"147.478,1486.45 147.478,1467.55 \"/>\n",
       "<polyline clip-path=\"url(#clip760)\" style=\"stroke:#000000; stroke-linecap:round; stroke-linejoin:round; stroke-width:4; stroke-opacity:1; fill:none\" points=\"588.534,1486.45 588.534,1467.55 \"/>\n",
       "<polyline clip-path=\"url(#clip760)\" style=\"stroke:#000000; stroke-linecap:round; stroke-linejoin:round; stroke-width:4; stroke-opacity:1; fill:none\" points=\"1029.59,1486.45 1029.59,1467.55 \"/>\n",
       "<polyline clip-path=\"url(#clip760)\" style=\"stroke:#000000; stroke-linecap:round; stroke-linejoin:round; stroke-width:4; stroke-opacity:1; fill:none\" points=\"1470.64,1486.45 1470.64,1467.55 \"/>\n",
       "<polyline clip-path=\"url(#clip760)\" style=\"stroke:#000000; stroke-linecap:round; stroke-linejoin:round; stroke-width:4; stroke-opacity:1; fill:none\" points=\"1911.7,1486.45 1911.7,1467.55 \"/>\n",
       "<polyline clip-path=\"url(#clip760)\" style=\"stroke:#000000; stroke-linecap:round; stroke-linejoin:round; stroke-width:4; stroke-opacity:1; fill:none\" points=\"2352.76,1486.45 2352.76,1467.55 \"/>\n",
       "<path clip-path=\"url(#clip760)\" d=\"M147.478 1517.37 Q143.867 1517.37 142.038 1520.93 Q140.233 1524.47 140.233 1531.6 Q140.233 1538.71 142.038 1542.27 Q143.867 1545.82 147.478 1545.82 Q151.112 1545.82 152.918 1542.27 Q154.746 1538.71 154.746 1531.6 Q154.746 1524.47 152.918 1520.93 Q151.112 1517.37 147.478 1517.37 M147.478 1513.66 Q153.288 1513.66 156.344 1518.27 Q159.422 1522.85 159.422 1531.6 Q159.422 1540.33 156.344 1544.94 Q153.288 1549.52 147.478 1549.52 Q141.668 1549.52 138.589 1544.94 Q135.534 1540.33 135.534 1531.6 Q135.534 1522.85 138.589 1518.27 Q141.668 1513.66 147.478 1513.66 Z\" fill=\"#000000\" fill-rule=\"nonzero\" fill-opacity=\"1\" /><path clip-path=\"url(#clip760)\" d=\"M578.916 1544.91 L586.554 1544.91 L586.554 1518.55 L578.244 1520.21 L578.244 1515.95 L586.508 1514.29 L591.184 1514.29 L591.184 1544.91 L598.823 1544.91 L598.823 1548.85 L578.916 1548.85 L578.916 1544.91 Z\" fill=\"#000000\" fill-rule=\"nonzero\" fill-opacity=\"1\" /><path clip-path=\"url(#clip760)\" d=\"M1024.24 1544.91 L1040.56 1544.91 L1040.56 1548.85 L1018.62 1548.85 L1018.62 1544.91 Q1021.28 1542.16 1025.86 1537.53 Q1030.47 1532.88 1031.65 1531.53 Q1033.89 1529.01 1034.77 1527.27 Q1035.68 1525.51 1035.68 1523.82 Q1035.68 1521.07 1033.73 1519.33 Q1031.81 1517.6 1028.71 1517.6 Q1026.51 1517.6 1024.06 1518.36 Q1021.63 1519.13 1018.85 1520.68 L1018.85 1515.95 Q1021.67 1514.82 1024.13 1514.24 Q1026.58 1513.66 1028.62 1513.66 Q1033.99 1513.66 1037.18 1516.35 Q1040.38 1519.03 1040.38 1523.52 Q1040.38 1525.65 1039.57 1527.57 Q1038.78 1529.47 1036.67 1532.07 Q1036.09 1532.74 1032.99 1535.95 Q1029.89 1539.15 1024.24 1544.91 Z\" fill=\"#000000\" fill-rule=\"nonzero\" fill-opacity=\"1\" /><path clip-path=\"url(#clip760)\" d=\"M1474.89 1530.21 Q1478.25 1530.93 1480.12 1533.2 Q1482.02 1535.47 1482.02 1538.8 Q1482.02 1543.92 1478.5 1546.72 Q1474.98 1549.52 1468.5 1549.52 Q1466.33 1549.52 1464.01 1549.08 Q1461.72 1548.66 1459.27 1547.81 L1459.27 1543.29 Q1461.21 1544.43 1463.53 1545.01 Q1465.84 1545.58 1468.36 1545.58 Q1472.76 1545.58 1475.05 1543.85 Q1477.37 1542.11 1477.37 1538.8 Q1477.37 1535.75 1475.22 1534.03 Q1473.09 1532.3 1469.27 1532.3 L1465.24 1532.3 L1465.24 1528.45 L1469.45 1528.45 Q1472.9 1528.45 1474.73 1527.09 Q1476.56 1525.7 1476.56 1523.11 Q1476.56 1520.45 1474.66 1519.03 Q1472.79 1517.6 1469.27 1517.6 Q1467.35 1517.6 1465.15 1518.01 Q1462.95 1518.43 1460.31 1519.31 L1460.31 1515.14 Q1462.97 1514.4 1465.29 1514.03 Q1467.62 1513.66 1469.68 1513.66 Q1475.01 1513.66 1478.11 1516.09 Q1481.21 1518.5 1481.21 1522.62 Q1481.21 1525.49 1479.57 1527.48 Q1477.92 1529.45 1474.89 1530.21 Z\" fill=\"#000000\" fill-rule=\"nonzero\" fill-opacity=\"1\" /><path clip-path=\"url(#clip760)\" d=\"M1914.71 1518.36 L1902.9 1536.81 L1914.71 1536.81 L1914.71 1518.36 M1913.48 1514.29 L1919.36 1514.29 L1919.36 1536.81 L1924.29 1536.81 L1924.29 1540.7 L1919.36 1540.7 L1919.36 1548.85 L1914.71 1548.85 L1914.71 1540.7 L1899.11 1540.7 L1899.11 1536.19 L1913.48 1514.29 Z\" fill=\"#000000\" fill-rule=\"nonzero\" fill-opacity=\"1\" /><path clip-path=\"url(#clip760)\" d=\"M2343.03 1514.29 L2361.39 1514.29 L2361.39 1518.22 L2347.32 1518.22 L2347.32 1526.7 Q2348.33 1526.35 2349.35 1526.19 Q2350.37 1526 2351.39 1526 Q2357.18 1526 2360.56 1529.17 Q2363.94 1532.34 2363.94 1537.76 Q2363.94 1543.34 2360.46 1546.44 Q2356.99 1549.52 2350.67 1549.52 Q2348.5 1549.52 2346.23 1549.15 Q2343.98 1548.78 2341.58 1548.04 L2341.58 1543.34 Q2343.66 1544.47 2345.88 1545.03 Q2348.1 1545.58 2350.58 1545.58 Q2354.58 1545.58 2356.92 1543.48 Q2359.26 1541.37 2359.26 1537.76 Q2359.26 1534.15 2356.92 1532.04 Q2354.58 1529.94 2350.58 1529.94 Q2348.71 1529.94 2346.83 1530.35 Q2344.98 1530.77 2343.03 1531.65 L2343.03 1514.29 Z\" fill=\"#000000\" fill-rule=\"nonzero\" fill-opacity=\"1\" /><polyline clip-path=\"url(#clip762)\" style=\"stroke:#000000; stroke-linecap:round; stroke-linejoin:round; stroke-width:2; stroke-opacity:0.1; fill:none\" points=\"147.478,1486.45 2352.76,1486.45 \"/>\n",
       "<polyline clip-path=\"url(#clip762)\" style=\"stroke:#000000; stroke-linecap:round; stroke-linejoin:round; stroke-width:2; stroke-opacity:0.1; fill:none\" points=\"147.478,1126.65 2352.76,1126.65 \"/>\n",
       "<polyline clip-path=\"url(#clip762)\" style=\"stroke:#000000; stroke-linecap:round; stroke-linejoin:round; stroke-width:2; stroke-opacity:0.1; fill:none\" points=\"147.478,766.846 2352.76,766.846 \"/>\n",
       "<polyline clip-path=\"url(#clip762)\" style=\"stroke:#000000; stroke-linecap:round; stroke-linejoin:round; stroke-width:2; stroke-opacity:0.1; fill:none\" points=\"147.478,407.045 2352.76,407.045 \"/>\n",
       "<polyline clip-path=\"url(#clip762)\" style=\"stroke:#000000; stroke-linecap:round; stroke-linejoin:round; stroke-width:2; stroke-opacity:0.1; fill:none\" points=\"147.478,47.2441 2352.76,47.2441 \"/>\n",
       "<polyline clip-path=\"url(#clip760)\" style=\"stroke:#000000; stroke-linecap:round; stroke-linejoin:round; stroke-width:4; stroke-opacity:1; fill:none\" points=\"147.478,1486.45 147.478,47.2441 \"/>\n",
       "<polyline clip-path=\"url(#clip760)\" style=\"stroke:#000000; stroke-linecap:round; stroke-linejoin:round; stroke-width:4; stroke-opacity:1; fill:none\" points=\"147.478,1486.45 166.376,1486.45 \"/>\n",
       "<polyline clip-path=\"url(#clip760)\" style=\"stroke:#000000; stroke-linecap:round; stroke-linejoin:round; stroke-width:4; stroke-opacity:1; fill:none\" points=\"147.478,1126.65 166.376,1126.65 \"/>\n",
       "<polyline clip-path=\"url(#clip760)\" style=\"stroke:#000000; stroke-linecap:round; stroke-linejoin:round; stroke-width:4; stroke-opacity:1; fill:none\" points=\"147.478,766.846 166.376,766.846 \"/>\n",
       "<polyline clip-path=\"url(#clip760)\" style=\"stroke:#000000; stroke-linecap:round; stroke-linejoin:round; stroke-width:4; stroke-opacity:1; fill:none\" points=\"147.478,407.045 166.376,407.045 \"/>\n",
       "<polyline clip-path=\"url(#clip760)\" style=\"stroke:#000000; stroke-linecap:round; stroke-linejoin:round; stroke-width:4; stroke-opacity:1; fill:none\" points=\"147.478,47.2441 166.376,47.2441 \"/>\n",
       "<path clip-path=\"url(#clip760)\" d=\"M51.3625 1486.9 L81.0383 1486.9 L81.0383 1490.83 L51.3625 1490.83 L51.3625 1486.9 Z\" fill=\"#000000\" fill-rule=\"nonzero\" fill-opacity=\"1\" /><path clip-path=\"url(#clip760)\" d=\"M95.1586 1499.79 L111.478 1499.79 L111.478 1503.73 L89.5336 1503.73 L89.5336 1499.79 Q92.1956 1497.04 96.7789 1492.41 Q101.385 1487.76 102.566 1486.41 Q104.811 1483.89 105.691 1482.15 Q106.594 1480.39 106.594 1478.7 Q106.594 1475.95 104.649 1474.21 Q102.728 1472.48 99.6261 1472.48 Q97.4271 1472.48 94.9734 1473.24 Q92.5428 1474.01 89.7651 1475.56 L89.7651 1470.83 Q92.5891 1469.7 95.0428 1469.12 Q97.4965 1468.54 99.5335 1468.54 Q104.904 1468.54 108.098 1471.23 Q111.293 1473.91 111.293 1478.4 Q111.293 1480.53 110.483 1482.45 Q109.696 1484.35 107.589 1486.95 Q107.01 1487.62 103.909 1490.83 Q100.807 1494.03 95.1586 1499.79 Z\" fill=\"#000000\" fill-rule=\"nonzero\" fill-opacity=\"1\" /><path clip-path=\"url(#clip760)\" d=\"M50.9921 1127.1 L80.6679 1127.1 L80.6679 1131.03 L50.9921 1131.03 L50.9921 1127.1 Z\" fill=\"#000000\" fill-rule=\"nonzero\" fill-opacity=\"1\" /><path clip-path=\"url(#clip760)\" d=\"M91.5706 1139.99 L99.2095 1139.99 L99.2095 1113.63 L90.8993 1115.29 L90.8993 1111.03 L99.1632 1109.37 L103.839 1109.37 L103.839 1139.99 L111.478 1139.99 L111.478 1143.93 L91.5706 1143.93 L91.5706 1139.99 Z\" fill=\"#000000\" fill-rule=\"nonzero\" fill-opacity=\"1\" /><path clip-path=\"url(#clip760)\" d=\"M99.5335 752.645 Q95.9224 752.645 94.0937 756.209 Q92.2882 759.751 92.2882 766.881 Q92.2882 773.987 94.0937 777.552 Q95.9224 781.094 99.5335 781.094 Q103.168 781.094 104.973 777.552 Q106.802 773.987 106.802 766.881 Q106.802 759.751 104.973 756.209 Q103.168 752.645 99.5335 752.645 M99.5335 748.941 Q105.344 748.941 108.399 753.547 Q111.478 758.131 111.478 766.881 Q111.478 775.608 108.399 780.214 Q105.344 784.797 99.5335 784.797 Q93.7234 784.797 90.6447 780.214 Q87.5892 775.608 87.5892 766.881 Q87.5892 758.131 90.6447 753.547 Q93.7234 748.941 99.5335 748.941 Z\" fill=\"#000000\" fill-rule=\"nonzero\" fill-opacity=\"1\" /><path clip-path=\"url(#clip760)\" d=\"M91.5706 420.39 L99.2095 420.39 L99.2095 394.024 L90.8993 395.691 L90.8993 391.432 L99.1632 389.765 L103.839 389.765 L103.839 420.39 L111.478 420.39 L111.478 424.325 L91.5706 424.325 L91.5706 420.39 Z\" fill=\"#000000\" fill-rule=\"nonzero\" fill-opacity=\"1\" /><path clip-path=\"url(#clip760)\" d=\"M95.1586 60.5889 L111.478 60.5889 L111.478 64.5241 L89.5336 64.5241 L89.5336 60.5889 Q92.1956 57.8343 96.7789 53.2047 Q101.385 48.552 102.566 47.2094 Q104.811 44.6862 105.691 42.9501 Q106.594 41.1909 106.594 39.5011 Q106.594 36.7465 104.649 35.0104 Q102.728 33.2743 99.6261 33.2743 Q97.4271 33.2743 94.9734 34.0381 Q92.5428 34.802 89.7651 36.3529 L89.7651 31.6308 Q92.5891 30.4965 95.0428 29.9178 Q97.4965 29.3391 99.5335 29.3391 Q104.904 29.3391 108.098 32.0243 Q111.293 34.7094 111.293 39.2002 Q111.293 41.3298 110.483 43.2511 Q109.696 45.1492 107.589 47.7418 Q107.01 48.4131 103.909 51.6306 Q100.807 54.8251 95.1586 60.5889 Z\" fill=\"#000000\" fill-rule=\"nonzero\" fill-opacity=\"1\" /><polyline clip-path=\"url(#clip762)\" style=\"stroke:#ff0000; stroke-linecap:round; stroke-linejoin:round; stroke-width:4; stroke-opacity:1; fill:none\" points=\"147.478,766.846 169.753,748.682 192.029,730.564 214.305,712.539 236.58,694.652 258.856,676.95 281.131,659.476 303.407,642.277 325.682,625.395 347.958,608.874 370.233,592.756 392.509,577.081 414.784,561.891 437.06,547.223 459.335,533.116 481.611,519.604 503.886,506.723 526.162,494.506 548.438,482.983 570.713,472.183 592.989,462.136 615.264,452.865 637.54,444.395 659.815,436.748 682.091,429.942 704.366,423.995 726.642,418.923 748.917,414.738 771.193,411.451 793.468,409.07 815.744,407.602 838.02,407.05 860.295,407.415 882.571,408.697 904.846,410.893 927.122,413.996 949.397,417.999 971.673,422.891 993.948,428.661 1016.22,435.294 1038.5,442.771 1060.77,451.076 1083.05,460.185 1105.33,470.077 1127.6,480.725 1149.88,492.103 1172.15,504.182 1194.43,516.93 1216.7,530.316 1238.98,544.305 1261.25,558.862 1283.53,573.949 1305.81,589.528 1328.08,605.559 1350.36,622.002 1372.63,638.814 1394.91,655.952 1417.18,673.373 1439.46,691.033 1461.73,708.886 1484.01,726.886 1506.29,744.989 1528.56,763.147 1550.84,781.315 1573.11,799.446 1595.39,817.494 1617.66,835.413 1639.94,853.156 1662.21,870.68 1684.49,887.939 1706.77,904.889 1729.04,921.487 1751.32,937.69 1773.59,953.458 1795.87,968.75 1818.14,983.527 1840.42,997.752 1862.69,1011.39 1884.97,1024.4 1907.25,1036.75 1929.52,1048.42 1951.8,1059.37 1974.07,1069.57 1996.35,1079 2018.62,1087.64 2040.9,1095.46 2063.17,1102.43 2085.45,1108.56 2107.73,1113.81 2130,1118.17 2152.28,1121.65 2174.55,1124.21 2196.83,1125.87 2219.1,1126.6 2241.38,1126.43 2263.65,1125.33 2285.93,1123.32 2308.2,1120.4 2330.48,1116.58 2352.76,1111.87 \"/>\n",
       "<polyline clip-path=\"url(#clip762)\" style=\"stroke:#0000ff; stroke-linecap:round; stroke-linejoin:round; stroke-width:4; stroke-opacity:1; fill:none\" points=\"158.616,407.198 180.891,48.4672 203.167,51.2164 225.442,55.7906 247.718,62.1781 269.993,70.3628 292.269,80.3236 314.544,92.0351 336.82,105.468 359.095,120.587 381.371,137.354 403.647,155.727 425.922,175.658 448.198,197.096 470.473,219.988 492.749,244.275 515.024,269.894 537.3,296.78 559.575,324.865 581.851,354.077 604.126,384.342 626.402,415.583 648.677,447.719 670.953,480.669 693.229,514.349 715.504,548.672 737.78,583.553 760.055,618.9 782.331,654.625 804.606,690.636 826.882,726.842 849.157,763.149 871.433,799.466 893.708,835.7 915.984,871.758 938.259,907.548 960.535,942.98 982.81,977.962 1005.09,1012.41 1027.36,1046.22 1049.64,1079.33 1071.91,1111.64 1094.19,1143.07 1116.46,1173.54 1138.74,1202.97 1161.01,1231.29 1183.29,1258.43 1205.57,1284.31 1227.84,1308.87 1250.12,1332.05 1272.39,1353.79 1294.67,1374.03 1316.94,1392.73 1339.22,1409.82 1361.49,1425.28 1383.77,1439.06 1406.05,1451.13 1428.32,1461.45 1450.6,1469.99 1472.87,1476.75 1495.15,1481.69 1517.42,1484.81 1539.7,1486.1 1561.97,1485.56 1584.25,1483.18 1606.53,1478.98 1628.8,1472.96 1651.08,1465.14 1673.35,1455.54 1695.63,1444.18 1717.9,1431.1 1740.18,1416.32 1762.45,1399.88 1784.73,1381.83 1807.01,1362.21 1829.28,1341.08 1851.56,1318.48 1873.83,1294.47 1896.11,1269.12 1918.38,1242.48 1940.66,1214.64 1962.93,1185.65 1985.21,1155.59 2007.49,1124.54 2029.76,1092.58 2052.04,1059.79 2074.31,1026.25 2096.59,992.054 2118.86,957.28 2141.14,922.02 2163.41,886.364 2185.69,850.404 2207.96,814.231 2230.24,777.937 2252.52,741.614 2274.79,705.356 2297.07,669.255 2319.34,633.402 2341.62,597.89 2363.89,-6157.89 \"/>\n",
       "</svg>\n"
      ]
     },
     "execution_count": 14,
     "metadata": {},
     "output_type": "execute_result"
    }
   ],
   "source": [
    "using Plots\n",
    "\n",
    "a, b = 0, 5\n",
    "n = 100\n",
    "Δx = (b - a) / (n - 1)\n",
    "\n",
    "x = range(a, b, length=n)\n",
    "f = sin.(x)\n",
    "\n",
    "# Create the central difference differentiation matrix\n",
    "D = diagm(-1 => fill(-1/Δx, n-1), 1 => fill(1/Δx, n-1))\n",
    "\n",
    "# Apply the matrix D to the function f\n",
    "Df = D * f[1:end]\n",
    "\n",
    "# Plot the original function and the derivative\n",
    "plot(x, f, linecolor=\"red\", linestyle=:solid, label=\"f\", legend=:false)\n",
    "# plot!(x[1:end-1] .+ Δx/2, Df, linecolor=\"blue\", linestyle=:solid, label=\"D*f\")\n",
    "plot!(x[1:end] .+ Δx/2, Df, linecolor=\"blue\", linestyle=:solid, label=\"D*f\"\n",
    "    , ylims = (-2,2)\n",
    "    , xlims = (0, 5)\n",
    ")"
   ]
  },
  {
   "cell_type": "markdown",
   "id": "791f2ce3-bb4e-4d75-ab8e-0a854874efeb",
   "metadata": {},
   "source": [
    "# References\n",
    "- [ ] [Function Registration and Tracing](https://symbolics.juliasymbolics.org/stable/manual/functions/)"
   ]
  }
 ],
 "metadata": {
  "kernelspec": {
   "display_name": "Julia 1.9.3",
   "language": "julia",
   "name": "julia-1.9"
  },
  "language_info": {
   "file_extension": ".jl",
   "mimetype": "application/julia",
   "name": "julia",
   "version": "1.10.0"
  }
 },
 "nbformat": 4,
 "nbformat_minor": 5
}
