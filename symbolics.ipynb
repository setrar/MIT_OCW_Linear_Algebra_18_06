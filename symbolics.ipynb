{
 "cells": [
  {
   "cell_type": "code",
   "execution_count": 15,
   "id": "d769d19c-8aa4-4982-9dce-e2fdd260c3df",
   "metadata": {},
   "outputs": [],
   "source": [
    "using Symbolics"
   ]
  },
  {
   "cell_type": "code",
   "execution_count": 16,
   "id": "7f4940e7-f0e0-4896-9e09-f7f85c0bfd55",
   "metadata": {},
   "outputs": [
    {
     "data": {
      "text/plain": [
       "lorenz (generic function with 1 method)"
      ]
     },
     "execution_count": 16,
     "metadata": {},
     "output_type": "execute_result"
    }
   ],
   "source": [
    "function lorenz(dᵤ,u,p,t)\n",
    " dᵤ[1] = 10.0(u[2]-u[1])\n",
    " dᵤ[2] = u[1]*(28.0-u[3]) - u[2]\n",
    " dᵤ[3] = u[1]*u[2] - (8/3)*u[3]\n",
    "end"
   ]
  },
  {
   "cell_type": "code",
   "execution_count": 19,
   "id": "4c279e4a-ed50-4f82-87b5-4fc26940d82d",
   "metadata": {},
   "outputs": [
    {
     "data": {
      "text/latex": [
       "$$ \\begin{equation}\n",
       " - 2.6667 z\\left( t \\right) + x\\left( t \\right) y\\left( t \\right)\n",
       "\\end{equation}\n",
       " $$"
      ],
      "text/plain": [
       "-2.6666666666666665z(t) + x(t)*y(t)"
      ]
     },
     "execution_count": 19,
     "metadata": {},
     "output_type": "execute_result"
    }
   ],
   "source": [
    "@variables t x(t) y(t) z(t) dx(t) dy(t) dz(t) σ ρ β\n",
    "dᵤ = [dx,dy,dz]\n",
    "u = [x,y,z]\n",
    "p = [σ,ρ,β]\n",
    "lorenz(dᵤ,u,p,t)"
   ]
  },
  {
   "cell_type": "code",
   "execution_count": 20,
   "id": "33aac60c-6f1d-4faf-ab4c-b4918f1b3985",
   "metadata": {},
   "outputs": [
    {
     "data": {
      "text/latex": [
       "$$ \\begin{equation}\n",
       "\\left[\n",
       "\\begin{array}{c}\n",
       "10 \\left(  - x\\left( t \\right) + y\\left( t \\right) \\right) \\\\\n",
       " - y\\left( t \\right) + x\\left( t \\right) \\left( 28 - z\\left( t \\right) \\right) \\\\\n",
       " - 2.6667 z\\left( t \\right) + x\\left( t \\right) y\\left( t \\right) \\\\\n",
       "\\end{array}\n",
       "\\right]\n",
       "\\end{equation}\n",
       " $$"
      ],
      "text/plain": [
       "3-element Vector{Num}:\n",
       "               10.0(-x(t) + y(t))\n",
       " -y(t) + x(t)*(28.0 - z(t))\n",
       "               -2.6666666666666665z(t) + x(t)*y(t)"
      ]
     },
     "execution_count": 20,
     "metadata": {},
     "output_type": "execute_result"
    }
   ],
   "source": [
    "dᵤ"
   ]
  },
  {
   "cell_type": "markdown",
   "id": "791f2ce3-bb4e-4d75-ab8e-0a854874efeb",
   "metadata": {},
   "source": [
    "# References\n",
    "- [ ] [Function Registration and Tracing](https://symbolics.juliasymbolics.org/stable/manual/functions/)"
   ]
  },
  {
   "cell_type": "code",
   "execution_count": null,
   "id": "853ff993-9a4a-4092-9e9b-d7ac99f78e58",
   "metadata": {},
   "outputs": [],
   "source": []
  }
 ],
 "metadata": {
  "kernelspec": {
   "display_name": "Julia 1.9.3",
   "language": "julia",
   "name": "julia-1.9"
  },
  "language_info": {
   "file_extension": ".jl",
   "mimetype": "application/julia",
   "name": "julia",
   "version": "1.10.0"
  }
 },
 "nbformat": 4,
 "nbformat_minor": 5
}
