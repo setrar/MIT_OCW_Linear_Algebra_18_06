{
 "cells": [
  {
   "cell_type": "markdown",
   "metadata": {},
   "source": [
    "+ This notebook is part of lecture 21 *Eigenvalues and eigenvectors* in the OCW MIT course 18.06 by Prof Gilbert Strang [1]\n",
    "+ Created by me, Dr Juan H Klopper\n",
    "    + Head of Acute Care Surgery\n",
    "    + Groote Schuur Hospital\n",
    "    + University Cape Town\n",
    "    + <a href=\"mailto:juan.klopper@uct.ac.za\">Email me with your thoughts, comments, suggestions and corrections</a> \n",
    "<a rel=\"license\" href=\"http://creativecommons.org/licenses/by-nc/4.0/\"><img alt=\"Creative Commons Licence\" style=\"border-width:0\" src=\"https://i.creativecommons.org/l/by-nc/4.0/88x31.png\" /></a><br /><span xmlns:dct=\"http://purl.org/dc/terms/\" href=\"http://purl.org/dc/dcmitype/InteractiveResource\" property=\"dct:title\" rel=\"dct:type\">Linear Algebra OCW MIT18.06</span> <span xmlns:cc=\"http://creativecommons.org/ns#\" property=\"cc:attributionName\">IPython notebook [2] study notes by Dr Juan H Klopper</span> is licensed under a <a rel=\"license\" href=\"http://creativecommons.org/licenses/by-nc/4.0/\">Creative Commons Attribution-NonCommercial 4.0 International License</a>.\n",
    "\n",
    "+ [1] <a href=\"http://ocw.mit.edu/courses/mathematics/18-06sc-linear-algebra-fall-2011/index.htm\">OCW MIT 18.06</a>\n",
    "+ [2] Fernando Pérez, Brian E. Granger, IPython: A System for Interactive Scientific Computing, Computing in Science and Engineering, vol. 9, no. 3, pp. 21-29, May/June 2007, doi:10.1109/MCSE.2007.53. URL: http://ipython.org"
   ]
  },
  {
   "cell_type": "raw",
   "metadata": {
    "collapsed": false,
    "jupyter": {
     "outputs_hidden": false
    }
   },
   "source": [
    "from IPython.core.display import HTML, Image\n",
    "css_file = 'style.css'\n",
    "HTML(open(css_file, 'r').read())"
   ]
  },
  {
   "cell_type": "raw",
   "metadata": {},
   "source": [
    "from sympy import init_printing, Matrix, symbols, eye\n",
    "from warnings import filterwarnings"
   ]
  },
  {
   "cell_type": "raw",
   "metadata": {},
   "source": [
    "init_printing(use_latex = 'mathjax')\n",
    "filterwarnings('ignore')"
   ]
  },
  {
   "cell_type": "raw",
   "metadata": {
    "collapsed": true,
    "jupyter": {
     "outputs_hidden": true
    }
   },
   "source": [
    "lamda = symbols('lamda') # Note that lambda is a reserved word in python, so we use lamda (without the b)"
   ]
  },
  {
   "cell_type": "code",
   "execution_count": 9,
   "metadata": {},
   "outputs": [],
   "source": [
    "using Symbolics\n",
    "using LinearAlgebra"
   ]
  },
  {
   "cell_type": "code",
   "execution_count": 10,
   "metadata": {},
   "outputs": [
    {
     "data": {
      "text/latex": [
       "$$ \\begin{equation}\n",
       "\\left[\n",
       "\\begin{array}{c}\n",
       "\\lambda \\\\\n",
       "\\end{array}\n",
       "\\right]\n",
       "\\end{equation}\n",
       " $$"
      ],
      "text/plain": [
       "1-element Vector{Num}:\n",
       " λ"
      ]
     },
     "execution_count": 10,
     "metadata": {},
     "output_type": "execute_result"
    }
   ],
   "source": [
    "@variables λ"
   ]
  },
  {
   "cell_type": "markdown",
   "metadata": {},
   "source": [
    "# Eigenvalues and eigenvectors"
   ]
  },
  {
   "cell_type": "markdown",
   "metadata": {},
   "source": [
    "## What are eigenvectors?"
   ]
  },
  {
   "cell_type": "markdown",
   "metadata": {},
   "source": [
    "* A Matrix is a mathematical object that acts on a (column) vector, resulting in a new vector, i.e. A**x**=**b**\n",
    "* An eigenvector is the resulting vector that is parallel to **x** (some multiple of **x**)\n",
    "$$ {A}\\mathbf{x}=\\lambda \\mathbf{x} $$"
   ]
  },
  {
   "cell_type": "markdown",
   "metadata": {},
   "source": [
    "* The eigenvectors with an eigenvalue of zero are the vectors in the nullspace\n",
    "* If A is singular (takes some non-zero vector into 0) then &#955;=0"
   ]
  },
  {
   "cell_type": "markdown",
   "metadata": {},
   "source": [
    "## What are the eigenvectors and eigenvalues for projection matrices?"
   ]
  },
  {
   "cell_type": "markdown",
   "metadata": {},
   "source": [
    "* A projection matrix P projects some vector (**b**) onto a subspace (in 3-space we are talking about a plane through the origin)\n",
    "* P**b** is not in the same direction as **b**\n",
    "* A vector **x** that is already in the subspace will result in P**x**=**x**, so &#955;=1\n",
    "* Another good **x** would be one perpendicular to the subspace, i.e. P**x**=0**x**, so &#955;=0"
   ]
  },
  {
   "cell_type": "markdown",
   "metadata": {},
   "source": [
    "## What are the eigenvectors and eigenvalues for permutation matrices?"
   ]
  },
  {
   "cell_type": "markdown",
   "metadata": {},
   "source": [
    "* A permutation matrix such as the one below changes the order of the elements in a (column) vector\n",
    "$$ \\begin{bmatrix} 0 & 1 \\\\ 1 & 0 \\end{bmatrix} $$\n",
    "* A good example of a vector that would remain in the same direction after multiplication by the permutation matrix above would the following vector\n",
    "$$ \\begin{bmatrix} 1 \\\\ 1 \\end{bmatrix} $$\n",
    "* The eigenvalue would just be &#955;=1\n",
    "* The next (eigen)vector would also work\n",
    "$$ \\begin{bmatrix} -1 \\\\ 1 \\end{bmatrix}  $$\n",
    "* It would have an eigenvalue of &#955;=-1"
   ]
  },
  {
   "cell_type": "markdown",
   "metadata": {},
   "source": [
    "## The trace and the determinant"
   ]
  },
  {
   "cell_type": "markdown",
   "metadata": {},
   "source": [
    "* The trace is the sum of the values down the main diagonal of a square matrix\n",
    "* Note how this is the same as the sum of the eigenvalues (look at the permutation matrix above and its eigenvalues)\n",
    "* The determinant of A is the product of the eigenvalues"
   ]
  },
  {
   "cell_type": "markdown",
   "metadata": {},
   "source": [
    "## How to solve A**x**=&#955;**x**"
   ]
  },
  {
   "cell_type": "markdown",
   "metadata": {},
   "source": [
    "$$ A\\mathbf { x } =\\lambda \\mathbf { x } \\\\ \\left( A-\\lambda I \\right) \\mathbf { x } =\\mathbf { 0 }  $$"
   ]
  },
  {
   "cell_type": "markdown",
   "metadata": {},
   "source": [
    "* The only solution to this equation is for A-&#955;I to be singular and therefor have a determinant of zero\n",
    "$$ \\left|{A}-\\lambda{I}\\right|=0 $$"
   ]
  },
  {
   "cell_type": "markdown",
   "metadata": {},
   "source": [
    "* This is called the characteristic (or eigenvalue) equation\n",
    "* There will be *n* &#955;<sup>'s</sup> for a *n*&#215;*n* matrix(some of which may be of equal value) "
   ]
  },
  {
   "cell_type": "code",
   "execution_count": 42,
   "metadata": {
    "collapsed": false,
    "jupyter": {
     "outputs_hidden": false
    }
   },
   "outputs": [
    {
     "data": {
      "text/latex": [
       "$$ \\begin{equation}\n",
       "adjoint(b) * b_1\n",
       "\\end{equation}\n",
       " $$"
      ],
      "text/plain": [
       "(adjoint(b)*b)[1]"
      ]
     },
     "execution_count": 42,
     "metadata": {},
     "output_type": "execute_result"
    }
   ],
   "source": [
    "@variables A[1:5, 1:3] b[1:3]\n",
    "b'b"
   ]
  },
  {
   "cell_type": "code",
   "execution_count": 43,
   "metadata": {},
   "outputs": [
    {
     "data": {
      "text/latex": [
       "$$ \\begin{equation}\n",
       "\\mathrm{map}\\left( \\arcsin, A b \\right)\n",
       "\\end{equation}\n",
       " $$"
      ],
      "text/plain": [
       "(map(asin, A*b))[Base.OneTo(5)]"
      ]
     },
     "execution_count": 43,
     "metadata": {},
     "output_type": "execute_result"
    }
   ],
   "source": [
    "map(asin, (A*b))"
   ]
  },
  {
   "cell_type": "code",
   "execution_count": 45,
   "metadata": {},
   "outputs": [
    {
     "data": {
      "text/latex": [
       "$$ \\begin{equation}\n",
       "A \\mathrm{adjoint}\\left( A \\right)\n",
       "\\end{equation}\n",
       " $$"
      ],
      "text/plain": [
       "(A*adjoint(A))[Base.OneTo(5),Base.OneTo(5)]"
      ]
     },
     "execution_count": 45,
     "metadata": {},
     "output_type": "execute_result"
    }
   ],
   "source": [
    "AAᵀ = A*A'"
   ]
  },
  {
   "cell_type": "code",
   "execution_count": 47,
   "metadata": {},
   "outputs": [
    {
     "data": {
      "text/latex": [
       "$$ \\begin{equation}\n",
       "A_{2}ˏ_1 A_{3}ˏ_1 + A_{2}ˏ_2 A_{3}ˏ_2 + A_{2}ˏ_3 A_{3}ˏ_3\n",
       "\\end{equation}\n",
       " $$"
      ],
      "text/plain": [
       "A[2, 1]*A[3, 1] + A[2, 2]*A[3, 2] + A[2, 3]*A[3, 3]"
      ]
     },
     "execution_count": 47,
     "metadata": {},
     "output_type": "execute_result"
    }
   ],
   "source": [
    "Symbolics.scalarize(AAᵀ[2,3])"
   ]
  },
  {
   "cell_type": "code",
   "execution_count": 48,
   "metadata": {},
   "outputs": [
    {
     "data": {
      "text/latex": [
       "$$ \\begin{equation}\n",
       "A\\left[i, 1\\right] A\\left[j, 1\\right] + A\\left[i, 2\\right] A\\left[j, 2\\right] + A\\left[i, 3\\right] A\\left[j, 3\\right]\n",
       "\\end{equation}\n",
       " $$"
      ],
      "text/plain": [
       "A[i, 1]*A[j, 1] + A[i, 2]*A[j, 2] + A[i, 3]*A[j, 3]"
      ]
     },
     "execution_count": 48,
     "metadata": {},
     "output_type": "execute_result"
    }
   ],
   "source": [
    "@syms i::Int j::Int\n",
    "Symbolics.scalarize(AAᵀ[i,j])"
   ]
  },
  {
   "cell_type": "code",
   "execution_count": 49,
   "metadata": {},
   "outputs": [
    {
     "data": {
      "text/latex": [
       "$$ \\begin{equation}\n",
       "A_{1}ˏ_1 + 2 A_{2}ˏ_1 + A_{2}ˏ_2 + A_{2}ˏ_3 + A_{3}ˏ_1 + A_{4}ˏ_1 + A_{5}ˏ_1\n",
       "\\end{equation}\n",
       " $$"
      ],
      "text/plain": [
       "A[1, 1] + 2A[2, 1] + A[2, 2] + A[2, 3] + A[3, 1] + A[4, 1] + A[5, 1]"
      ]
     },
     "execution_count": 49,
     "metadata": {},
     "output_type": "execute_result"
    }
   ],
   "source": [
    "Symbolics.scalarize(sum(A[:,1]) + sum(A[2,:]))"
   ]
  },
  {
   "cell_type": "code",
   "execution_count": 46,
   "metadata": {
    "collapsed": false,
    "jupyter": {
     "outputs_hidden": false
    }
   },
   "outputs": [
    {
     "ename": "LoadError",
     "evalue": "DimensionMismatch: matrix is not square: dimensions are (5, 3)",
     "output_type": "error",
     "traceback": [
      "DimensionMismatch: matrix is not square: dimensions are (5, 3)",
      "",
      "Stacktrace:",
      " [1] checksquare(A::Symbolics.Arr{Num, 2})",
      "   @ LinearAlgebra ~/.julia/juliaup/julia-1.10.0+0.aarch64.apple.darwin14/share/julia/stdlib/v1.10/LinearAlgebra/src/LinearAlgebra.jl:241",
      " [2] +(A::Symbolics.Arr{Num, 2}, J::UniformScaling{Num})",
      "   @ LinearAlgebra ~/.julia/juliaup/julia-1.10.0+0.aarch64.apple.darwin14/share/julia/stdlib/v1.10/LinearAlgebra/src/uniformscaling.jl:215",
      " [3] -(A::Symbolics.Arr{Num, 2}, J::UniformScaling{Num})",
      "   @ LinearAlgebra ~/.julia/juliaup/julia-1.10.0+0.aarch64.apple.darwin14/share/julia/stdlib/v1.10/LinearAlgebra/src/uniformscaling.jl:159",
      " [4] top-level scope",
      "   @ In[46]:1"
     ]
    }
   ],
   "source": [
    "(A - λ * I) # Printing A minus lambda times the identity matrix to the screen"
   ]
  },
  {
   "cell_type": "markdown",
   "metadata": {},
   "source": [
    "* This will have the following determinant"
   ]
  },
  {
   "cell_type": "code",
   "execution_count": 7,
   "metadata": {
    "collapsed": false,
    "jupyter": {
     "outputs_hidden": false
    }
   },
   "outputs": [
    {
     "data": {
      "text/latex": [
       "$$\\lambda^{2} - 6 \\lambda + 8$$"
      ],
      "text/plain": [
       " 2          \n",
       "λ  - 6⋅λ + 8"
      ]
     },
     "execution_count": 7,
     "metadata": {},
     "output_type": "execute_result"
    }
   ],
   "source": [
    "(A - lamda * I).det()"
   ]
  },
  {
   "cell_type": "markdown",
   "metadata": {},
   "source": [
    "* For this 2&#215;2 matrix the absolute value of the -6 is the trace of A and the 8 is the determinant of A"
   ]
  },
  {
   "cell_type": "code",
   "execution_count": 8,
   "metadata": {
    "collapsed": false,
    "jupyter": {
     "outputs_hidden": false
    }
   },
   "outputs": [
    {
     "data": {
      "text/latex": [
       "$$\\left(\\lambda - 4\\right) \\left(\\lambda - 2\\right)$$"
      ],
      "text/plain": [
       "(λ - 4)⋅(λ - 2)"
      ]
     },
     "execution_count": 8,
     "metadata": {},
     "output_type": "execute_result"
    }
   ],
   "source": [
    "((A - lamda * I).det()).factor()"
   ]
  },
  {
   "cell_type": "markdown",
   "metadata": {},
   "source": [
    "* I now have two eigenvalues of 2 and 4"
   ]
  },
  {
   "cell_type": "markdown",
   "metadata": {},
   "source": [
    "* In python we could also use the .*eigenvals()* statement"
   ]
  },
  {
   "cell_type": "code",
   "execution_count": 9,
   "metadata": {
    "collapsed": false,
    "jupyter": {
     "outputs_hidden": false
    }
   },
   "outputs": [
    {
     "data": {
      "text/latex": [
       "$$\\begin{Bmatrix}2 : 1, & 4 : 1\\end{Bmatrix}$$"
      ],
      "text/plain": [
       "{2: 1, 4: 1}"
      ]
     },
     "execution_count": 9,
     "metadata": {},
     "output_type": "execute_result"
    }
   ],
   "source": [
    "A.eigenvals() # There is one value of 2 and one value of 4"
   ]
  },
  {
   "cell_type": "markdown",
   "metadata": {},
   "source": [
    "* The eigenvectors are calculated by substituting the two values of &#955; into the original equation\n",
    "$$ \\left( {A}-\\lambda{I} \\right)\\mathbf{x}=\\mathbf{0} $$"
   ]
  },
  {
   "cell_type": "code",
   "execution_count": 10,
   "metadata": {
    "collapsed": false,
    "jupyter": {
     "outputs_hidden": false
    }
   },
   "outputs": [
    {
     "data": {
      "text/latex": [
       "$$\\begin{bmatrix}\\begin{pmatrix}2, & 1, & \\begin{bmatrix}\\left[\\begin{matrix}-1\\\\1\\end{matrix}\\right]\\end{bmatrix}\\end{pmatrix}, & \\begin{pmatrix}4, & 1, & \\begin{bmatrix}\\left[\\begin{matrix}1\\\\1\\end{matrix}\\right]\\end{bmatrix}\\end{pmatrix}\\end{bmatrix}$$"
      ],
      "text/plain": [
       "⎡⎛2, 1, ⎡⎡-1⎤⎤⎞, ⎛4, 1, ⎡⎡1⎤⎤⎞⎤\n",
       "⎢⎜      ⎢⎢  ⎥⎥⎟  ⎜      ⎢⎢ ⎥⎥⎟⎥\n",
       "⎣⎝      ⎣⎣1 ⎦⎦⎠  ⎝      ⎣⎣1⎦⎦⎠⎦"
      ]
     },
     "execution_count": 10,
     "metadata": {},
     "output_type": "execute_result"
    }
   ],
   "source": [
    "A.eigenvects()"
   ]
  },
  {
   "cell_type": "markdown",
   "metadata": {},
   "source": [
    "* The results above is interpreted as follows\n",
    "    * The first eigenvalue has one eigenvector and the second eigenvalue also has a single eigenvector"
   ]
  },
  {
   "cell_type": "markdown",
   "metadata": {},
   "source": [
    "* Note the similarity between the eigenvectors of the two examples above\n",
    "* It is easy to see that adding a constant multiple of the identity matrix to another matrix (above we added 3I to the initial matrix) doesn't change the eigenvectors; it does add that constant to the eigenvalues though (we went from -1 and 1 to 2 and 4)\n",
    "$$ A\\mathbf { x } =\\lambda \\mathbf { x } \\\\ \\therefore \\quad \\left( A+cI  \\right) \\mathbf { x } =\\left( \\lambda +c \\right) \\mathbf { x }  $$"
   ]
  },
  {
   "cell_type": "markdown",
   "metadata": {},
   "source": [
    "* If we add another matrix to A (not a constant multiple of I) or even multiply them, then the influence on the original eigenvalues and eigenvectors of A is NOT so predictable (as above)"
   ]
  },
  {
   "cell_type": "markdown",
   "metadata": {},
   "source": [
    "## The eigenvalues and eigenvectors of a rotation matrix"
   ]
  },
  {
   "cell_type": "markdown",
   "metadata": {},
   "source": [
    "* Consider this rotation matrix that rotates a vector by 90<sup>o</sup> (it is orthogonal)\n",
    "    * Think about it, though: what vector can come out parallel to itself after a 90<sup>o</sup> rotation?"
   ]
  },
  {
   "cell_type": "code",
   "execution_count": 11,
   "metadata": {
    "collapsed": false,
    "jupyter": {
     "outputs_hidden": false
    }
   },
   "outputs": [
    {
     "data": {
      "text/latex": [
       "$$\\left[\\begin{matrix}0 & -1\\\\1 & 0\\end{matrix}\\right]$$"
      ],
      "text/plain": [
       "⎡0  -1⎤\n",
       "⎢     ⎥\n",
       "⎣1  0 ⎦"
      ]
     },
     "execution_count": 11,
     "metadata": {},
     "output_type": "execute_result"
    }
   ],
   "source": [
    "Q = Matrix([[0, -1], [1, 0]])\n",
    "Q"
   ]
  },
  {
   "cell_type": "markdown",
   "metadata": {},
   "source": [
    "* From the trace and determinant above we know that we will have the following equation\n",
    "$$ {\\lambda}^{2}-{0}{\\lambda}+{1}={0} \\\\ {\\lambda}^{2}=-{1} $$"
   ]
  },
  {
   "cell_type": "code",
   "execution_count": 12,
   "metadata": {
    "collapsed": false,
    "jupyter": {
     "outputs_hidden": false
    }
   },
   "outputs": [
    {
     "data": {
      "text/latex": [
       "$$\\begin{Bmatrix}- i : 1, & i : 1\\end{Bmatrix}$$"
      ],
      "text/plain": [
       "{-ⅈ: 1, ⅈ: 1}"
      ]
     },
     "execution_count": 12,
     "metadata": {},
     "output_type": "execute_result"
    }
   ],
   "source": [
    "Q.eigenvals()"
   ]
  },
  {
   "cell_type": "code",
   "execution_count": 13,
   "metadata": {
    "collapsed": false,
    "jupyter": {
     "outputs_hidden": false
    }
   },
   "outputs": [
    {
     "data": {
      "text/latex": [
       "$$\\begin{bmatrix}\\begin{pmatrix}- i, & 1, & \\begin{bmatrix}\\left[\\begin{matrix}- i\\\\1\\end{matrix}\\right]\\end{bmatrix}\\end{pmatrix}, & \\begin{pmatrix}i, & 1, & \\begin{bmatrix}\\left[\\begin{matrix}i\\\\1\\end{matrix}\\right]\\end{bmatrix}\\end{pmatrix}\\end{bmatrix}$$"
      ],
      "text/plain": [
       "⎡⎛-ⅈ, 1, ⎡⎡-ⅈ⎤⎤⎞, ⎛ⅈ, 1, ⎡⎡ⅈ⎤⎤⎞⎤\n",
       "⎢⎜       ⎢⎢  ⎥⎥⎟  ⎜      ⎢⎢ ⎥⎥⎟⎥\n",
       "⎣⎝       ⎣⎣1 ⎦⎦⎠  ⎝      ⎣⎣1⎦⎦⎠⎦"
      ]
     },
     "execution_count": 13,
     "metadata": {},
     "output_type": "execute_result"
    }
   ],
   "source": [
    "Q.eigenvects()"
   ]
  },
  {
   "cell_type": "markdown",
   "metadata": {},
   "source": [
    "* Note how the eigenvalues are complex conjugates\n",
    "* Symmetric matrices will only have real eigenvalues\n",
    "* An *anti*-symmetric matrix (where the transpose is the original matrix times the scalar -1, as our example above) will only have complex eigenvalues\n",
    "* Matrices in between can have a mix of these"
   ]
  },
  {
   "cell_type": "markdown",
   "metadata": {},
   "source": [
    "## Eigenvalues and eigenvectors of an upper triangular matrix"
   ]
  },
  {
   "cell_type": "markdown",
   "metadata": {},
   "source": [
    "* Compute the eigenvalues and eigenvectors of the following matrix (note it is upper triangular)"
   ]
  },
  {
   "cell_type": "code",
   "execution_count": 14,
   "metadata": {
    "collapsed": false,
    "jupyter": {
     "outputs_hidden": false
    }
   },
   "outputs": [
    {
     "data": {
      "text/latex": [
       "$$\\left[\\begin{matrix}3 & 1\\\\0 & 3\\end{matrix}\\right]$$"
      ],
      "text/plain": [
       "⎡3  1⎤\n",
       "⎢    ⎥\n",
       "⎣0  3⎦"
      ]
     },
     "execution_count": 14,
     "metadata": {},
     "output_type": "execute_result"
    }
   ],
   "source": [
    "A = Matrix([[3, 1], [0, 3]])\n",
    "A"
   ]
  },
  {
   "cell_type": "code",
   "execution_count": 15,
   "metadata": {
    "collapsed": false,
    "jupyter": {
     "outputs_hidden": false
    }
   },
   "outputs": [
    {
     "data": {
      "text/latex": [
       "$$\\begin{Bmatrix}3 : 2\\end{Bmatrix}$$"
      ],
      "text/plain": [
       "{3: 2}"
      ]
     },
     "execution_count": 15,
     "metadata": {},
     "output_type": "execute_result"
    }
   ],
   "source": [
    "A.eigenvals()"
   ]
  },
  {
   "cell_type": "markdown",
   "metadata": {},
   "source": [
    "* We have two eigenvalues, both equal to 3"
   ]
  },
  {
   "cell_type": "code",
   "execution_count": 16,
   "metadata": {
    "collapsed": false,
    "jupyter": {
     "outputs_hidden": false
    }
   },
   "outputs": [
    {
     "data": {
      "text/latex": [
       "$$\\begin{bmatrix}\\begin{pmatrix}3, & 2, & \\begin{bmatrix}\\left[\\begin{matrix}1\\\\0\\end{matrix}\\right]\\end{bmatrix}\\end{pmatrix}\\end{bmatrix}$$"
      ],
      "text/plain": [
       "⎡⎛3, 2, ⎡⎡1⎤⎤⎞⎤\n",
       "⎢⎜      ⎢⎢ ⎥⎥⎟⎥\n",
       "⎣⎝      ⎣⎣0⎦⎦⎠⎦"
      ]
     },
     "execution_count": 16,
     "metadata": {},
     "output_type": "execute_result"
    }
   ],
   "source": [
    "A.eigenvects()"
   ]
  },
  {
   "cell_type": "markdown",
   "metadata": {},
   "source": [
    "* This is a degenerate matrix; it does not have independent eigenvectors"
   ]
  },
  {
   "cell_type": "markdown",
   "metadata": {},
   "source": [
    "* Look at this upper triangular matrix"
   ]
  },
  {
   "cell_type": "code",
   "execution_count": 17,
   "metadata": {
    "collapsed": false,
    "jupyter": {
     "outputs_hidden": false
    }
   },
   "outputs": [
    {
     "data": {
      "text/latex": [
       "$$\\left[\\begin{matrix}3 & 1 & 1\\\\0 & 3 & 4\\\\0 & 0 & 3\\end{matrix}\\right]$$"
      ],
      "text/plain": [
       "⎡3  1  1⎤\n",
       "⎢       ⎥\n",
       "⎢0  3  4⎥\n",
       "⎢       ⎥\n",
       "⎣0  0  3⎦"
      ]
     },
     "execution_count": 17,
     "metadata": {},
     "output_type": "execute_result"
    }
   ],
   "source": [
    "A = Matrix([[3, 1, 1], [0, 3, 4], [0, 0, 3]])\n",
    "A"
   ]
  },
  {
   "cell_type": "code",
   "execution_count": 18,
   "metadata": {
    "collapsed": false,
    "jupyter": {
     "outputs_hidden": false
    }
   },
   "outputs": [
    {
     "data": {
      "text/latex": [
       "$$\\begin{Bmatrix}3 : 3\\end{Bmatrix}$$"
      ],
      "text/plain": [
       "{3: 3}"
      ]
     },
     "execution_count": 18,
     "metadata": {},
     "output_type": "execute_result"
    }
   ],
   "source": [
    "A.eigenvals()"
   ]
  },
  {
   "cell_type": "code",
   "execution_count": 19,
   "metadata": {
    "collapsed": false,
    "jupyter": {
     "outputs_hidden": false
    }
   },
   "outputs": [
    {
     "data": {
      "text/latex": [
       "$$\\begin{bmatrix}\\begin{pmatrix}3, & 3, & \\begin{bmatrix}\\left[\\begin{matrix}1\\\\0\\\\0\\end{matrix}\\right]\\end{bmatrix}\\end{pmatrix}\\end{bmatrix}$$"
      ],
      "text/plain": [
       "⎡⎛3, 3, ⎡⎡1⎤⎤⎞⎤\n",
       "⎢⎜      ⎢⎢ ⎥⎥⎟⎥\n",
       "⎢⎜      ⎢⎢0⎥⎥⎟⎥\n",
       "⎢⎜      ⎢⎢ ⎥⎥⎟⎥\n",
       "⎣⎝      ⎣⎣0⎦⎦⎠⎦"
      ]
     },
     "execution_count": 19,
     "metadata": {},
     "output_type": "execute_result"
    }
   ],
   "source": [
    "A.eigenvects()"
   ]
  },
  {
   "cell_type": "markdown",
   "metadata": {},
   "source": [
    "## Example problems"
   ]
  },
  {
   "cell_type": "markdown",
   "metadata": {},
   "source": [
    "### Example problem 1"
   ]
  },
  {
   "cell_type": "markdown",
   "metadata": {},
   "source": [
    "* Find the eigenvalues and eigenvectors of the square of the following matrix as well as the inverse of the matrix minus the identity matrix\n",
    "$$ {A}=\\begin{bmatrix} 1 & 2 & 3 \\\\ 0 & 1 & -2 \\\\ 0 & 1 & 4 \\end{bmatrix} $$"
   ]
  },
  {
   "cell_type": "markdown",
   "metadata": {},
   "source": [
    "#### Solution"
   ]
  },
  {
   "cell_type": "markdown",
   "metadata": {},
   "source": [
    "* Notice the following\n",
    "$$ A\\mathbf { x } =\\lambda \\mathbf { x } \\\\ { A }^{ 2 }\\mathbf { x } =A\\left( A\\mathbf { x }  \\right) =A\\left( \\lambda \\mathbf { x }  \\right) =\\lambda \\left( A\\mathbf { x }  \\right) ={ \\lambda  }^{ 2 }\\mathbf { x }  $$\n",
    "* Once we know the eigenvalues for A we than simply square them to get the eigenvalues of the matrix squared"
   ]
  },
  {
   "cell_type": "markdown",
   "metadata": {},
   "source": [
    "* Similarly for the inverse of the matrix we have the following (for a non-zero &#955;, which is fine as A must be invertible for this problem)\n",
    "$$ { A }^{ -1 }\\mathbf { x } ={ A }^{ -1 }\\frac { A\\mathbf { x }  }{ \\lambda  } ={ A }^{ -1 }A\\frac { 1 }{ \\lambda  } \\mathbf { x } =\\frac { 1 }{ \\lambda  } \\mathbf {  x} $$"
   ]
  },
  {
   "cell_type": "code",
   "execution_count": 20,
   "metadata": {
    "collapsed": false,
    "jupyter": {
     "outputs_hidden": false
    }
   },
   "outputs": [
    {
     "data": {
      "text/latex": [
       "$$\\left[\\begin{matrix}1 & 2 & 3\\\\0 & 1 & -2\\\\0 & 1 & 4\\end{matrix}\\right]$$"
      ],
      "text/plain": [
       "⎡1  2  3 ⎤\n",
       "⎢        ⎥\n",
       "⎢0  1  -2⎥\n",
       "⎢        ⎥\n",
       "⎣0  1  4 ⎦"
      ]
     },
     "execution_count": 20,
     "metadata": {},
     "output_type": "execute_result"
    }
   ],
   "source": [
    "A = Matrix([[1, 2, 3], [0, 1, -2], [0, 1, 4]])\n",
    "A"
   ]
  },
  {
   "cell_type": "code",
   "execution_count": 21,
   "metadata": {
    "collapsed": false,
    "jupyter": {
     "outputs_hidden": false
    }
   },
   "outputs": [
    {
     "data": {
      "text/latex": [
       "$$\\begin{Bmatrix}1 : 1, & 2 : 1, & 3 : 1\\end{Bmatrix}$$"
      ],
      "text/plain": [
       "{1: 1, 2: 1, 3: 1}"
      ]
     },
     "execution_count": 21,
     "metadata": {},
     "output_type": "execute_result"
    }
   ],
   "source": [
    "A.eigenvals()"
   ]
  },
  {
   "cell_type": "code",
   "execution_count": 22,
   "metadata": {
    "collapsed": false,
    "jupyter": {
     "outputs_hidden": false
    }
   },
   "outputs": [
    {
     "data": {
      "text/latex": [
       "$$\\begin{bmatrix}\\begin{pmatrix}1, & 1, & \\begin{bmatrix}\\left[\\begin{matrix}1\\\\0\\\\0\\end{matrix}\\right]\\end{bmatrix}\\end{pmatrix}, & \\begin{pmatrix}2, & 1, & \\begin{bmatrix}\\left[\\begin{matrix}-1\\\\-2\\\\1\\end{matrix}\\right]\\end{bmatrix}\\end{pmatrix}, & \\begin{pmatrix}3, & 1, & \\begin{bmatrix}\\left[\\begin{matrix}\\frac{1}{2}\\\\-1\\\\1\\end{matrix}\\right]\\end{bmatrix}\\end{pmatrix}\\end{bmatrix}$$"
      ],
      "text/plain": [
       "⎡⎛1, 1, ⎡⎡1⎤⎤⎞, ⎛2, 1, ⎡⎡-1⎤⎤⎞, ⎛3, 1, ⎡⎡1/2⎤⎤⎞⎤\n",
       "⎢⎜      ⎢⎢ ⎥⎥⎟  ⎜      ⎢⎢  ⎥⎥⎟  ⎜      ⎢⎢   ⎥⎥⎟⎥\n",
       "⎢⎜      ⎢⎢0⎥⎥⎟  ⎜      ⎢⎢-2⎥⎥⎟  ⎜      ⎢⎢-1 ⎥⎥⎟⎥\n",
       "⎢⎜      ⎢⎢ ⎥⎥⎟  ⎜      ⎢⎢  ⎥⎥⎟  ⎜      ⎢⎢   ⎥⎥⎟⎥\n",
       "⎣⎝      ⎣⎣0⎦⎦⎠  ⎝      ⎣⎣1 ⎦⎦⎠  ⎝      ⎣⎣ 1 ⎦⎦⎠⎦"
      ]
     },
     "execution_count": 22,
     "metadata": {},
     "output_type": "execute_result"
    }
   ],
   "source": [
    "A.eigenvects()"
   ]
  },
  {
   "cell_type": "markdown",
   "metadata": {},
   "source": [
    "* From this it is clear that the eigenvalues of A<sup>2</sup> will be 1, 4, and 9 and for A<sup>-1</sup> would be a 1, a half and a third"
   ]
  },
  {
   "cell_type": "code",
   "execution_count": 23,
   "metadata": {
    "collapsed": false,
    "jupyter": {
     "outputs_hidden": false
    }
   },
   "outputs": [
    {
     "data": {
      "text/latex": [
       "$$\\begin{Bmatrix}1 : 1, & 4 : 1, & 9 : 1\\end{Bmatrix}$$"
      ],
      "text/plain": [
       "{1: 1, 4: 1, 9: 1}"
      ]
     },
     "execution_count": 23,
     "metadata": {},
     "output_type": "execute_result"
    }
   ],
   "source": [
    "(A ** 2).eigenvals()"
   ]
  },
  {
   "cell_type": "code",
   "execution_count": 24,
   "metadata": {
    "collapsed": false,
    "jupyter": {
     "outputs_hidden": false
    }
   },
   "outputs": [
    {
     "data": {
      "text/latex": [
       "$$\\begin{Bmatrix}\\frac{1}{3} : 1, & \\frac{1}{2} : 1, & 1 : 1\\end{Bmatrix}$$"
      ],
      "text/plain": [
       "{1/3: 1, 1/2: 1, 1: 1}"
      ]
     },
     "execution_count": 24,
     "metadata": {},
     "output_type": "execute_result"
    }
   ],
   "source": [
    "(A.inv()).eigenvals()"
   ]
  },
  {
   "cell_type": "markdown",
   "metadata": {},
   "source": [
    "* The eigenvectors will be as follows (exactly the same)"
   ]
  },
  {
   "cell_type": "code",
   "execution_count": 25,
   "metadata": {
    "collapsed": false,
    "jupyter": {
     "outputs_hidden": false
    }
   },
   "outputs": [
    {
     "data": {
      "text/latex": [
       "$$\\begin{bmatrix}\\begin{pmatrix}1, & 1, & \\begin{bmatrix}\\left[\\begin{matrix}1\\\\0\\\\0\\end{matrix}\\right]\\end{bmatrix}\\end{pmatrix}, & \\begin{pmatrix}4, & 1, & \\begin{bmatrix}\\left[\\begin{matrix}-1\\\\-2\\\\1\\end{matrix}\\right]\\end{bmatrix}\\end{pmatrix}, & \\begin{pmatrix}9, & 1, & \\begin{bmatrix}\\left[\\begin{matrix}\\frac{1}{2}\\\\-1\\\\1\\end{matrix}\\right]\\end{bmatrix}\\end{pmatrix}\\end{bmatrix}$$"
      ],
      "text/plain": [
       "⎡⎛1, 1, ⎡⎡1⎤⎤⎞, ⎛4, 1, ⎡⎡-1⎤⎤⎞, ⎛9, 1, ⎡⎡1/2⎤⎤⎞⎤\n",
       "⎢⎜      ⎢⎢ ⎥⎥⎟  ⎜      ⎢⎢  ⎥⎥⎟  ⎜      ⎢⎢   ⎥⎥⎟⎥\n",
       "⎢⎜      ⎢⎢0⎥⎥⎟  ⎜      ⎢⎢-2⎥⎥⎟  ⎜      ⎢⎢-1 ⎥⎥⎟⎥\n",
       "⎢⎜      ⎢⎢ ⎥⎥⎟  ⎜      ⎢⎢  ⎥⎥⎟  ⎜      ⎢⎢   ⎥⎥⎟⎥\n",
       "⎣⎝      ⎣⎣0⎦⎦⎠  ⎝      ⎣⎣1 ⎦⎦⎠  ⎝      ⎣⎣ 1 ⎦⎦⎠⎦"
      ]
     },
     "execution_count": 25,
     "metadata": {},
     "output_type": "execute_result"
    }
   ],
   "source": [
    "(A ** 2).eigenvects()"
   ]
  },
  {
   "cell_type": "code",
   "execution_count": 26,
   "metadata": {
    "collapsed": false,
    "jupyter": {
     "outputs_hidden": false
    }
   },
   "outputs": [
    {
     "data": {
      "text/latex": [
       "$$\\begin{bmatrix}\\begin{pmatrix}\\frac{1}{3}, & 1, & \\begin{bmatrix}\\left[\\begin{matrix}\\frac{1}{2}\\\\-1\\\\1\\end{matrix}\\right]\\end{bmatrix}\\end{pmatrix}, & \\begin{pmatrix}\\frac{1}{2}, & 1, & \\begin{bmatrix}\\left[\\begin{matrix}-1\\\\-2\\\\1\\end{matrix}\\right]\\end{bmatrix}\\end{pmatrix}, & \\begin{pmatrix}1, & 1, & \\begin{bmatrix}\\left[\\begin{matrix}1\\\\0\\\\0\\end{matrix}\\right]\\end{bmatrix}\\end{pmatrix}\\end{bmatrix}$$"
      ],
      "text/plain": [
       "⎡⎛1/3, 1, ⎡⎡1/2⎤⎤⎞, ⎛1/2, 1, ⎡⎡-1⎤⎤⎞, ⎛1, 1, ⎡⎡1⎤⎤⎞⎤\n",
       "⎢⎜        ⎢⎢   ⎥⎥⎟  ⎜        ⎢⎢  ⎥⎥⎟  ⎜      ⎢⎢ ⎥⎥⎟⎥\n",
       "⎢⎜        ⎢⎢-1 ⎥⎥⎟  ⎜        ⎢⎢-2⎥⎥⎟  ⎜      ⎢⎢0⎥⎥⎟⎥\n",
       "⎢⎜        ⎢⎢   ⎥⎥⎟  ⎜        ⎢⎢  ⎥⎥⎟  ⎜      ⎢⎢ ⎥⎥⎟⎥\n",
       "⎣⎝        ⎣⎣ 1 ⎦⎦⎠  ⎝        ⎣⎣1 ⎦⎦⎠  ⎝      ⎣⎣0⎦⎦⎠⎦"
      ]
     },
     "execution_count": 26,
     "metadata": {},
     "output_type": "execute_result"
    }
   ],
   "source": [
    "(A.inv()).eigenvects()"
   ]
  },
  {
   "cell_type": "code",
   "execution_count": null,
   "metadata": {
    "collapsed": true,
    "jupyter": {
     "outputs_hidden": true
    }
   },
   "outputs": [],
   "source": []
  }
 ],
 "metadata": {
  "kernelspec": {
   "display_name": "Julia 1.9.3",
   "language": "julia",
   "name": "julia-1.9"
  },
  "language_info": {
   "file_extension": ".jl",
   "mimetype": "application/julia",
   "name": "julia",
   "version": "1.10.0"
  }
 },
 "nbformat": 4,
 "nbformat_minor": 4
}
