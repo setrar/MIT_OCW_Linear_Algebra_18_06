{
 "cells": [
  {
   "cell_type": "code",
   "execution_count": 3,
   "id": "6b66213c-811a-40ab-9b90-4461ffe18cf4",
   "metadata": {},
   "outputs": [],
   "source": [
    "using SymbolicGA"
   ]
  },
  {
   "cell_type": "code",
   "execution_count": 4,
   "id": "5bd26ece-26b0-4cd4-bfd2-79703024e999",
   "metadata": {},
   "outputs": [
    {
     "data": {
      "text/plain": [
       "KVector{1, Float64, 2, 2}(1.0, 2.0)"
      ]
     },
     "execution_count": 4,
     "metadata": {},
     "output_type": "execute_result"
    }
   ],
   "source": [
    "x = 1.0\n",
    "y = 2.0\n",
    "@ga 2 x::e1 + y::e2"
   ]
  },
  {
   "cell_type": "code",
   "execution_count": null,
   "id": "5c910109-48f5-4e87-bb1f-d1a366b038b6",
   "metadata": {},
   "outputs": [],
   "source": []
  }
 ],
 "metadata": {
  "kernelspec": {
   "display_name": "Julia 1.9.3",
   "language": "julia",
   "name": "julia-1.9"
  },
  "language_info": {
   "file_extension": ".jl",
   "mimetype": "application/julia",
   "name": "julia",
   "version": "1.10.0"
  }
 },
 "nbformat": 4,
 "nbformat_minor": 5
}
